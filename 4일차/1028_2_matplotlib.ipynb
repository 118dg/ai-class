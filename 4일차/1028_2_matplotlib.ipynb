{
  "nbformat": 4,
  "nbformat_minor": 0,
  "metadata": {
    "colab": {
      "name": "1028-2-matplotlib.ipynb",
      "provenance": [],
      "collapsed_sections": []
    },
    "kernelspec": {
      "name": "python3",
      "display_name": "Python 3"
    }
  },
  "cells": [
    {
      "cell_type": "markdown",
      "metadata": {
        "id": "cReasf6zJbEi"
      },
      "source": [
        "# 1. Matplotlib 이란?\n",
        "\n",
        "\n",
        "matplotlib은 다양한 데이터를 많은 방법으로 도식화 할 수 있도록 하는 파이썬 라이브러리로써, 우리는 matplotlib의 pyplot을 이용하게 됩니다.\n",
        "\n",
        "이는 mathworks에서 개발한 매트랩(MATLAB)과 비슷한 형태를 가지고 있습니다.\n",
        "\n",
        "matplotlib을 이용하면 우리가 이전에 알아본 numpy나 pandas에서 사용되는 자료구조를 쉽게 시각화 할 수 있습니다.\n",
        "\n",
        "\n",
        "matplotlib을 사용하기 위해서는 먼저 matplotlib을 설치하고 아래와 같이 import를 해주어야 합니다.\n",
        "\n",
        "\n",
        "```python\n",
        "import matplotlib\n",
        "import matplotlib.pyplot as plt\n",
        "```\n",
        "\n",
        "또한 jupyter notebook에서 그래프를 제대로 확인하기 위해서는 아래와 같은 매직 커맨드를 작성해주셔야 합니다.\n",
        "\n",
        "```\n",
        "%matplotlib inline\n",
        "```\n",
        "\n",
        "이러한 매직커맨드는 맨 뒤에 inline 이외에도 우리가 아래에서 사용하는 nbagg 등의 다양한 속성이 있습니다.\n"
      ]
    },
    {
      "cell_type": "markdown",
      "metadata": {
        "id": "kK7zmhhQL3Y1"
      },
      "source": [
        "## Matplotlib 기초\n",
        "1. Matplotlib 이란?"
      ]
    },
    {
      "cell_type": "code",
      "metadata": {
        "id": "MtTKvINLJHCj"
      },
      "source": [
        "import matplotlib\n",
        "import matplotlib.pyplot as plt\n",
        "%matplotlib nbagg\n",
        "%matplotlib inline\n",
        "#위와 같이 %로 시작하는 것을 jupyter notebook의 magic command라고 한다.\n",
        "# %who는 변수명의 리스트를 보여주고 %magic 은 모든 매직명령어를 보여준다."
      ],
      "execution_count": 1,
      "outputs": []
    },
    {
      "cell_type": "code",
      "metadata": {
        "id": "L0qH4DC8uIRd"
      },
      "source": [
        "%magic"
      ],
      "execution_count": 2,
      "outputs": []
    },
    {
      "cell_type": "code",
      "metadata": {
        "id": "7w9sOSveuRYr"
      },
      "source": [
        "# matplotlib 을 jupyter notebook에서 사용할 때, plot의 이미지를 보여주기 위해 magic command를 사용하는데,\n",
        "# 우리가 사용하는 nbagg에 대해서는 다음 링크에서 확인할 수 있다.\n",
        "# https://matplotlib.org/users/prev_whats_new/whats_new_1.4.html#the-nbagg-backend\n",
        "# 이때 우리가 사용하는 nbagg 이외에도 다음과 같은 요소를 사용할 수 있다.\n",
        "# Available matplotlib backends: ['osx', 'qt4', 'qt5', 'gtk3', 'notebook', 'wx', 'qt', 'nbagg','gtk', 'tk', 'inline']\n",
        "import numpy as np\n",
        "import pandas as pd"
      ],
      "execution_count": 3,
      "outputs": []
    },
    {
      "cell_type": "markdown",
      "metadata": {
        "id": "lJQ_RcSzL_hv"
      },
      "source": [
        "### 2. Plot의 종류\n",
        "Line plot 그리기"
      ]
    },
    {
      "cell_type": "code",
      "metadata": {
        "id": "VB36l0d1L-FE",
        "outputId": "a8b53ff7-526b-40de-f502-ed14b0c46f63",
        "colab": {
          "base_uri": "https://localhost:8080/",
          "height": 210
        }
      },
      "source": [
        "# Series를 통한 line plot 그리기\n",
        "s = pd.Series(np.random.randn(10).cumsum(), index=np.arange(0, 100, 10))  # 행은 0~1랜덤 10개 누적합 열은 0부터 100까지 10간격\n",
        "# numpy.arange([start, ] stop, [step, ] dtype=None)\n",
        "s"
      ],
      "execution_count": 4,
      "outputs": [
        {
          "output_type": "execute_result",
          "data": {
            "text/plain": [
              "0     0.627272\n",
              "10   -0.826162\n",
              "20    0.267594\n",
              "30    0.527492\n",
              "40   -1.893626\n",
              "50   -1.031880\n",
              "60   -1.968105\n",
              "70   -1.503950\n",
              "80   -2.787710\n",
              "90   -2.036085\n",
              "dtype: float64"
            ]
          },
          "metadata": {
            "tags": []
          },
          "execution_count": 4
        }
      ]
    },
    {
      "cell_type": "code",
      "metadata": {
        "id": "tXJEPoAbMEjz",
        "outputId": "441c30cd-9f5e-4427-d6a6-4c08ae908379",
        "colab": {
          "base_uri": "https://localhost:8080/",
          "height": 282
        }
      },
      "source": [
        "# 위에서 정의한 s라는 시리즈에 대해서 line plot을 그리고 싶다면?\n",
        "s.plot()"
      ],
      "execution_count": 5,
      "outputs": [
        {
          "output_type": "execute_result",
          "data": {
            "text/plain": [
              "<matplotlib.axes._subplots.AxesSubplot at 0x7f6f22c194a8>"
            ]
          },
          "metadata": {
            "tags": []
          },
          "execution_count": 5
        },
        {
          "output_type": "display_data",
          "data": {
            "image/png": "[encoded data removed]",
            "text/plain": [
              "<Figure size 432x288 with 1 Axes>"
            ]
          },
          "metadata": {
            "tags": [],
            "needs_background": "light"
          }
        }
      ]
    },
    {
      "cell_type": "markdown",
      "metadata": {
        "id": "vOvHQ9neMPsk"
      },
      "source": [
        "s 라는 Series에서의 index와 value를 통해 그래프가 그려졌다."
      ]
    },
    {
      "cell_type": "code",
      "metadata": {
        "id": "F28f4HnBMQnW",
        "outputId": "25c58599-652f-462f-f720-b7f26ec4b934",
        "colab": {
          "base_uri": "https://localhost:8080/",
          "height": 335
        }
      },
      "source": [
        "# DataFrame을 통한 line plot 그리기\n",
        "df = pd.DataFrame(np.random.randn(10, 4).cumsum(axis=0),    # 10X4 크기의 0~1범위를 갖는 랜덤 넘버 행 기준 누적합\n",
        "                  columns=[\"A\", \"B\", \"C\", \"D\"],\n",
        "                  index=np.arange(0, 100, 10))\n",
        "df"
      ],
      "execution_count": 6,
      "outputs": [
        {
          "output_type": "execute_result",
          "data": {
            "text/html": [
              "<div>\n",
              "<style scoped>\n",
              "    .dataframe tbody tr th:only-of-type {\n",
              "        vertical-align: middle;\n",
              "    }\n",
              "\n",
              "    .dataframe tbody tr th {\n",
              "        vertical-align: top;\n",
              "    }\n",
              "\n",
              "    .dataframe thead th {\n",
              "        text-align: right;\n",
              "    }\n",
              "</style>\n",
              "<table border=\"1\" class=\"dataframe\">\n",
              "  <thead>\n",
              "    <tr style=\"text-align: right;\">\n",
              "      <th></th>\n",
              "      <th>A</th>\n",
              "      <th>B</th>\n",
              "      <th>C</th>\n",
              "      <th>D</th>\n",
              "    </tr>\n",
              "  </thead>\n",
              "  <tbody>\n",
              "    <tr>\n",
              "      <th>0</th>\n",
              "      <td>1.328772</td>\n",
              "      <td>0.527676</td>\n",
              "      <td>0.537962</td>\n",
              "      <td>0.094090</td>\n",
              "    </tr>\n",
              "    <tr>\n",
              "      <th>10</th>\n",
              "      <td>1.278988</td>\n",
              "      <td>-0.910096</td>\n",
              "      <td>-1.004438</td>\n",
              "      <td>0.202402</td>\n",
              "    </tr>\n",
              "    <tr>\n",
              "      <th>20</th>\n",
              "      <td>0.812540</td>\n",
              "      <td>-0.496094</td>\n",
              "      <td>-0.110327</td>\n",
              "      <td>1.666894</td>\n",
              "    </tr>\n",
              "    <tr>\n",
              "      <th>30</th>\n",
              "      <td>0.580682</td>\n",
              "      <td>0.941693</td>\n",
              "      <td>1.617889</td>\n",
              "      <td>2.347004</td>\n",
              "    </tr>\n",
              "    <tr>\n",
              "      <th>40</th>\n",
              "      <td>1.254131</td>\n",
              "      <td>0.354420</td>\n",
              "      <td>1.761873</td>\n",
              "      <td>2.948920</td>\n",
              "    </tr>\n",
              "    <tr>\n",
              "      <th>50</th>\n",
              "      <td>0.002268</td>\n",
              "      <td>1.243579</td>\n",
              "      <td>4.069376</td>\n",
              "      <td>2.519657</td>\n",
              "    </tr>\n",
              "    <tr>\n",
              "      <th>60</th>\n",
              "      <td>0.900405</td>\n",
              "      <td>2.861130</td>\n",
              "      <td>3.035214</td>\n",
              "      <td>3.062480</td>\n",
              "    </tr>\n",
              "    <tr>\n",
              "      <th>70</th>\n",
              "      <td>0.208107</td>\n",
              "      <td>1.317169</td>\n",
              "      <td>3.396956</td>\n",
              "      <td>1.654192</td>\n",
              "    </tr>\n",
              "    <tr>\n",
              "      <th>80</th>\n",
              "      <td>0.059690</td>\n",
              "      <td>0.968752</td>\n",
              "      <td>4.942686</td>\n",
              "      <td>2.957318</td>\n",
              "    </tr>\n",
              "    <tr>\n",
              "      <th>90</th>\n",
              "      <td>0.546603</td>\n",
              "      <td>1.212456</td>\n",
              "      <td>3.859381</td>\n",
              "      <td>2.090324</td>\n",
              "    </tr>\n",
              "  </tbody>\n",
              "</table>\n",
              "</div>"
            ],
            "text/plain": [
              "           A         B         C         D\n",
              "0   1.328772  0.527676  0.537962  0.094090\n",
              "10  1.278988 -0.910096 -1.004438  0.202402\n",
              "20  0.812540 -0.496094 -0.110327  1.666894\n",
              "30  0.580682  0.941693  1.617889  2.347004\n",
              "40  1.254131  0.354420  1.761873  2.948920\n",
              "50  0.002268  1.243579  4.069376  2.519657\n",
              "60  0.900405  2.861130  3.035214  3.062480\n",
              "70  0.208107  1.317169  3.396956  1.654192\n",
              "80  0.059690  0.968752  4.942686  2.957318\n",
              "90  0.546603  1.212456  3.859381  2.090324"
            ]
          },
          "metadata": {
            "tags": []
          },
          "execution_count": 6
        }
      ]
    },
    {
      "cell_type": "code",
      "metadata": {
        "id": "OUGje5wNMSCc",
        "outputId": "85ce7ed5-4520-4ad5-fc6d-9d65bbf13d20",
        "colab": {
          "base_uri": "https://localhost:8080/",
          "height": 282
        }
      },
      "source": [
        "df.plot()"
      ],
      "execution_count": 7,
      "outputs": [
        {
          "output_type": "execute_result",
          "data": {
            "text/plain": [
              "<matplotlib.axes._subplots.AxesSubplot at 0x7f6f22b58390>"
            ]
          },
          "metadata": {
            "tags": []
          },
          "execution_count": 7
        },
        {
          "output_type": "display_data",
          "data": {
            "image/png": "[encoded data removed]",
            "text/plain": [
              "<Figure size 432x288 with 1 Axes>"
            ]
          },
          "metadata": {
            "tags": [],
            "needs_background": "light"
          }
        }
      ]
    },
    {
      "cell_type": "code",
      "metadata": {
        "id": "WwtmFxwQMTXE",
        "outputId": "4f5cd8eb-64d1-4f5e-ac28-5559a7b8ddf9",
        "colab": {
          "base_uri": "https://localhost:8080/",
          "height": 285
        }
      },
      "source": [
        "# 하나의 열에 대해서만 보고 싶다면?\n",
        "df['B'].plot()"
      ],
      "execution_count": 8,
      "outputs": [
        {
          "output_type": "execute_result",
          "data": {
            "text/plain": [
              "<matplotlib.axes._subplots.AxesSubplot at 0x7f6f22aae9b0>"
            ]
          },
          "metadata": {
            "tags": []
          },
          "execution_count": 8
        },
        {
          "output_type": "display_data",
          "data": {
            "image/png": "[encoded data removed]",
            "text/plain": [
              "<Figure size 432x288 with 1 Axes>"
            ]
          },
          "metadata": {
            "tags": [],
            "needs_background": "light"
          }
        }
      ]
    },
    {
      "cell_type": "markdown",
      "metadata": {
        "id": "ip20n_qwpeT9"
      },
      "source": [
        "### Bar plot 그리기"
      ]
    },
    {
      "cell_type": "code",
      "metadata": {
        "id": "7scc0mq8MUvf",
        "outputId": "27a2aa74-c2b2-4619-af38-136b7330dfc4",
        "colab": {
          "base_uri": "https://localhost:8080/",
          "height": 315
        }
      },
      "source": [
        "s2 = pd.Series(np.random.rand(16), index=list(\"abcdefghijklmnop\"))\n",
        "s2"
      ],
      "execution_count": 9,
      "outputs": [
        {
          "output_type": "execute_result",
          "data": {
            "text/plain": [
              "a    0.791079\n",
              "b    0.395317\n",
              "c    0.407227\n",
              "d    0.615952\n",
              "e    0.543430\n",
              "f    0.431925\n",
              "g    0.691265\n",
              "h    0.668306\n",
              "i    0.151740\n",
              "j    0.677675\n",
              "k    0.694675\n",
              "l    0.766290\n",
              "m    0.804694\n",
              "n    0.081740\n",
              "o    0.639273\n",
              "p    0.606338\n",
              "dtype: float64"
            ]
          },
          "metadata": {
            "tags": []
          },
          "execution_count": 9
        }
      ]
    },
    {
      "cell_type": "code",
      "metadata": {
        "id": "I0GTrvrapmFd",
        "outputId": "5ecc4eaf-58b3-4498-e334-683a34d5bb63",
        "colab": {
          "base_uri": "https://localhost:8080/",
          "height": 282
        }
      },
      "source": [
        "s2.plot(kind='bar')"
      ],
      "execution_count": 10,
      "outputs": [
        {
          "output_type": "execute_result",
          "data": {
            "text/plain": [
              "<matplotlib.axes._subplots.AxesSubplot at 0x7f6f22a13588>"
            ]
          },
          "metadata": {
            "tags": []
          },
          "execution_count": 10
        },
        {
          "output_type": "display_data",
          "data": {
            "image/png": "[encoded data removed]",
            "text/plain": [
              "<Figure size 432x288 with 1 Axes>"
            ]
          },
          "metadata": {
            "tags": [],
            "needs_background": "light"
          }
        }
      ]
    },
    {
      "cell_type": "code",
      "metadata": {
        "id": "Sp8opwCspqjv",
        "outputId": "50818052-54ba-4191-853c-8fa331c2629f",
        "colab": {
          "base_uri": "https://localhost:8080/",
          "height": 282
        }
      },
      "source": [
        "# 가로방향의 bar plot그리기\n",
        "s2.plot(kind='barh')"
      ],
      "execution_count": 11,
      "outputs": [
        {
          "output_type": "execute_result",
          "data": {
            "text/plain": [
              "<matplotlib.axes._subplots.AxesSubplot at 0x7f6f229b86a0>"
            ]
          },
          "metadata": {
            "tags": []
          },
          "execution_count": 11
        },
        {
          "output_type": "display_data",
          "data": {
            "image/png": "[encoded data removed]",
            "text/plain": [
              "<Figure size 432x288 with 1 Axes>"
            ]
          },
          "metadata": {
            "tags": [],
            "needs_background": "light"
          }
        }
      ]
    },
    {
      "cell_type": "code",
      "metadata": {
        "id": "13FVnwHnprFv",
        "outputId": "2e465b9d-2f1a-434b-f116-fbda584e6e33",
        "colab": {
          "base_uri": "https://localhost:8080/",
          "height": 220
        }
      },
      "source": [
        "df2 = pd.DataFrame(np.random.rand(6, 4), \n",
        "                   index=[\"one\", \"two\", \"three\", \"four\", \"five\", \"six\"],\n",
        "                   columns=pd.Index([\"A\", \"B\", \"C\", \"D\"], name=\"Numbers\"))\n",
        "df2"
      ],
      "execution_count": 12,
      "outputs": [
        {
          "output_type": "execute_result",
          "data": {
            "text/html": [
              "<div>\n",
              "<style scoped>\n",
              "    .dataframe tbody tr th:only-of-type {\n",
              "        vertical-align: middle;\n",
              "    }\n",
              "\n",
              "    .dataframe tbody tr th {\n",
              "        vertical-align: top;\n",
              "    }\n",
              "\n",
              "    .dataframe thead th {\n",
              "        text-align: right;\n",
              "    }\n",
              "</style>\n",
              "<table border=\"1\" class=\"dataframe\">\n",
              "  <thead>\n",
              "    <tr style=\"text-align: right;\">\n",
              "      <th>Numbers</th>\n",
              "      <th>A</th>\n",
              "      <th>B</th>\n",
              "      <th>C</th>\n",
              "      <th>D</th>\n",
              "    </tr>\n",
              "  </thead>\n",
              "  <tbody>\n",
              "    <tr>\n",
              "      <th>one</th>\n",
              "      <td>0.159630</td>\n",
              "      <td>0.498828</td>\n",
              "      <td>0.468048</td>\n",
              "      <td>0.912370</td>\n",
              "    </tr>\n",
              "    <tr>\n",
              "      <th>two</th>\n",
              "      <td>0.640615</td>\n",
              "      <td>0.741674</td>\n",
              "      <td>0.825197</td>\n",
              "      <td>0.974416</td>\n",
              "    </tr>\n",
              "    <tr>\n",
              "      <th>three</th>\n",
              "      <td>0.980874</td>\n",
              "      <td>0.057863</td>\n",
              "      <td>0.793207</td>\n",
              "      <td>0.063067</td>\n",
              "    </tr>\n",
              "    <tr>\n",
              "      <th>four</th>\n",
              "      <td>0.690609</td>\n",
              "      <td>0.894343</td>\n",
              "      <td>0.710529</td>\n",
              "      <td>0.797402</td>\n",
              "    </tr>\n",
              "    <tr>\n",
              "      <th>five</th>\n",
              "      <td>0.743995</td>\n",
              "      <td>0.929165</td>\n",
              "      <td>0.695817</td>\n",
              "      <td>0.239169</td>\n",
              "    </tr>\n",
              "    <tr>\n",
              "      <th>six</th>\n",
              "      <td>0.080127</td>\n",
              "      <td>0.582569</td>\n",
              "      <td>0.842211</td>\n",
              "      <td>0.860624</td>\n",
              "    </tr>\n",
              "  </tbody>\n",
              "</table>\n",
              "</div>"
            ],
            "text/plain": [
              "Numbers         A         B         C         D\n",
              "one      0.159630  0.498828  0.468048  0.912370\n",
              "two      0.640615  0.741674  0.825197  0.974416\n",
              "three    0.980874  0.057863  0.793207  0.063067\n",
              "four     0.690609  0.894343  0.710529  0.797402\n",
              "five     0.743995  0.929165  0.695817  0.239169\n",
              "six      0.080127  0.582569  0.842211  0.860624"
            ]
          },
          "metadata": {
            "tags": []
          },
          "execution_count": 12
        }
      ]
    },
    {
      "cell_type": "code",
      "metadata": {
        "id": "Odk_7QTTptxh",
        "outputId": "94f44f41-6215-4095-86c9-d57de8fe28f4",
        "colab": {
          "base_uri": "https://localhost:8080/",
          "height": 300
        }
      },
      "source": [
        "df2.plot(kind='bar')"
      ],
      "execution_count": 13,
      "outputs": [
        {
          "output_type": "execute_result",
          "data": {
            "text/plain": [
              "<matplotlib.axes._subplots.AxesSubplot at 0x7f6f228de978>"
            ]
          },
          "metadata": {
            "tags": []
          },
          "execution_count": 13
        },
        {
          "output_type": "display_data",
          "data": {
            "image/png": "[encoded data removed]",
            "text/plain": [
              "<Figure size 432x288 with 1 Axes>"
            ]
          },
          "metadata": {
            "tags": [],
            "needs_background": "light"
          }
        }
      ]
    },
    {
      "cell_type": "markdown",
      "metadata": {
        "id": "_u5KpU7P9xjw"
      },
      "source": [
        "아래와 같이 Stacked 속성을 True로 설정하면, 하나의 인덱스에 대한 각 열의 값을 한줄로 쌓아서 나타내준다."
      ]
    },
    {
      "cell_type": "code",
      "metadata": {
        "id": "3U5z8SSopvpW",
        "outputId": "3f75ff54-dce5-4d1e-809f-93ecdc13fdfc",
        "colab": {
          "base_uri": "https://localhost:8080/",
          "height": 282
        }
      },
      "source": [
        "df2.plot(kind='barh', stacked=True)"
      ],
      "execution_count": 14,
      "outputs": [
        {
          "output_type": "execute_result",
          "data": {
            "text/plain": [
              "<matplotlib.axes._subplots.AxesSubplot at 0x7f6f2281a630>"
            ]
          },
          "metadata": {
            "tags": []
          },
          "execution_count": 14
        },
        {
          "output_type": "display_data",
          "data": {
            "image/png": "[encoded data removed]",
            "text/plain": [
              "<Figure size 432x288 with 1 Axes>"
            ]
          },
          "metadata": {
            "tags": [],
            "needs_background": "light"
          }
        }
      ]
    },
    {
      "cell_type": "markdown",
      "metadata": {
        "id": "1oh0xOZ-p4aR"
      },
      "source": [
        "### Histogram 그리기"
      ]
    },
    {
      "cell_type": "code",
      "metadata": {
        "id": "CXMPxQREpyMX",
        "outputId": "3bbb37c2-bbd4-49f7-f6ac-49292750c739",
        "colab": {
          "base_uri": "https://localhost:8080/",
          "height": 227
        }
      },
      "source": [
        "# histogram은 index가 필요없다.\n",
        "s3 = pd.Series(np.random.normal(0, 1, size=200))\n",
        "s3\n",
        "# np.random.normal(정규분포 평균, 표준편차, (행, 열) or 개수)"
      ],
      "execution_count": 15,
      "outputs": [
        {
          "output_type": "execute_result",
          "data": {
            "text/plain": [
              "0      0.268322\n",
              "1      0.095943\n",
              "2     -0.543049\n",
              "3     -0.453921\n",
              "4     -0.489328\n",
              "         ...   \n",
              "195    1.314746\n",
              "196   -1.318792\n",
              "197    0.421855\n",
              "198    0.187094\n",
              "199   -0.694673\n",
              "Length: 200, dtype: float64"
            ]
          },
          "metadata": {
            "tags": []
          },
          "execution_count": 15
        }
      ]
    },
    {
      "cell_type": "code",
      "metadata": {
        "id": "vnFcLi9Dp11Y",
        "outputId": "fb38cd4e-dab5-4f19-f914-2393014c6f8c",
        "colab": {
          "base_uri": "https://localhost:8080/",
          "height": 282
        }
      },
      "source": [
        "s3.hist()"
      ],
      "execution_count": 16,
      "outputs": [
        {
          "output_type": "execute_result",
          "data": {
            "text/plain": [
              "<matplotlib.axes._subplots.AxesSubplot at 0x7f6f2274d6d8>"
            ]
          },
          "metadata": {
            "tags": []
          },
          "execution_count": 16
        },
        {
          "output_type": "display_data",
          "data": {
            "image/png": "[encoded data removed]",
            "text/plain": [
              "<Figure size 432x288 with 1 Axes>"
            ]
          },
          "metadata": {
            "tags": [],
            "needs_background": "light"
          }
        }
      ]
    },
    {
      "cell_type": "markdown",
      "metadata": {
        "id": "3awkUPJWp_Na"
      },
      "source": [
        "x 축의 구간 개수를 bin이라고 한다.\n",
        "\n",
        "이를 직접 설정할 수도 있다."
      ]
    },
    {
      "cell_type": "code",
      "metadata": {
        "id": "GBDhMUT6p9rE",
        "outputId": "ddc2a0df-9542-401f-f655-4f20eedda6f8",
        "colab": {
          "base_uri": "https://localhost:8080/",
          "height": 282
        }
      },
      "source": [
        "s3.hist(bins=50)"
      ],
      "execution_count": 17,
      "outputs": [
        {
          "output_type": "execute_result",
          "data": {
            "text/plain": [
              "<matplotlib.axes._subplots.AxesSubplot at 0x7f6f226d3978>"
            ]
          },
          "metadata": {
            "tags": []
          },
          "execution_count": 17
        },
        {
          "output_type": "display_data",
          "data": {
            "image/png": "[encoded data removed]",
            "text/plain": [
              "<Figure size 432x288 with 1 Axes>"
            ]
          },
          "metadata": {
            "tags": [],
            "needs_background": "light"
          }
        }
      ]
    },
    {
      "cell_type": "markdown",
      "metadata": {
        "id": "8JKUfzLuqKaK"
      },
      "source": [
        "### 산점도(Scatter plot) 그리기\n",
        "산점도의 경우에는 서로 다른 두 개의 독립변수에 대해 두 변수가 어떤 관계가 있는지 살펴보기 위해 사용된다."
      ]
    },
    {
      "cell_type": "code",
      "metadata": {
        "id": "EthQKHoyqDua",
        "outputId": "12dce561-ab4e-49a8-a415-991d78be35a9",
        "colab": {
          "base_uri": "https://localhost:8080/",
          "height": 1000
        }
      },
      "source": [
        "x1 = np.random.normal(1, 1, size=(100, 1)) # 평균 1 표준편차 1 크기 100X1\n",
        "x2 = np.random.normal(-2, 4, size=(100, 1))\n",
        "X = np.concatenate((x1, x2), axis=1)    # 두 열로 합치기\n",
        "X"
      ],
      "execution_count": 18,
      "outputs": [
        {
          "output_type": "execute_result",
          "data": {
            "text/plain": [
              "array([[ 2.43415456e+00,  2.00712812e+00],\n",
              "       [ 3.06248807e+00, -5.43825915e+00],\n",
              "       [ 4.28720950e-01,  4.41061729e-01],\n",
              "       [ 1.66174060e+00,  1.60392263e+00],\n",
              "       [ 3.66792475e-02, -1.89712835e+00],\n",
              "       [ 1.56224648e+00, -5.10541899e+00],\n",
              "       [ 1.11423336e+00, -5.34739645e+00],\n",
              "       [-3.58782205e-01, -3.47596314e+00],\n",
              "       [ 1.07483734e+00, -7.91172598e+00],\n",
              "       [-5.56750683e-03, -4.08223433e+00],\n",
              "       [ 1.21553714e+00, -7.00928212e-01],\n",
              "       [ 1.17507139e-02, -5.66044727e+00],\n",
              "       [ 9.51141866e-01, -1.11476097e+00],\n",
              "       [ 2.03975015e+00,  9.99160096e-01],\n",
              "       [ 5.15045602e-01, -4.50225621e+00],\n",
              "       [-2.95750724e-01, -1.36275287e+00],\n",
              "       [ 1.31212017e+00,  1.25116529e+00],\n",
              "       [ 1.50478396e+00,  7.81504266e-01],\n",
              "       [ 2.08415914e+00, -2.26851687e+00],\n",
              "       [ 1.13337857e+00,  9.74807566e-01],\n",
              "       [ 4.47699655e-01, -2.83516167e+00],\n",
              "       [-3.46521299e-02,  2.56380392e+00],\n",
              "       [ 1.14929152e+00,  3.74231813e+00],\n",
              "       [ 1.63254453e+00,  6.75683954e-01],\n",
              "       [-5.50410408e-02,  6.00796514e-01],\n",
              "       [ 1.56626665e+00, -4.92031154e+00],\n",
              "       [ 2.41626815e+00, -4.55198971e+00],\n",
              "       [ 1.87865071e+00,  8.79559508e-01],\n",
              "       [ 8.62345904e-01,  2.33066664e+00],\n",
              "       [ 2.71537495e+00, -3.52647320e-01],\n",
              "       [ 4.15686398e-02, -3.84472652e+00],\n",
              "       [ 2.58237176e+00,  2.33560373e-01],\n",
              "       [ 7.62099607e-01,  2.36917484e+00],\n",
              "       [ 1.38341278e+00, -4.58731039e+00],\n",
              "       [ 1.66360827e+00, -2.42130780e-01],\n",
              "       [-1.76486643e+00, -5.88719768e+00],\n",
              "       [ 2.44526719e+00, -2.25748267e+00],\n",
              "       [ 1.54428072e+00, -6.22687511e+00],\n",
              "       [ 1.02542880e+00, -9.46116414e-01],\n",
              "       [ 2.60403442e+00, -6.57204362e+00],\n",
              "       [ 7.62944304e-01, -7.12795555e+00],\n",
              "       [ 2.21051768e+00,  4.28976848e+00],\n",
              "       [ 1.63249637e+00, -1.80518186e-01],\n",
              "       [ 1.45272705e+00, -6.60768203e+00],\n",
              "       [ 3.32998899e+00, -1.71968391e+00],\n",
              "       [ 1.01125087e+00, -4.12649498e+00],\n",
              "       [ 1.25530167e+00, -4.63036393e-01],\n",
              "       [ 1.13096342e+00, -5.19932060e+00],\n",
              "       [ 2.17288241e+00,  9.65913091e+00],\n",
              "       [ 2.13530418e+00, -2.22252848e+00],\n",
              "       [ 1.08585974e+00, -4.88874523e+00],\n",
              "       [ 1.04640632e+00, -7.86029557e+00],\n",
              "       [ 1.80345129e+00, -1.52804406e+00],\n",
              "       [ 2.17641545e-01,  8.19104826e+00],\n",
              "       [ 1.78729598e-01, -6.26726637e+00],\n",
              "       [ 2.53746883e-01,  4.43425253e+00],\n",
              "       [ 2.87223681e-01, -9.33550015e+00],\n",
              "       [ 6.61952205e-01, -7.26332380e-01],\n",
              "       [-6.99078668e-01, -9.22377519e+00],\n",
              "       [-5.64249610e-01,  6.42188550e+00],\n",
              "       [ 1.10435457e+00, -1.58836906e+00],\n",
              "       [ 1.96651803e-01, -1.08970282e+01],\n",
              "       [ 1.36854883e+00, -4.60119534e+00],\n",
              "       [ 2.53698161e-01,  1.81379817e+00],\n",
              "       [ 1.96860728e+00, -2.92006729e+00],\n",
              "       [ 1.03126314e+00,  1.74308170e+00],\n",
              "       [ 6.68772297e-01,  2.68716638e-01],\n",
              "       [ 1.69383233e+00,  1.00171233e+00],\n",
              "       [ 2.65568064e+00, -3.26359818e+00],\n",
              "       [ 1.52653133e+00,  2.14682597e-01],\n",
              "       [ 1.51898063e+00, -2.91834546e+00],\n",
              "       [ 1.26323850e+00, -4.77386357e+00],\n",
              "       [ 6.42887090e-01, -3.48460467e+00],\n",
              "       [ 1.81942852e+00,  3.96714966e+00],\n",
              "       [ 7.78401288e-01, -1.33756208e+00],\n",
              "       [ 6.77913593e-02, -5.50197635e+00],\n",
              "       [ 6.76826372e-01,  4.68822157e+00],\n",
              "       [ 4.29639996e-01, -6.05229682e+00],\n",
              "       [ 6.52302141e-01, -5.67693289e+00],\n",
              "       [ 2.23585260e+00, -4.25584586e+00],\n",
              "       [ 1.93440810e+00, -1.92260632e+00],\n",
              "       [ 2.49790569e+00, -4.34591340e+00],\n",
              "       [ 1.07055541e+00,  2.75799516e+00],\n",
              "       [-2.51937217e-01, -5.79252227e+00],\n",
              "       [ 1.22363799e+00, -7.54442956e+00],\n",
              "       [ 2.32724519e+00,  5.27120648e-01],\n",
              "       [ 3.09542154e+00, -3.53550547e+00],\n",
              "       [ 1.86455359e+00, -8.10901716e-01],\n",
              "       [-2.80709137e-01,  5.45031221e-01],\n",
              "       [ 6.67643876e-01,  1.94893030e+00],\n",
              "       [ 1.84713260e+00,  1.22765548e+00],\n",
              "       [ 7.87116423e-01,  5.48131642e+00],\n",
              "       [ 3.10339114e+00, -1.81093746e-01],\n",
              "       [ 4.34233084e-01,  1.65702708e+00],\n",
              "       [ 3.12455288e-01,  1.49329696e+00],\n",
              "       [ 7.12025100e-01, -5.12052210e+00],\n",
              "       [ 1.77766670e+00,  5.16168301e+00],\n",
              "       [ 1.88134970e+00, -3.73850363e+00],\n",
              "       [ 3.53259276e-01, -2.87746928e+00],\n",
              "       [-6.47900312e-01,  2.15486995e+00]])"
            ]
          },
          "metadata": {
            "tags": []
          },
          "execution_count": 18
        }
      ]
    },
    {
      "cell_type": "code",
      "metadata": {
        "id": "g0pPtMFKqPHs",
        "outputId": "3b3b0297-298e-4b17-cd1b-2230e0b6fc85",
        "colab": {
          "base_uri": "https://localhost:8080/",
          "height": 391
        }
      },
      "source": [
        "df3 = pd.DataFrame(X, columns=[\"x1\", \"x2\"])\n",
        "df3"
      ],
      "execution_count": 19,
      "outputs": [
        {
          "output_type": "execute_result",
          "data": {
            "text/html": [
              "<div>\n",
              "<style scoped>\n",
              "    .dataframe tbody tr th:only-of-type {\n",
              "        vertical-align: middle;\n",
              "    }\n",
              "\n",
              "    .dataframe tbody tr th {\n",
              "        vertical-align: top;\n",
              "    }\n",
              "\n",
              "    .dataframe thead th {\n",
              "        text-align: right;\n",
              "    }\n",
              "</style>\n",
              "<table border=\"1\" class=\"dataframe\">\n",
              "  <thead>\n",
              "    <tr style=\"text-align: right;\">\n",
              "      <th></th>\n",
              "      <th>x1</th>\n",
              "      <th>x2</th>\n",
              "    </tr>\n",
              "  </thead>\n",
              "  <tbody>\n",
              "    <tr>\n",
              "      <th>0</th>\n",
              "      <td>2.434155</td>\n",
              "      <td>2.007128</td>\n",
              "    </tr>\n",
              "    <tr>\n",
              "      <th>1</th>\n",
              "      <td>3.062488</td>\n",
              "      <td>-5.438259</td>\n",
              "    </tr>\n",
              "    <tr>\n",
              "      <th>2</th>\n",
              "      <td>0.428721</td>\n",
              "      <td>0.441062</td>\n",
              "    </tr>\n",
              "    <tr>\n",
              "      <th>3</th>\n",
              "      <td>1.661741</td>\n",
              "      <td>1.603923</td>\n",
              "    </tr>\n",
              "    <tr>\n",
              "      <th>4</th>\n",
              "      <td>0.036679</td>\n",
              "      <td>-1.897128</td>\n",
              "    </tr>\n",
              "    <tr>\n",
              "      <th>...</th>\n",
              "      <td>...</td>\n",
              "      <td>...</td>\n",
              "    </tr>\n",
              "    <tr>\n",
              "      <th>95</th>\n",
              "      <td>0.712025</td>\n",
              "      <td>-5.120522</td>\n",
              "    </tr>\n",
              "    <tr>\n",
              "      <th>96</th>\n",
              "      <td>1.777667</td>\n",
              "      <td>5.161683</td>\n",
              "    </tr>\n",
              "    <tr>\n",
              "      <th>97</th>\n",
              "      <td>1.881350</td>\n",
              "      <td>-3.738504</td>\n",
              "    </tr>\n",
              "    <tr>\n",
              "      <th>98</th>\n",
              "      <td>0.353259</td>\n",
              "      <td>-2.877469</td>\n",
              "    </tr>\n",
              "    <tr>\n",
              "      <th>99</th>\n",
              "      <td>-0.647900</td>\n",
              "      <td>2.154870</td>\n",
              "    </tr>\n",
              "  </tbody>\n",
              "</table>\n",
              "<p>100 rows × 2 columns</p>\n",
              "</div>"
            ],
            "text/plain": [
              "          x1        x2\n",
              "0   2.434155  2.007128\n",
              "1   3.062488 -5.438259\n",
              "2   0.428721  0.441062\n",
              "3   1.661741  1.603923\n",
              "4   0.036679 -1.897128\n",
              "..       ...       ...\n",
              "95  0.712025 -5.120522\n",
              "96  1.777667  5.161683\n",
              "97  1.881350 -3.738504\n",
              "98  0.353259 -2.877469\n",
              "99 -0.647900  2.154870\n",
              "\n",
              "[100 rows x 2 columns]"
            ]
          },
          "metadata": {
            "tags": []
          },
          "execution_count": 19
        }
      ]
    },
    {
      "cell_type": "code",
      "metadata": {
        "id": "Zhp_teuNqRMu",
        "outputId": "27c2b343-7efb-4b7c-a1e0-ac5f9f01f308",
        "colab": {
          "base_uri": "https://localhost:8080/",
          "height": 282
        }
      },
      "source": [
        "plt.scatter(df3['x1'], df3['x2']) # x1이 x축, x2가 y축"
      ],
      "execution_count": 20,
      "outputs": [
        {
          "output_type": "execute_result",
          "data": {
            "text/plain": [
              "<matplotlib.collections.PathCollection at 0x7f6f225fa940>"
            ]
          },
          "metadata": {
            "tags": []
          },
          "execution_count": 20
        },
        {
          "output_type": "display_data",
          "data": {
            "image/png": "[encoded data removed]",
            "text/plain": [
              "<Figure size 432x288 with 1 Axes>"
            ]
          },
          "metadata": {
            "tags": [],
            "needs_background": "light"
          }
        }
      ]
    },
    {
      "cell_type": "markdown",
      "metadata": {
        "id": "iG-hyATmqatR"
      },
      "source": [
        "### 3. subplot 그리기"
      ]
    },
    {
      "cell_type": "code",
      "metadata": {
        "id": "T1V9qFuT_5wn",
        "outputId": "f1469ef0-2ae6-4573-8101-f1f384a181d6",
        "colab": {
          "base_uri": "https://localhost:8080/",
          "height": 377
        }
      },
      "source": [
        "plt.figure(figsize=(10,6))    # 10X6 크기의 도화지\n",
        "\n",
        "plt.subplot(2,2,1)            # 그 도화지를 2X2로 나눈 부분의 첫번째 부분에 그리기\n",
        "plt.subplot(2,2,2)            # 그 도화지를 2X2로 나눈 부분의 두번째 부분에 그리기\n",
        "plt.subplot(2,2,3)            # 그 도화지를 2X2로 나눈 부분의 세번째 부분에 그리기\n",
        "\n",
        "plt.show()"
      ],
      "execution_count": 21,
      "outputs": [
        {
          "output_type": "display_data",
          "data": {
            "image/png": "[encoded data removed]",
            "text/plain": [
              "<Figure size 720x432 with 3 Axes>"
            ]
          },
          "metadata": {
            "tags": [],
            "needs_background": "light"
          }
        }
      ]
    },
    {
      "cell_type": "code",
      "metadata": {
        "id": "QOXRN0JJ__E4",
        "outputId": "8ff18ada-1e49-49ef-f7cd-a81602d2e9a1",
        "colab": {
          "base_uri": "https://localhost:8080/",
          "height": 377
        }
      },
      "source": [
        "plt.figure(figsize=(10,6))\n",
        "\n",
        "# 이렇게 , 생략해서 쓸 수도 있다\n",
        "plt.subplot(411)  # 10,6을 4X1로 잡은 공간 중 첫번째 \n",
        "plt.subplot(423)\n",
        "plt.subplot(424)\n",
        "plt.subplot(413)\n",
        "plt.subplot(414)\n",
        "\n",
        "plt.show()\n"
      ],
      "execution_count": 22,
      "outputs": [
        {
          "output_type": "display_data",
          "data": {
            "image/png": "[encoded data removed]",
            "text/plain": [
              "<Figure size 720x432 with 5 Axes>"
            ]
          },
          "metadata": {
            "tags": [],
            "needs_background": "light"
          }
        }
      ]
    },
    {
      "cell_type": "code",
      "metadata": {
        "id": "tVHyKzTKAg-x",
        "outputId": "616cc32b-94ef-4c63-bd8d-698ba56f3337",
        "colab": {
          "base_uri": "https://localhost:8080/",
          "height": 567
        }
      },
      "source": [
        "t = np.arange(0,5,0.01)     # 가상의 정의역\n",
        "\n",
        "plt.figure(figsize=(10,12))\n",
        "\n",
        "plt.subplot(4,1,1)\n",
        "plt.plot(t,np.sqrt(t))\n",
        "plt.grid()\n",
        "\n",
        "plt.subplot(4,2,3)\n",
        "plt.plot(t,t**2)\n",
        "plt.grid()\n",
        "\n",
        "plt.subplot(4,2,4)\n",
        "plt.plot(t,t**3)\n",
        "# plt.grid()\n",
        "\n",
        "plt.subplot(4,1,3)\n",
        "plt.plot(t,np.sin(t))\n",
        "# plt.grid()\n",
        "\n",
        "plt.subplot(4,1,3)\n",
        "plt.plot(t,np.cos(t))\n",
        "# plt.grid()\n",
        "\n",
        "plt.show()"
      ],
      "execution_count": 25,
      "outputs": [
        {
          "output_type": "stream",
          "text": [
            "/usr/local/lib/python3.6/dist-packages/ipykernel_launcher.py:21: MatplotlibDeprecationWarning: Adding an axes using the same arguments as a previous axes currently reuses the earlier instance.  In a future version, a new instance will always be created and returned.  Meanwhile, this warning can be suppressed, and the future behavior ensured, by passing a unique label to each axes instance.\n"
          ],
          "name": "stderr"
        },
        {
          "output_type": "display_data",
          "data": {
            "image/png": "[encoded data removed]",
            "text/plain": [
              "<Figure size 720x864 with 4 Axes>"
            ]
          },
          "metadata": {
            "tags": [],
            "needs_background": "light"
          }
        }
      ]
    },
    {
      "cell_type": "code",
      "metadata": {
        "id": "4Gj70v1aBRDP"
      },
      "source": [
        ""
      ],
      "execution_count": 23,
      "outputs": []
    }
  ]
}