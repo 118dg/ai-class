{
  "nbformat": 4,
  "nbformat_minor": 0,
  "metadata": {
    "colab": {
      "name": "1028_1_numpy.ipynb",
      "provenance": [],
      "collapsed_sections": []
    },
    "kernelspec": {
      "name": "python3",
      "display_name": "Python 3"
    }
  },
  "cells": [
    {
      "cell_type": "markdown",
      "metadata": {
        "id": "Kastei17W6dC"
      },
      "source": [
        "# Numpy 기초\n",
        "\n",
        "## 1. Numpy 란?\n",
        "\n"
      ]
    },
    {
      "cell_type": "markdown",
      "metadata": {
        "id": "0EAB2tBYB752"
      },
      "source": [
        "![행렬](https://upload.wikimedia.org/wikipedia/commons/thumb/4/4d/Matrix_ko.svg/220px-Matrix_ko.svg.png)"
      ]
    },
    {
      "cell_type": "markdown",
      "metadata": {
        "id": "F2dl5mGrBp-Q"
      },
      "source": [
        "행렬의 기초 : https://m.blog.naver.com/ehdsnck/221794368721"
      ]
    },
    {
      "cell_type": "markdown",
      "metadata": {
        "id": "pyBkLcTaBWB7"
      },
      "source": [
        "Numpy는 C언어로 구현된 파이썬 라이브러리로써, 고성능의 수치계산을 위해 제작되었습니다. Numerical Python의 줄임말이기도 한 Numpy는 벡터 및 행렬 연산에 있어서 매우 편리한 기능을 제공합니다.\n",
        "\n",
        "또한 이는 데이터분석을 할 때 사용되는 라이브러리인 pandas와 matplotlib의 기반으로 사용되기도 합니다.\n",
        "\n",
        "numpy에서는 기본적으로 array라는 단위로 데이터를 관리하며 이에 대해 연산을 수행합니다. array는 말그대로 행렬이라는 개념으로 생각하시면 됩니다.\n",
        "\n",
        "\n",
        "\n",
        "먼저 numpy를 사용하기 위해서는 아래와 같은 코드로 numpy를 import해야 합니다.\n",
        "\n",
        "\n",
        "```python\n",
        "import numpy as np\n",
        "```\n",
        "\n",
        "\n",
        "사실상, numpy를 설치하고 단순히 import numpy 만 해도 되지만, 이를 코드에서 보다 편하게 사용하기 위해 as np 를 붙임으로써 np라는 이름으로 numpy를 사용합니다."
      ]
    },
    {
      "cell_type": "code",
      "metadata": {
        "id": "_Leh4F4FWuYg"
      },
      "source": [
        "# numpy 사용하기\n",
        "import numpy as np"
      ],
      "execution_count": 1,
      "outputs": []
    },
    {
      "cell_type": "markdown",
      "metadata": {
        "id": "DPRHi86GXIjQ"
      },
      "source": [
        "## 2. Array 정의 및 사용하기"
      ]
    },
    {
      "cell_type": "code",
      "metadata": {
        "id": "VexX5c5IXPZY",
        "colab": {
          "base_uri": "https://localhost:8080/"
        },
        "outputId": "a9b9f9ed-9bd2-4edb-c449-3cf8eeeefbb4"
      },
      "source": [
        "data1 = [1,2,3,4,5]\n",
        "data1"
      ],
      "execution_count": 2,
      "outputs": [
        {
          "output_type": "execute_result",
          "data": {
            "text/plain": [
              "[1, 2, 3, 4, 5]"
            ]
          },
          "metadata": {
            "tags": []
          },
          "execution_count": 2
        }
      ]
    },
    {
      "cell_type": "code",
      "metadata": {
        "id": "nvvbgV1aXSJy",
        "colab": {
          "base_uri": "https://localhost:8080/"
        },
        "outputId": "73dfb02d-0278-480f-d1c7-c311546c1618"
      },
      "source": [
        "data2 = [1,2,3,3.5,4]\n",
        "data2"
      ],
      "execution_count": 3,
      "outputs": [
        {
          "output_type": "execute_result",
          "data": {
            "text/plain": [
              "[1, 2, 3, 3.5, 4]"
            ]
          },
          "metadata": {
            "tags": []
          },
          "execution_count": 3
        }
      ]
    },
    {
      "cell_type": "code",
      "metadata": {
        "id": "7oPoeuxYXTwI",
        "colab": {
          "base_uri": "https://localhost:8080/"
        },
        "outputId": "e5332f33-ed29-4590-af99-bbed9f2d053b"
      },
      "source": [
        "# numpy를 이용하여 array 정의하기\n",
        "# 1. 위에서 만든 python list를 이용\n",
        "arr1 = np.array(data1)\n",
        "arr1"
      ],
      "execution_count": 4,
      "outputs": [
        {
          "output_type": "execute_result",
          "data": {
            "text/plain": [
              "array([1, 2, 3, 4, 5])"
            ]
          },
          "metadata": {
            "tags": []
          },
          "execution_count": 4
        }
      ]
    },
    {
      "cell_type": "code",
      "metadata": {
        "id": "b4_o7UkXXa2g",
        "colab": {
          "base_uri": "https://localhost:8080/"
        },
        "outputId": "813df406-653a-428d-a990-538235aaf5ed"
      },
      "source": [
        "# array의 형태(크기)를 확인할 수 있다.\n",
        "arr1.shape"
      ],
      "execution_count": 5,
      "outputs": [
        {
          "output_type": "execute_result",
          "data": {
            "text/plain": [
              "(5,)"
            ]
          },
          "metadata": {
            "tags": []
          },
          "execution_count": 5
        }
      ]
    },
    {
      "cell_type": "code",
      "metadata": {
        "id": "w0JxvPqIXfX1",
        "colab": {
          "base_uri": "https://localhost:8080/"
        },
        "outputId": "fa48237f-a895-4daa-9e1d-e7d1f7ccd763"
      },
      "source": [
        "# 2. 바로 python list를 넣어 줌으로써 만들기\n",
        "arr2 = np.array([1,2,3,4,5])\n",
        "arr2"
      ],
      "execution_count": 6,
      "outputs": [
        {
          "output_type": "execute_result",
          "data": {
            "text/plain": [
              "array([1, 2, 3, 4, 5])"
            ]
          },
          "metadata": {
            "tags": []
          },
          "execution_count": 6
        }
      ]
    },
    {
      "cell_type": "code",
      "metadata": {
        "id": "y-QR1UFNXhzf",
        "colab": {
          "base_uri": "https://localhost:8080/"
        },
        "outputId": "022a9f1c-45df-4ab0-8aed-d598b2e7fb26"
      },
      "source": [
        "arr2.shape"
      ],
      "execution_count": 7,
      "outputs": [
        {
          "output_type": "execute_result",
          "data": {
            "text/plain": [
              "(5,)"
            ]
          },
          "metadata": {
            "tags": []
          },
          "execution_count": 7
        }
      ]
    },
    {
      "cell_type": "code",
      "metadata": {
        "id": "JyS3sNJnXjqA",
        "colab": {
          "base_uri": "https://localhost:8080/"
        },
        "outputId": "7a52172c-1ebf-473e-d8e1-7eab03e97308"
      },
      "source": [
        "# array의 자료형을 확인할 수 있다.\n",
        "arr2.dtype"
      ],
      "execution_count": 8,
      "outputs": [
        {
          "output_type": "execute_result",
          "data": {
            "text/plain": [
              "dtype('int64')"
            ]
          },
          "metadata": {
            "tags": []
          },
          "execution_count": 8
        }
      ]
    },
    {
      "cell_type": "code",
      "metadata": {
        "id": "c_Vi3R_7Xmq6",
        "colab": {
          "base_uri": "https://localhost:8080/"
        },
        "outputId": "a7db0a7f-a318-45c6-a3b8-4c5112117015"
      },
      "source": [
        "arr3 = np.array(data2)\n",
        "arr3"
      ],
      "execution_count": 9,
      "outputs": [
        {
          "output_type": "execute_result",
          "data": {
            "text/plain": [
              "array([1. , 2. , 3. , 3.5, 4. ])"
            ]
          },
          "metadata": {
            "tags": []
          },
          "execution_count": 9
        }
      ]
    },
    {
      "cell_type": "code",
      "metadata": {
        "id": "QIzPnw-1XpxR",
        "colab": {
          "base_uri": "https://localhost:8080/"
        },
        "outputId": "53a9f708-1435-416d-ebee-25d9488a6aef"
      },
      "source": [
        "arr3.shape"
      ],
      "execution_count": 10,
      "outputs": [
        {
          "output_type": "execute_result",
          "data": {
            "text/plain": [
              "(5,)"
            ]
          },
          "metadata": {
            "tags": []
          },
          "execution_count": 10
        }
      ]
    },
    {
      "cell_type": "code",
      "metadata": {
        "id": "7s_7GkJNXsD_",
        "colab": {
          "base_uri": "https://localhost:8080/"
        },
        "outputId": "7b1667dc-1c93-49e6-b7f5-4050f37c8726"
      },
      "source": [
        "arr3.dtype"
      ],
      "execution_count": 11,
      "outputs": [
        {
          "output_type": "execute_result",
          "data": {
            "text/plain": [
              "dtype('float64')"
            ]
          },
          "metadata": {
            "tags": []
          },
          "execution_count": 11
        }
      ]
    },
    {
      "cell_type": "code",
      "metadata": {
        "id": "8EHebDpXX0iF",
        "colab": {
          "base_uri": "https://localhost:8080/"
        },
        "outputId": "c3bd0272-851f-4895-deda-bb2e4b9d8d48"
      },
      "source": [
        "arr4 = np.array([[1,2,3],[4,5,6],[7,8,9],[10,11,12]])\n",
        "arr4"
      ],
      "execution_count": 12,
      "outputs": [
        {
          "output_type": "execute_result",
          "data": {
            "text/plain": [
              "array([[ 1,  2,  3],\n",
              "       [ 4,  5,  6],\n",
              "       [ 7,  8,  9],\n",
              "       [10, 11, 12]])"
            ]
          },
          "metadata": {
            "tags": []
          },
          "execution_count": 12
        }
      ]
    },
    {
      "cell_type": "code",
      "metadata": {
        "id": "lD4lgEnGX20h",
        "colab": {
          "base_uri": "https://localhost:8080/"
        },
        "outputId": "470cd93d-759c-4353-d2d9-c90f5b5b1a32"
      },
      "source": [
        "arr4.shape"
      ],
      "execution_count": 13,
      "outputs": [
        {
          "output_type": "execute_result",
          "data": {
            "text/plain": [
              "(4, 3)"
            ]
          },
          "metadata": {
            "tags": []
          },
          "execution_count": 13
        }
      ]
    },
    {
      "cell_type": "markdown",
      "metadata": {
        "id": "5eYxyEXf7Wwf"
      },
      "source": [
        "### numpy shape\n",
        "\n",
        "numpy에서는 해당 array의 크기를 알 수 있다.\n",
        "\n",
        "shape 을 확인함으로써 몇개의 데이터가 있는지, 몇 차원으로 존재하는지 등을 확인할 수 있다.\n",
        "\n",
        "위에서 arr1.shape의 결과는 (5,) 으로써, 1차원의 데이터이며 총 5라는 크기를 갖고 있음을 알 수 있다.\n",
        "\n",
        "arr4.shape의 결과는 (4,3) 으로써, 2차원의 데이터이며 4 * 3 크기를 갖고 있는 array 이다.\n",
        "\n",
        "### numpy 자료형\n",
        "\n",
        "arr1이나 arr2는 int64라는 자료형을 갖는 것에 반해 arr3는 float64라는 자료형을 갖는다.\n",
        "\n",
        "이는 arr3내부 데이터를 살펴보면 3.5라는 실수형 데이터를 갖기 때문임을 알 수 있다.\n",
        "\n",
        "numpy에서 사용되는 자료형은 아래와 같다. (자료형 뒤에 붙는 숫자는 몇 비트 크기인지를 의미한다.)\n",
        "\n",
        "- 부호가 있는 정수 int(8, 16, 32, 64)\n",
        "- 부호가 없는 정수 uint(8 ,16, 32, 54)\n",
        "- 실수 float(16, 32, 64, 128)\n",
        "- 복소수 complex(64, 128, 256)\n",
        "- 불리언 bool\n",
        "- 문자열 string_\n",
        "- 파이썬 오프젝트 object\n",
        "- 유니코드 unicode_"
      ]
    },
    {
      "cell_type": "markdown",
      "metadata": {
        "id": "QhZUMju97gm2"
      },
      "source": [
        "### 2-1. np.zeros(), np.ones(), np.arange() 함수\n",
        "numpy에서 array를 정의할 때 사용되는 함수들이다.\n",
        "\n",
        "아래 실습을 통해 각각이 어떻게 다른지 살펴본다."
      ]
    },
    {
      "cell_type": "code",
      "metadata": {
        "id": "GzbeBcPSX7LQ",
        "colab": {
          "base_uri": "https://localhost:8080/"
        },
        "outputId": "83c1fe44-1ea3-4489-b9c0-bac5f0b7fd35"
      },
      "source": [
        "np.zeros(10)"
      ],
      "execution_count": 14,
      "outputs": [
        {
          "output_type": "execute_result",
          "data": {
            "text/plain": [
              "array([0., 0., 0., 0., 0., 0., 0., 0., 0., 0.])"
            ]
          },
          "metadata": {
            "tags": []
          },
          "execution_count": 14
        }
      ]
    },
    {
      "cell_type": "code",
      "metadata": {
        "id": "SuBtyv2p7pAN",
        "colab": {
          "base_uri": "https://localhost:8080/"
        },
        "outputId": "6c0032e3-556f-4cbb-8a7d-acc49fbf82dc"
      },
      "source": [
        "np.zeros((3,5)) # 3행 5열"
      ],
      "execution_count": 15,
      "outputs": [
        {
          "output_type": "execute_result",
          "data": {
            "text/plain": [
              "array([[0., 0., 0., 0., 0.],\n",
              "       [0., 0., 0., 0., 0.],\n",
              "       [0., 0., 0., 0., 0.]])"
            ]
          },
          "metadata": {
            "tags": []
          },
          "execution_count": 15
        }
      ]
    },
    {
      "cell_type": "markdown",
      "metadata": {
        "id": "VTF5Tf0h7uhF"
      },
      "source": [
        "> np.zeros() 함수는 인자로 받는 크기만큼, 모든요소가 0인 array를 만든다."
      ]
    },
    {
      "cell_type": "code",
      "metadata": {
        "id": "NSs8VcVZ7zZ5",
        "colab": {
          "base_uri": "https://localhost:8080/"
        },
        "outputId": "9b412e3e-0926-4494-8267-fe30939651ad"
      },
      "source": [
        "np.ones(9)"
      ],
      "execution_count": 16,
      "outputs": [
        {
          "output_type": "execute_result",
          "data": {
            "text/plain": [
              "array([1., 1., 1., 1., 1., 1., 1., 1., 1.])"
            ]
          },
          "metadata": {
            "tags": []
          },
          "execution_count": 16
        }
      ]
    },
    {
      "cell_type": "code",
      "metadata": {
        "id": "ksrmrz0g7161",
        "colab": {
          "base_uri": "https://localhost:8080/"
        },
        "outputId": "b11f6a66-204a-4207-fd2e-f8f11b326b37"
      },
      "source": [
        "np.ones((2,10))"
      ],
      "execution_count": 17,
      "outputs": [
        {
          "output_type": "execute_result",
          "data": {
            "text/plain": [
              "array([[1., 1., 1., 1., 1., 1., 1., 1., 1., 1.],\n",
              "       [1., 1., 1., 1., 1., 1., 1., 1., 1., 1.]])"
            ]
          },
          "metadata": {
            "tags": []
          },
          "execution_count": 17
        }
      ]
    },
    {
      "cell_type": "markdown",
      "metadata": {
        "id": "c6MF0cXi74I8"
      },
      "source": [
        "> np.ones() 함수는 인자로 받는 크기만큼, 모든요소가 1인 array를 만든다."
      ]
    },
    {
      "cell_type": "code",
      "metadata": {
        "id": "Gsmrzjv-758x",
        "colab": {
          "base_uri": "https://localhost:8080/"
        },
        "outputId": "6918dcce-dcf6-40a8-d56c-a26f58556420"
      },
      "source": [
        "np.arange(10)   # arrange가 아닌 arange"
      ],
      "execution_count": 18,
      "outputs": [
        {
          "output_type": "execute_result",
          "data": {
            "text/plain": [
              "array([0, 1, 2, 3, 4, 5, 6, 7, 8, 9])"
            ]
          },
          "metadata": {
            "tags": []
          },
          "execution_count": 18
        }
      ]
    },
    {
      "cell_type": "code",
      "metadata": {
        "id": "D9ue9vwC7-rF",
        "colab": {
          "base_uri": "https://localhost:8080/"
        },
        "outputId": "0e3035d2-c5b4-4f6a-cc62-baeb1842a81a"
      },
      "source": [
        "np.arange(3,11)"
      ],
      "execution_count": 19,
      "outputs": [
        {
          "output_type": "execute_result",
          "data": {
            "text/plain": [
              "array([ 3,  4,  5,  6,  7,  8,  9, 10])"
            ]
          },
          "metadata": {
            "tags": []
          },
          "execution_count": 19
        }
      ]
    },
    {
      "cell_type": "markdown",
      "metadata": {
        "id": "l3j1OEub8HKW"
      },
      "source": [
        "> np.arange() 함수는 인자로 받는 값 만큼 1씩 증가하는 1차원 array를 만든다.  \n",
        "> 이때 하나의 인자만 입력하면 0 ~ 입력한 인자, 값 만큼의 크기를 가진다."
      ]
    },
    {
      "cell_type": "markdown",
      "metadata": {
        "id": "qyh3j-xf8Ly5"
      },
      "source": [
        "### 3. Array 연산\n",
        "기본적으로 numpy에서 연산을 할때는 크기가 서로 동일한 array 끼리 연산이 진행된다.\n",
        "\n",
        "이때 같은 위치에 있는 요소들 끼리 연산이 진행된다."
      ]
    },
    {
      "cell_type": "code",
      "metadata": {
        "id": "VKrXZXi68J8u",
        "colab": {
          "base_uri": "https://localhost:8080/"
        },
        "outputId": "7340cf93-fc97-40d1-f589-c442d653cacd"
      },
      "source": [
        "arr1 = np.array([[1,2,3],[4,5,6]])\n",
        "arr1"
      ],
      "execution_count": 20,
      "outputs": [
        {
          "output_type": "execute_result",
          "data": {
            "text/plain": [
              "array([[1, 2, 3],\n",
              "       [4, 5, 6]])"
            ]
          },
          "metadata": {
            "tags": []
          },
          "execution_count": 20
        }
      ]
    },
    {
      "cell_type": "code",
      "metadata": {
        "id": "HCoLUb798R6t",
        "colab": {
          "base_uri": "https://localhost:8080/"
        },
        "outputId": "0baaff4a-ac5e-46f7-b9e8-e350e23f370b"
      },
      "source": [
        "arr1.shape"
      ],
      "execution_count": 21,
      "outputs": [
        {
          "output_type": "execute_result",
          "data": {
            "text/plain": [
              "(2, 3)"
            ]
          },
          "metadata": {
            "tags": []
          },
          "execution_count": 21
        }
      ]
    },
    {
      "cell_type": "code",
      "metadata": {
        "id": "yntEg7WV8Tkl",
        "colab": {
          "base_uri": "https://localhost:8080/"
        },
        "outputId": "08c84d3d-c751-4de8-f852-ac6cd777afce"
      },
      "source": [
        "arr2 = np.array([[10,11,12],[13,14,15]])\n",
        "arr2"
      ],
      "execution_count": 22,
      "outputs": [
        {
          "output_type": "execute_result",
          "data": {
            "text/plain": [
              "array([[10, 11, 12],\n",
              "       [13, 14, 15]])"
            ]
          },
          "metadata": {
            "tags": []
          },
          "execution_count": 22
        }
      ]
    },
    {
      "cell_type": "code",
      "metadata": {
        "id": "IIRgz8AU8cPi",
        "colab": {
          "base_uri": "https://localhost:8080/"
        },
        "outputId": "c03fa6cc-1b2e-4ee5-cf3a-2fb0e20c5936"
      },
      "source": [
        "arr2.shape"
      ],
      "execution_count": 23,
      "outputs": [
        {
          "output_type": "execute_result",
          "data": {
            "text/plain": [
              "(2, 3)"
            ]
          },
          "metadata": {
            "tags": []
          },
          "execution_count": 23
        }
      ]
    },
    {
      "cell_type": "markdown",
      "metadata": {
        "id": "b6pUYrhi8dUi"
      },
      "source": [
        "#### 3-1. array 덧셈"
      ]
    },
    {
      "cell_type": "code",
      "metadata": {
        "id": "FtVvwUvY8feR",
        "colab": {
          "base_uri": "https://localhost:8080/"
        },
        "outputId": "b26ab843-6fbe-482a-efbd-91504c5357ce"
      },
      "source": [
        "arr1 + arr2"
      ],
      "execution_count": 24,
      "outputs": [
        {
          "output_type": "execute_result",
          "data": {
            "text/plain": [
              "array([[11, 13, 15],\n",
              "       [17, 19, 21]])"
            ]
          },
          "metadata": {
            "tags": []
          },
          "execution_count": 24
        }
      ]
    },
    {
      "cell_type": "markdown",
      "metadata": {
        "id": "SoFJDBXC8idx"
      },
      "source": [
        "#### 3-2. array 뺄셈"
      ]
    },
    {
      "cell_type": "code",
      "metadata": {
        "id": "yuZnwJJU8hTR",
        "colab": {
          "base_uri": "https://localhost:8080/"
        },
        "outputId": "58545255-9448-46bd-ceb5-5fb37e656bc0"
      },
      "source": [
        "arr1 - arr2"
      ],
      "execution_count": 25,
      "outputs": [
        {
          "output_type": "execute_result",
          "data": {
            "text/plain": [
              "array([[-9, -9, -9],\n",
              "       [-9, -9, -9]])"
            ]
          },
          "metadata": {
            "tags": []
          },
          "execution_count": 25
        }
      ]
    },
    {
      "cell_type": "markdown",
      "metadata": {
        "id": "O4lhh0C88mYt"
      },
      "source": [
        "#### 3-3. array 곱셈"
      ]
    },
    {
      "cell_type": "markdown",
      "metadata": {
        "id": "MHB6g2ds8p1A"
      },
      "source": [
        "주의\n",
        "\n",
        "행렬의 곱처럼 곱셈이 진행되는 것이 아니라 각 요소별로 곱셈이 진행된다."
      ]
    },
    {
      "cell_type": "markdown",
      "metadata": {
        "id": "rhk5G9adDPzK"
      },
      "source": [
        "행렬의 곱셈: https://ko.wikipedia.org/wiki/%ED%96%89%EB%A0%AC_%EA%B3%B1%EC%85%88"
      ]
    },
    {
      "cell_type": "code",
      "metadata": {
        "id": "YdfHavIv8ng1",
        "colab": {
          "base_uri": "https://localhost:8080/"
        },
        "outputId": "438b798c-dff9-4ec9-a337-be87c86ad077"
      },
      "source": [
        "arr1 * arr2"
      ],
      "execution_count": 26,
      "outputs": [
        {
          "output_type": "execute_result",
          "data": {
            "text/plain": [
              "array([[10, 22, 36],\n",
              "       [52, 70, 90]])"
            ]
          },
          "metadata": {
            "tags": []
          },
          "execution_count": 26
        }
      ]
    },
    {
      "cell_type": "markdown",
      "metadata": {
        "id": "8WGGevay8tf1"
      },
      "source": [
        "#### 3-4. array 나눗셈"
      ]
    },
    {
      "cell_type": "code",
      "metadata": {
        "id": "ZqFNrWTh8uvx",
        "colab": {
          "base_uri": "https://localhost:8080/"
        },
        "outputId": "01cf9a92-fde0-4914-a98d-dff2bd952c30"
      },
      "source": [
        "arr1 / arr2"
      ],
      "execution_count": 27,
      "outputs": [
        {
          "output_type": "execute_result",
          "data": {
            "text/plain": [
              "array([[0.1       , 0.18181818, 0.25      ],\n",
              "       [0.30769231, 0.35714286, 0.4       ]])"
            ]
          },
          "metadata": {
            "tags": []
          },
          "execution_count": 27
        }
      ]
    },
    {
      "cell_type": "markdown",
      "metadata": {
        "id": "FSFGtAZG8xpy"
      },
      "source": [
        "#### 3-5. array의 브로드 캐스트\n",
        "\n",
        "위에서는 array가 같은 크기를 가져야 서로 연산이 가능하다고 했지만,\n",
        "\n",
        "numpy에서는 브로드캐스트라는 기능을 제공한다.\n",
        "\n",
        "브로드캐스트란, 서로 크기가 다른 array가 연산이 가능하게끔 하는 것이다."
      ]
    },
    {
      "cell_type": "code",
      "metadata": {
        "id": "THKK0DC99YJs",
        "colab": {
          "base_uri": "https://localhost:8080/"
        },
        "outputId": "68e76504-27df-4d51-bf84-3e1d30e01fd3"
      },
      "source": [
        "arr1"
      ],
      "execution_count": 28,
      "outputs": [
        {
          "output_type": "execute_result",
          "data": {
            "text/plain": [
              "array([[1, 2, 3],\n",
              "       [4, 5, 6]])"
            ]
          },
          "metadata": {
            "tags": []
          },
          "execution_count": 28
        }
      ]
    },
    {
      "cell_type": "code",
      "metadata": {
        "id": "cc4pfXeq9aF9",
        "colab": {
          "base_uri": "https://localhost:8080/"
        },
        "outputId": "b1296e5e-a09a-4aff-ee63-3fe6658e3c58"
      },
      "source": [
        "arr1.shape"
      ],
      "execution_count": 29,
      "outputs": [
        {
          "output_type": "execute_result",
          "data": {
            "text/plain": [
              "(2, 3)"
            ]
          },
          "metadata": {
            "tags": []
          },
          "execution_count": 29
        }
      ]
    },
    {
      "cell_type": "code",
      "metadata": {
        "id": "0muSojHT9bb0",
        "colab": {
          "base_uri": "https://localhost:8080/"
        },
        "outputId": "541cccab-8ce6-4aa0-9da2-096462341a8e"
      },
      "source": [
        "arr3 = np.array([10,11,12])\n",
        "arr3"
      ],
      "execution_count": 30,
      "outputs": [
        {
          "output_type": "execute_result",
          "data": {
            "text/plain": [
              "array([10, 11, 12])"
            ]
          },
          "metadata": {
            "tags": []
          },
          "execution_count": 30
        }
      ]
    },
    {
      "cell_type": "code",
      "metadata": {
        "id": "a9YeihWP9iTN",
        "colab": {
          "base_uri": "https://localhost:8080/"
        },
        "outputId": "a268c29b-1958-4089-a29d-09ee7bf72f57"
      },
      "source": [
        "arr3.shape"
      ],
      "execution_count": 31,
      "outputs": [
        {
          "output_type": "execute_result",
          "data": {
            "text/plain": [
              "(3,)"
            ]
          },
          "metadata": {
            "tags": []
          },
          "execution_count": 31
        }
      ]
    },
    {
      "cell_type": "code",
      "metadata": {
        "id": "YkDv1wb99jxo",
        "colab": {
          "base_uri": "https://localhost:8080/"
        },
        "outputId": "3dc9ea3d-1698-4ca3-ada1-e105a86fc395"
      },
      "source": [
        "arr1 + arr3"
      ],
      "execution_count": 32,
      "outputs": [
        {
          "output_type": "execute_result",
          "data": {
            "text/plain": [
              "array([[11, 13, 15],\n",
              "       [14, 16, 18]])"
            ]
          },
          "metadata": {
            "tags": []
          },
          "execution_count": 32
        }
      ]
    },
    {
      "cell_type": "code",
      "metadata": {
        "id": "bOziBW_s9lMs",
        "colab": {
          "base_uri": "https://localhost:8080/"
        },
        "outputId": "36b2998e-e57d-4821-e305-6982008fbaa9"
      },
      "source": [
        "arr1 * arr3"
      ],
      "execution_count": 33,
      "outputs": [
        {
          "output_type": "execute_result",
          "data": {
            "text/plain": [
              "array([[10, 22, 36],\n",
              "       [40, 55, 72]])"
            ]
          },
          "metadata": {
            "tags": []
          },
          "execution_count": 33
        }
      ]
    },
    {
      "cell_type": "markdown",
      "metadata": {
        "id": "SAvLDjK-9oFp"
      },
      "source": [
        "위와 같이 서로 크기가 다른 arr1과 arr3의 연산이 가능하다.\n",
        "\n",
        "연산결과를 살펴보면 arr3이 [10,11,12] 에서 [[10,11,12],[10,11,12]]로 확장되어 계산되었음을 확인할 수 있다.\n",
        "\n",
        "동일한 방식으로 하나의 array에 스칼라 연산도 가능하다."
      ]
    },
    {
      "cell_type": "code",
      "metadata": {
        "id": "bYPg52MA9pkd",
        "colab": {
          "base_uri": "https://localhost:8080/"
        },
        "outputId": "5dd7c77a-dd64-4a91-e91b-6356e04b1e63"
      },
      "source": [
        "arr1 * 10"
      ],
      "execution_count": 34,
      "outputs": [
        {
          "output_type": "execute_result",
          "data": {
            "text/plain": [
              "array([[10, 20, 30],\n",
              "       [40, 50, 60]])"
            ]
          },
          "metadata": {
            "tags": []
          },
          "execution_count": 34
        }
      ]
    },
    {
      "cell_type": "code",
      "metadata": {
        "id": "3AXdIb-Q9r9J",
        "colab": {
          "base_uri": "https://localhost:8080/"
        },
        "outputId": "7f8ef7b4-70d6-4986-a9f1-4d9c8cc3847e"
      },
      "source": [
        "# 요소에 대해 제곱처리\n",
        "arr1 ** 2"
      ],
      "execution_count": 35,
      "outputs": [
        {
          "output_type": "execute_result",
          "data": {
            "text/plain": [
              "array([[ 1,  4,  9],\n",
              "       [16, 25, 36]])"
            ]
          },
          "metadata": {
            "tags": []
          },
          "execution_count": 35
        }
      ]
    },
    {
      "cell_type": "markdown",
      "metadata": {
        "id": "_0Hd5TIH95Vh"
      },
      "source": [
        "### 4. Array 인덱싱\n",
        "numpy에서 사용되는 인덱싱은 기본적으로 python 인덱싱과 동일하다.\n",
        "\n",
        "이때, python에서와 같이 1번째로 시작하는 것이 아니라 0번째로 시작하는 것에 주의한다."
      ]
    },
    {
      "cell_type": "code",
      "metadata": {
        "id": "GL_E7F-K97Wx",
        "colab": {
          "base_uri": "https://localhost:8080/"
        },
        "outputId": "6b7fbb06-e149-4a20-a42e-4b9ef3a24f67"
      },
      "source": [
        "arr1 = np.arange(10)\n",
        "arr1"
      ],
      "execution_count": 36,
      "outputs": [
        {
          "output_type": "execute_result",
          "data": {
            "text/plain": [
              "array([0, 1, 2, 3, 4, 5, 6, 7, 8, 9])"
            ]
          },
          "metadata": {
            "tags": []
          },
          "execution_count": 36
        }
      ]
    },
    {
      "cell_type": "code",
      "metadata": {
        "id": "C_YQUsr999zx",
        "colab": {
          "base_uri": "https://localhost:8080/"
        },
        "outputId": "a7e99b83-97dc-4e91-bb86-98b903a3dbb6"
      },
      "source": [
        "# 0번째 요소\n",
        "arr1[0]"
      ],
      "execution_count": 37,
      "outputs": [
        {
          "output_type": "execute_result",
          "data": {
            "text/plain": [
              "0"
            ]
          },
          "metadata": {
            "tags": []
          },
          "execution_count": 37
        }
      ]
    },
    {
      "cell_type": "code",
      "metadata": {
        "id": "XKeGc2XE9_Eh",
        "colab": {
          "base_uri": "https://localhost:8080/"
        },
        "outputId": "daf43cda-b465-4067-8cf4-61184f3ca949"
      },
      "source": [
        "# 3번째 요소\n",
        "arr1[3]"
      ],
      "execution_count": 38,
      "outputs": [
        {
          "output_type": "execute_result",
          "data": {
            "text/plain": [
              "3"
            ]
          },
          "metadata": {
            "tags": []
          },
          "execution_count": 38
        }
      ]
    },
    {
      "cell_type": "code",
      "metadata": {
        "id": "aaWPEvTk-Aae",
        "colab": {
          "base_uri": "https://localhost:8080/"
        },
        "outputId": "cbb6d2d9-4ae1-4c9f-ddf5-3760c6f28036"
      },
      "source": [
        "# 3번째 요소부터 8번째 요소\n",
        "arr1[3:9]"
      ],
      "execution_count": 39,
      "outputs": [
        {
          "output_type": "execute_result",
          "data": {
            "text/plain": [
              "array([3, 4, 5, 6, 7, 8])"
            ]
          },
          "metadata": {
            "tags": []
          },
          "execution_count": 39
        }
      ]
    },
    {
      "cell_type": "code",
      "metadata": {
        "id": "U2xZny1r-B9V",
        "colab": {
          "base_uri": "https://localhost:8080/"
        },
        "outputId": "c419c50d-58bc-4ff6-b1e6-d73072af4158"
      },
      "source": [
        "arr1[:]"
      ],
      "execution_count": 40,
      "outputs": [
        {
          "output_type": "execute_result",
          "data": {
            "text/plain": [
              "array([0, 1, 2, 3, 4, 5, 6, 7, 8, 9])"
            ]
          },
          "metadata": {
            "tags": []
          },
          "execution_count": 40
        }
      ]
    },
    {
      "cell_type": "markdown",
      "metadata": {
        "id": "saTdz1eb-D_3"
      },
      "source": [
        "물론 1차원이 아닌 그 이상의 차원에서도 인덱싱이 가능하다."
      ]
    },
    {
      "cell_type": "code",
      "metadata": {
        "id": "RFeDlPb7-FTN",
        "colab": {
          "base_uri": "https://localhost:8080/"
        },
        "outputId": "4cb8c578-5daa-4154-af69-cc89516f3786"
      },
      "source": [
        "arr2 = np.array([[1,2,3,4],\n",
        "                 [5,6,7,8],\n",
        "                 [9,10,11,12]])\n",
        "arr2"
      ],
      "execution_count": 41,
      "outputs": [
        {
          "output_type": "execute_result",
          "data": {
            "text/plain": [
              "array([[ 1,  2,  3,  4],\n",
              "       [ 5,  6,  7,  8],\n",
              "       [ 9, 10, 11, 12]])"
            ]
          },
          "metadata": {
            "tags": []
          },
          "execution_count": 41
        }
      ]
    },
    {
      "cell_type": "code",
      "metadata": {
        "id": "C8KmCyU3-IQb",
        "colab": {
          "base_uri": "https://localhost:8080/"
        },
        "outputId": "4ac8c22c-7906-43bd-ae66-441ebfc83900"
      },
      "source": [
        "# 2차원의 array에서 인덱싱을 하기 위해선 2개의 인자를 입력해야 합니다.\n",
        "arr2[0,0]"
      ],
      "execution_count": 42,
      "outputs": [
        {
          "output_type": "execute_result",
          "data": {
            "text/plain": [
              "1"
            ]
          },
          "metadata": {
            "tags": []
          },
          "execution_count": 42
        }
      ]
    },
    {
      "cell_type": "code",
      "metadata": {
        "id": "HkFAnddN-LGs",
        "colab": {
          "base_uri": "https://localhost:8080/"
        },
        "outputId": "e765a9ff-56e4-4080-8fcf-b2cfb4521131"
      },
      "source": [
        "# 2행의 모든 요소 꺼내기\n",
        "arr2[2,:]"
      ],
      "execution_count": 43,
      "outputs": [
        {
          "output_type": "execute_result",
          "data": {
            "text/plain": [
              "array([ 9, 10, 11, 12])"
            ]
          },
          "metadata": {
            "tags": []
          },
          "execution_count": 43
        }
      ]
    },
    {
      "cell_type": "code",
      "metadata": {
        "id": "oeQDDYls-S_c",
        "colab": {
          "base_uri": "https://localhost:8080/"
        },
        "outputId": "81f448dd-abc9-4e78-ccb8-fb1e5d5dbc44"
      },
      "source": [
        "# 2행의 3번째 요소 꺼내기\n",
        "arr2[2,3]"
      ],
      "execution_count": 44,
      "outputs": [
        {
          "output_type": "execute_result",
          "data": {
            "text/plain": [
              "12"
            ]
          },
          "metadata": {
            "tags": []
          },
          "execution_count": 44
        }
      ]
    },
    {
      "cell_type": "code",
      "metadata": {
        "id": "nv5g8VyQ-Uww",
        "colab": {
          "base_uri": "https://localhost:8080/"
        },
        "outputId": "26cd0ef8-c938-4969-db99-ed600a2e3b47"
      },
      "source": [
        "# 모든 열의 3번째 요소 꺼내기\n",
        "arr2[:,3]"
      ],
      "execution_count": 45,
      "outputs": [
        {
          "output_type": "execute_result",
          "data": {
            "text/plain": [
              "array([ 4,  8, 12])"
            ]
          },
          "metadata": {
            "tags": []
          },
          "execution_count": 45
        }
      ]
    },
    {
      "cell_type": "markdown",
      "metadata": {
        "id": "B1Y4mpQW-ass"
      },
      "source": [
        "### 5. Array boolean 인덱싱(마스크)\n",
        "위에서 이용한 다차원의 인덱싱을 응용하여 boolean 인덱싱을 할 수 있다.\n",
        "\n",
        "이 기능은 주로 마스크라고 이야기하는데, boolean인덱싱을 통해 만들어낸 array를 통해 우리가 원하는 행 또는 열의 값만 뽑아낼 수 있다.\n",
        "\n",
        "즉, 마스크처럼 우리가 가리고 싶은 부분은 가리고, 원하는 요소만 꺼낼 수 있다."
      ]
    },
    {
      "cell_type": "code",
      "metadata": {
        "id": "u-9lN82r-e2N",
        "colab": {
          "base_uri": "https://localhost:8080/"
        },
        "outputId": "116bf4c1-cb06-4ab0-a30b-6ba3c1aa71ee"
      },
      "source": [
        "names = np.array(['Beomwoo','Beomwoo','Kim','Joan','Lee','Beomwoo','Park','Beomwoo'])\n",
        "names"
      ],
      "execution_count": 46,
      "outputs": [
        {
          "output_type": "execute_result",
          "data": {
            "text/plain": [
              "array(['Beomwoo', 'Beomwoo', 'Kim', 'Joan', 'Lee', 'Beomwoo', 'Park',\n",
              "       'Beomwoo'], dtype='<U7')"
            ]
          },
          "metadata": {
            "tags": []
          },
          "execution_count": 46
        }
      ]
    },
    {
      "cell_type": "code",
      "metadata": {
        "id": "c8iOyWYG-hIl",
        "colab": {
          "base_uri": "https://localhost:8080/"
        },
        "outputId": "077fd0e1-7915-4f8c-d4f4-f577fc8acfc1"
      },
      "source": [
        "names.shape"
      ],
      "execution_count": 47,
      "outputs": [
        {
          "output_type": "execute_result",
          "data": {
            "text/plain": [
              "(8,)"
            ]
          },
          "metadata": {
            "tags": []
          },
          "execution_count": 47
        }
      ]
    },
    {
      "cell_type": "code",
      "metadata": {
        "id": "9FlWwIgp-imI",
        "colab": {
          "base_uri": "https://localhost:8080/"
        },
        "outputId": "d6bb5e03-e950-4bcf-dece-37fe8ebea302"
      },
      "source": [
        "# 아래에서 사용되는 np.random.randn() 함수는 기대값이 0이고, 표준편차가 1인 가우시안 정규 분포를 따르는 난수를 발생시키는 함수이다.\n",
        "# 이 외에도 0~1의 난수를 발생시키는 np.random.rand() 함수도 존재한다.\n",
        "data = np.random.randn(8,4)\n",
        "data"
      ],
      "execution_count": 48,
      "outputs": [
        {
          "output_type": "execute_result",
          "data": {
            "text/plain": [
              "array([[ 0.30737746,  0.09339552,  0.40732199,  1.25236902],\n",
              "       [-0.37110234,  1.3024113 ,  0.45145565,  0.09934858],\n",
              "       [-0.12822901,  0.6621956 , -1.70987785, -0.82388932],\n",
              "       [-0.73657511, -2.29972703,  1.21726756, -0.78136461],\n",
              "       [-0.43129285,  0.45262907,  1.21232927, -1.13579974],\n",
              "       [ 0.12713584,  0.34502912,  0.61572268, -0.89976821],\n",
              "       [ 1.26759537,  1.91748774,  0.13805197,  1.47575858],\n",
              "       [ 0.06541148,  2.05757985,  0.20650982, -0.68503477]])"
            ]
          },
          "metadata": {
            "tags": []
          },
          "execution_count": 48
        }
      ]
    },
    {
      "cell_type": "code",
      "metadata": {
        "id": "pxt605L2-nF0",
        "colab": {
          "base_uri": "https://localhost:8080/"
        },
        "outputId": "e009157f-7f70-4f7f-c06a-61d04b6c6ef3"
      },
      "source": [
        "data.shape"
      ],
      "execution_count": 49,
      "outputs": [
        {
          "output_type": "execute_result",
          "data": {
            "text/plain": [
              "(8, 4)"
            ]
          },
          "metadata": {
            "tags": []
          },
          "execution_count": 49
        }
      ]
    },
    {
      "cell_type": "markdown",
      "metadata": {
        "id": "MmcDwfIN-oh1"
      },
      "source": [
        "위와 같은 names와 data라는 array가 있다.\n",
        "\n",
        "이때, names의 각 요소가 data의 각 행과 연결된다고 가정해보자.\n",
        "\n",
        "그리고 이 때, names가 Beomwoo인 행의 data만 보고 싶을 때 다음과 같이 마스크를 사용한다."
      ]
    },
    {
      "cell_type": "code",
      "metadata": {
        "id": "wYYDbnO0-pkM",
        "colab": {
          "base_uri": "https://localhost:8080/"
        },
        "outputId": "244b61d9-2859-4c2a-bde7-ed87d8102b8b"
      },
      "source": [
        "# 요소가 Beomwoo인 항목에 대한 mask 생성\n",
        "names_Beomwoo_mask = (names == 'Beomwoo')\n",
        "names_Beomwoo_mask"
      ],
      "execution_count": 50,
      "outputs": [
        {
          "output_type": "execute_result",
          "data": {
            "text/plain": [
              "array([ True,  True, False, False, False,  True, False,  True])"
            ]
          },
          "metadata": {
            "tags": []
          },
          "execution_count": 50
        }
      ]
    },
    {
      "cell_type": "code",
      "metadata": {
        "id": "_EEB2pTj-svd",
        "colab": {
          "base_uri": "https://localhost:8080/"
        },
        "outputId": "022c3da3-2721-4374-fae6-02061ccfefcc"
      },
      "source": [
        "# [ True,  True, False, False, False,  True, False,  True] 중 \n",
        "# True가 행에 가 포함되어있는 열만 뽑기\n",
        "data[names_Beomwoo_mask,:]"
      ],
      "execution_count": 51,
      "outputs": [
        {
          "output_type": "execute_result",
          "data": {
            "text/plain": [
              "array([[ 0.30737746,  0.09339552,  0.40732199,  1.25236902],\n",
              "       [-0.37110234,  1.3024113 ,  0.45145565,  0.09934858],\n",
              "       [ 0.12713584,  0.34502912,  0.61572268, -0.89976821],\n",
              "       [ 0.06541148,  2.05757985,  0.20650982, -0.68503477]])"
            ]
          },
          "metadata": {
            "tags": []
          },
          "execution_count": 51
        }
      ]
    },
    {
      "cell_type": "markdown",
      "metadata": {
        "id": "te-sBZZc-u5V"
      },
      "source": [
        "위의 결과를 보면, 요소가 Beomwoo인 것은 0번째, 1번째, 5번째, 7번째 이므로\n",
        "\n",
        "data에서 0,1,5,7행의 모든 요소를 꺼내와야 한다.\n",
        "\n",
        "이를 위해 요소가 Beomwoo인 것에 대한 boolean 값을 가지는 mask를 만들었고\n",
        "\n",
        "마스크를 인덱싱에 응용하여 data의 0,1,5,7행을 꺼냈다."
      ]
    },
    {
      "cell_type": "code",
      "metadata": {
        "id": "6PfX5f1x-v4F",
        "colab": {
          "base_uri": "https://localhost:8080/"
        },
        "outputId": "8bcc899c-dfe0-4513-c0af-8ebcdba451a5"
      },
      "source": [
        "# 요소가 Kim인 행의 데이터만 꺼내기\n",
        "data[names == 'Kim',:]"
      ],
      "execution_count": 52,
      "outputs": [
        {
          "output_type": "execute_result",
          "data": {
            "text/plain": [
              "array([[-0.12822901,  0.6621956 , -1.70987785, -0.82388932]])"
            ]
          },
          "metadata": {
            "tags": []
          },
          "execution_count": 52
        }
      ]
    },
    {
      "cell_type": "code",
      "metadata": {
        "id": "ESbx4Qy0-zb6",
        "colab": {
          "base_uri": "https://localhost:8080/"
        },
        "outputId": "f590ab8c-4bbd-4681-f6e8-6b9526b2820f"
      },
      "source": [
        "# 논리 연산을 응용하여, 요소가 Kim 또는 Park인 행의 데이터만 꺼내기\n",
        "data[(names == 'Kim') | (names == 'Park'),:]"
      ],
      "execution_count": 53,
      "outputs": [
        {
          "output_type": "execute_result",
          "data": {
            "text/plain": [
              "array([[-0.12822901,  0.6621956 , -1.70987785, -0.82388932],\n",
              "       [ 1.26759537,  1.91748774,  0.13805197,  1.47575858]])"
            ]
          },
          "metadata": {
            "tags": []
          },
          "execution_count": 53
        }
      ]
    },
    {
      "cell_type": "markdown",
      "metadata": {
        "id": "_kCfYLPm-1YJ"
      },
      "source": [
        "물론 data array 자체적으로도 마스크를 만들고, 이를 응용하여 인덱싱이 가능하다.\n",
        "\n",
        "data array에서 0번째 열의 값이 0보다 작은 행을 구해보자."
      ]
    },
    {
      "cell_type": "markdown",
      "metadata": {
        "id": "FtJSRMGrHJVn"
      },
      "source": [
        "1,1 / 1,2 / 1,3 / 1,4 ... 중 0보다 작은 데이터"
      ]
    },
    {
      "cell_type": "code",
      "metadata": {
        "id": "D6cjuuCX-2Yu",
        "colab": {
          "base_uri": "https://localhost:8080/"
        },
        "outputId": "627911b4-d8ed-4810-9e9a-88fe16b17788"
      },
      "source": [
        "# 먼저 마스크를 만든다.\n",
        "# data array에서 0번째 열이 0보다 작은 요소의 boolean 값은 다음과 같다.\n",
        "data[:,0] < 0"
      ],
      "execution_count": 54,
      "outputs": [
        {
          "output_type": "execute_result",
          "data": {
            "text/plain": [
              "array([False,  True,  True,  True,  True, False, False, False])"
            ]
          },
          "metadata": {
            "tags": []
          },
          "execution_count": 54
        }
      ]
    },
    {
      "cell_type": "code",
      "metadata": {
        "id": "_hNIO2bd-5bx",
        "colab": {
          "base_uri": "https://localhost:8080/"
        },
        "outputId": "7125ddff-6fc3-469a-bcd1-9702dca24438"
      },
      "source": [
        "# 위에서 만든 마스크를 이용하여 0번째 열의 값이 0보다 작은 행을 구한다.\n",
        "# 위 array에서 true를 반환한 행들만 출력\n",
        "data[data[:,0]<0,:]"
      ],
      "execution_count": 55,
      "outputs": [
        {
          "output_type": "execute_result",
          "data": {
            "text/plain": [
              "array([[-0.37110234,  1.3024113 ,  0.45145565,  0.09934858],\n",
              "       [-0.12822901,  0.6621956 , -1.70987785, -0.82388932],\n",
              "       [-0.73657511, -2.29972703,  1.21726756, -0.78136461],\n",
              "       [-0.43129285,  0.45262907,  1.21232927, -1.13579974]])"
            ]
          },
          "metadata": {
            "tags": []
          },
          "execution_count": 55
        }
      ]
    },
    {
      "cell_type": "markdown",
      "metadata": {
        "id": "PGzQj3rE--OZ"
      },
      "source": [
        "이를 통해 특정 위치에만 우리가 원하는 값을 대입할 수 있다.\n",
        "\n",
        "위에서 얻은, 0번째 열의 값이 0보다 작은 행의 2,3번째 열값에 0을 대입해보자."
      ]
    },
    {
      "cell_type": "code",
      "metadata": {
        "id": "1-OLhZrK-7q1",
        "colab": {
          "base_uri": "https://localhost:8080/"
        },
        "outputId": "abad7ca0-a88e-417b-dae6-2f86893fb896"
      },
      "source": [
        "# 0번째 열의 값이 0보다 작은 행의 2,3번째 열 값\n",
        "data[data[:,0]<0,2:4]     # 행 == data[:,0]<0  열 == 2:4"
      ],
      "execution_count": 56,
      "outputs": [
        {
          "output_type": "execute_result",
          "data": {
            "text/plain": [
              "array([[ 0.45145565,  0.09934858],\n",
              "       [-1.70987785, -0.82388932],\n",
              "       [ 1.21726756, -0.78136461],\n",
              "       [ 1.21232927, -1.13579974]])"
            ]
          },
          "metadata": {
            "tags": []
          },
          "execution_count": 56
        }
      ]
    },
    {
      "cell_type": "code",
      "metadata": {
        "id": "zfDIjwYc_D7G",
        "colab": {
          "base_uri": "https://localhost:8080/"
        },
        "outputId": "503e24d2-d8de-479d-8919-7b2227d71ac3"
      },
      "source": [
        "data[data[:,0]<0,2:4] = 0\n",
        "data"
      ],
      "execution_count": 57,
      "outputs": [
        {
          "output_type": "execute_result",
          "data": {
            "text/plain": [
              "array([[ 0.30737746,  0.09339552,  0.40732199,  1.25236902],\n",
              "       [-0.37110234,  1.3024113 ,  0.        ,  0.        ],\n",
              "       [-0.12822901,  0.6621956 ,  0.        ,  0.        ],\n",
              "       [-0.73657511, -2.29972703,  0.        ,  0.        ],\n",
              "       [-0.43129285,  0.45262907,  0.        ,  0.        ],\n",
              "       [ 0.12713584,  0.34502912,  0.61572268, -0.89976821],\n",
              "       [ 1.26759537,  1.91748774,  0.13805197,  1.47575858],\n",
              "       [ 0.06541148,  2.05757985,  0.20650982, -0.68503477]])"
            ]
          },
          "metadata": {
            "tags": []
          },
          "execution_count": 57
        }
      ]
    },
    {
      "cell_type": "markdown",
      "metadata": {
        "id": "u1vGfsJh_HXR"
      },
      "source": [
        "## 6. Numpy 함수\n",
        "\n",
        "numpy에서는 array에 적용되는 다양한 함수가 있다.\n",
        "\n",
        "\n",
        "### 6-1. 하나의 array에 적용되는 함수"
      ]
    },
    {
      "cell_type": "code",
      "metadata": {
        "id": "51vCplsO_Mqg",
        "colab": {
          "base_uri": "https://localhost:8080/"
        },
        "outputId": "1fa6bcd7-306f-4281-c2b6-ba9906e560aa"
      },
      "source": [
        "arr1 = np.random.randn(5,3)   # 크기가 5, 3인 난수 행렬\n",
        "arr1"
      ],
      "execution_count": 58,
      "outputs": [
        {
          "output_type": "execute_result",
          "data": {
            "text/plain": [
              "array([[ 0.621196  , -1.40801962,  1.09065589],\n",
              "       [ 1.00958951, -1.29614006,  1.56934888],\n",
              "       [-0.94677184, -0.04781376,  1.24270936],\n",
              "       [ 0.42106114, -2.07176653, -1.17746036],\n",
              "       [-1.56582282, -1.14312756,  1.15504945]])"
            ]
          },
          "metadata": {
            "tags": []
          },
          "execution_count": 58
        }
      ]
    },
    {
      "cell_type": "code",
      "metadata": {
        "id": "3cwdcIvD_Pp9",
        "colab": {
          "base_uri": "https://localhost:8080/"
        },
        "outputId": "5fde6a54-404d-4b1b-b579-79933c3b40dd"
      },
      "source": [
        "# 각 성분의 절대값 계산하기\n",
        "np.abs(arr1)"
      ],
      "execution_count": 59,
      "outputs": [
        {
          "output_type": "execute_result",
          "data": {
            "text/plain": [
              "array([[0.621196  , 1.40801962, 1.09065589],\n",
              "       [1.00958951, 1.29614006, 1.56934888],\n",
              "       [0.94677184, 0.04781376, 1.24270936],\n",
              "       [0.42106114, 2.07176653, 1.17746036],\n",
              "       [1.56582282, 1.14312756, 1.15504945]])"
            ]
          },
          "metadata": {
            "tags": []
          },
          "execution_count": 59
        }
      ]
    },
    {
      "cell_type": "code",
      "metadata": {
        "id": "16xhK5pj_QCG",
        "colab": {
          "base_uri": "https://localhost:8080/"
        },
        "outputId": "cd5df0a0-14a3-46ef-db71-f196883fa7d9"
      },
      "source": [
        "# 각 성분의 제곱근 계산하기 ( == array ** 0.5)\n",
        "np.sqrt(arr1)"
      ],
      "execution_count": 60,
      "outputs": [
        {
          "output_type": "stream",
          "text": [
            "/usr/local/lib/python3.6/dist-packages/ipykernel_launcher.py:2: RuntimeWarning: invalid value encountered in sqrt\n",
            "  \n"
          ],
          "name": "stderr"
        },
        {
          "output_type": "execute_result",
          "data": {
            "text/plain": [
              "array([[0.78815988,        nan, 1.04434472],\n",
              "       [1.00478332,        nan, 1.25273655],\n",
              "       [       nan,        nan, 1.11476875],\n",
              "       [0.64889224,        nan,        nan],\n",
              "       [       nan,        nan, 1.07473227]])"
            ]
          },
          "metadata": {
            "tags": []
          },
          "execution_count": 60
        }
      ]
    },
    {
      "cell_type": "code",
      "metadata": {
        "id": "pzvTwVSK_Rx4",
        "colab": {
          "base_uri": "https://localhost:8080/"
        },
        "outputId": "4c595bbf-30d5-409b-f260-640d08649443"
      },
      "source": [
        "# 각 성분의 제곱 계산하기\n",
        "np.square(arr1)"
      ],
      "execution_count": 61,
      "outputs": [
        {
          "output_type": "execute_result",
          "data": {
            "text/plain": [
              "array([[3.85884470e-01, 1.98251925e+00, 1.18953027e+00],\n",
              "       [1.01927098e+00, 1.67997907e+00, 2.46285589e+00],\n",
              "       [8.96376924e-01, 2.28615568e-03, 1.54432655e+00],\n",
              "       [1.77292481e-01, 4.29221656e+00, 1.38641290e+00],\n",
              "       [2.45180112e+00, 1.30674061e+00, 1.33413922e+00]])"
            ]
          },
          "metadata": {
            "tags": []
          },
          "execution_count": 61
        }
      ]
    },
    {
      "cell_type": "code",
      "metadata": {
        "id": "C_p7m273_TmN",
        "colab": {
          "base_uri": "https://localhost:8080/"
        },
        "outputId": "2b0b19d3-2b55-4cfc-a400-d56cc84ffb26"
      },
      "source": [
        "# 각 성분을 무리수 e의 지수로 삼은 값을 계산하기\n",
        "np.exp(arr1)"
      ],
      "execution_count": 62,
      "outputs": [
        {
          "output_type": "execute_result",
          "data": {
            "text/plain": [
              "array([[1.86115265, 0.24462726, 2.9762255 ],\n",
              "       [2.74447421, 0.27358578, 4.80351949],\n",
              "       [0.3879915 , 0.95331131, 3.46498866],\n",
              "       [1.52357742, 0.12596307, 0.30806011],\n",
              "       [0.20891604, 0.31882033, 3.17418036]])"
            ]
          },
          "metadata": {
            "tags": []
          },
          "execution_count": 62
        }
      ]
    },
    {
      "cell_type": "code",
      "metadata": {
        "id": "TEkLJVL7_VLZ",
        "colab": {
          "base_uri": "https://localhost:8080/"
        },
        "outputId": "f8993d79-6a71-42b3-d3a5-3e98ea7df102"
      },
      "source": [
        "# 각 성분을 자연로그, 상용로그, 밑이 2인 로그를 씌운 값을 계산하기\n",
        "np.log(arr1)"
      ],
      "execution_count": 63,
      "outputs": [
        {
          "output_type": "stream",
          "text": [
            "/usr/local/lib/python3.6/dist-packages/ipykernel_launcher.py:2: RuntimeWarning: invalid value encountered in log\n",
            "  \n"
          ],
          "name": "stderr"
        },
        {
          "output_type": "execute_result",
          "data": {
            "text/plain": [
              "array([[-0.47610863,         nan,  0.08677925],\n",
              "       [ 0.00954382,         nan,  0.4506608 ],\n",
              "       [        nan,         nan,  0.21729396],\n",
              "       [-0.86497724,         nan,         nan],\n",
              "       [        nan,         nan,  0.14414315]])"
            ]
          },
          "metadata": {
            "tags": []
          },
          "execution_count": 63
        }
      ]
    },
    {
      "cell_type": "code",
      "metadata": {
        "id": "Likfgg4W_Wnt",
        "colab": {
          "base_uri": "https://localhost:8080/"
        },
        "outputId": "23bb80b9-d996-4882-8d7d-f037de10f893"
      },
      "source": [
        "np.log10(arr1)"
      ],
      "execution_count": 64,
      "outputs": [
        {
          "output_type": "stream",
          "text": [
            "/usr/local/lib/python3.6/dist-packages/ipykernel_launcher.py:1: RuntimeWarning: invalid value encountered in log10\n",
            "  \"\"\"Entry point for launching an IPython kernel.\n"
          ],
          "name": "stderr"
        },
        {
          "output_type": "execute_result",
          "data": {
            "text/plain": [
              "array([[-0.20677135,         nan,  0.03768775],\n",
              "       [ 0.00414483,         nan,  0.1957195 ],\n",
              "       [        nan,         nan,  0.09436957],\n",
              "       [-0.37565484,         nan,         nan],\n",
              "       [        nan,         nan,  0.06260058]])"
            ]
          },
          "metadata": {
            "tags": []
          },
          "execution_count": 64
        }
      ]
    },
    {
      "cell_type": "code",
      "metadata": {
        "id": "GDxYtKSP_YXB",
        "colab": {
          "base_uri": "https://localhost:8080/"
        },
        "outputId": "cd2bc550-6c21-44dc-cb3a-140d055dc31b"
      },
      "source": [
        "np.log2(arr1)"
      ],
      "execution_count": 65,
      "outputs": [
        {
          "output_type": "stream",
          "text": [
            "/usr/local/lib/python3.6/dist-packages/ipykernel_launcher.py:1: RuntimeWarning: invalid value encountered in log2\n",
            "  \"\"\"Entry point for launching an IPython kernel.\n"
          ],
          "name": "stderr"
        },
        {
          "output_type": "execute_result",
          "data": {
            "text/plain": [
              "array([[-0.68687956,         nan,  0.12519599],\n",
              "       [ 0.01376883,         nan,  0.65016611],\n",
              "       [        nan,         nan,  0.31348892],\n",
              "       [-1.24789837,         nan,         nan],\n",
              "       [        nan,         nan,  0.20795461]])"
            ]
          },
          "metadata": {
            "tags": []
          },
          "execution_count": 65
        }
      ]
    },
    {
      "cell_type": "code",
      "metadata": {
        "id": "Q85lNpoG_bb5",
        "colab": {
          "base_uri": "https://localhost:8080/"
        },
        "outputId": "c392f64a-23ae-4401-cc98-df77b84990ef"
      },
      "source": [
        "# 각 성분의 부호 계산하기(+인 경우 1, -인 경우 -1, 0인 경우 0)\n",
        "np.sign(arr1)"
      ],
      "execution_count": 66,
      "outputs": [
        {
          "output_type": "execute_result",
          "data": {
            "text/plain": [
              "array([[ 1., -1.,  1.],\n",
              "       [ 1., -1.,  1.],\n",
              "       [-1., -1.,  1.],\n",
              "       [ 1., -1., -1.],\n",
              "       [-1., -1.,  1.]])"
            ]
          },
          "metadata": {
            "tags": []
          },
          "execution_count": 66
        }
      ]
    },
    {
      "cell_type": "code",
      "metadata": {
        "id": "qVlZHoy9_qQg",
        "colab": {
          "base_uri": "https://localhost:8080/"
        },
        "outputId": "a619b946-7200-4808-e9de-c8268f07a0cf"
      },
      "source": [
        "# 각 성분의 소수 첫 번째 자리에서 올림한 값을 계산하기\n",
        "np.ceil(arr1)"
      ],
      "execution_count": 67,
      "outputs": [
        {
          "output_type": "execute_result",
          "data": {
            "text/plain": [
              "array([[ 1., -1.,  2.],\n",
              "       [ 2., -1.,  2.],\n",
              "       [-0., -0.,  2.],\n",
              "       [ 1., -2., -1.],\n",
              "       [-1., -1.,  2.]])"
            ]
          },
          "metadata": {
            "tags": []
          },
          "execution_count": 67
        }
      ]
    },
    {
      "cell_type": "code",
      "metadata": {
        "id": "8nBA_S31_smh",
        "colab": {
          "base_uri": "https://localhost:8080/"
        },
        "outputId": "83490cc5-7c92-40e2-ad07-c583b2c1395d"
      },
      "source": [
        "# 각 성분의 소수 첫 번째 자리에서 내림한 값을 계산하기\n",
        "np.floor(arr1)"
      ],
      "execution_count": 68,
      "outputs": [
        {
          "output_type": "execute_result",
          "data": {
            "text/plain": [
              "array([[ 0., -2.,  1.],\n",
              "       [ 1., -2.,  1.],\n",
              "       [-1., -1.,  1.],\n",
              "       [ 0., -3., -2.],\n",
              "       [-2., -2.,  1.]])"
            ]
          },
          "metadata": {
            "tags": []
          },
          "execution_count": 68
        }
      ]
    },
    {
      "cell_type": "code",
      "metadata": {
        "id": "s4Dvehh0_uM_",
        "colab": {
          "base_uri": "https://localhost:8080/"
        },
        "outputId": "a7852494-1f1d-4fbf-ca9f-bcc53cd4d342"
      },
      "source": [
        "# 각 성분이 NaN인 경우 True를, 아닌 경우 False를 반환하기\n",
        "np.isnan(arr1)"
      ],
      "execution_count": 69,
      "outputs": [
        {
          "output_type": "execute_result",
          "data": {
            "text/plain": [
              "array([[False, False, False],\n",
              "       [False, False, False],\n",
              "       [False, False, False],\n",
              "       [False, False, False],\n",
              "       [False, False, False]])"
            ]
          },
          "metadata": {
            "tags": []
          },
          "execution_count": 69
        }
      ]
    },
    {
      "cell_type": "code",
      "metadata": {
        "id": "3KtRoGHX_vxf",
        "colab": {
          "base_uri": "https://localhost:8080/"
        },
        "outputId": "263bcb91-8185-46ca-bf5a-bca226eb05c3"
      },
      "source": [
        "np.isnan(np.log(arr1))"
      ],
      "execution_count": 70,
      "outputs": [
        {
          "output_type": "stream",
          "text": [
            "/usr/local/lib/python3.6/dist-packages/ipykernel_launcher.py:1: RuntimeWarning: invalid value encountered in log\n",
            "  \"\"\"Entry point for launching an IPython kernel.\n"
          ],
          "name": "stderr"
        },
        {
          "output_type": "execute_result",
          "data": {
            "text/plain": [
              "array([[False,  True, False],\n",
              "       [False,  True, False],\n",
              "       [ True,  True, False],\n",
              "       [False,  True,  True],\n",
              "       [ True,  True, False]])"
            ]
          },
          "metadata": {
            "tags": []
          },
          "execution_count": 70
        }
      ]
    },
    {
      "cell_type": "code",
      "metadata": {
        "id": "C2K8oVRu_xYU",
        "colab": {
          "base_uri": "https://localhost:8080/"
        },
        "outputId": "b519c0e5-5246-41fe-e57d-88662c544bf4"
      },
      "source": [
        "# 각 성분이 무한대인 경우 True를, 아닌 경우 False를 반환하기\n",
        "np.isinf(arr1)"
      ],
      "execution_count": 71,
      "outputs": [
        {
          "output_type": "execute_result",
          "data": {
            "text/plain": [
              "array([[False, False, False],\n",
              "       [False, False, False],\n",
              "       [False, False, False],\n",
              "       [False, False, False],\n",
              "       [False, False, False]])"
            ]
          },
          "metadata": {
            "tags": []
          },
          "execution_count": 71
        }
      ]
    },
    {
      "cell_type": "code",
      "metadata": {
        "id": "Swe3Xs3k_y_8",
        "colab": {
          "base_uri": "https://localhost:8080/"
        },
        "outputId": "33bff916-8341-4277-b639-422f556d096a"
      },
      "source": [
        "# 각 성분에 대해 삼각함수 값을 계산하기(cos, cosh, sin, sinh, tan, tanh)\n",
        "np.cos(arr1)"
      ],
      "execution_count": 72,
      "outputs": [
        {
          "output_type": "execute_result",
          "data": {
            "text/plain": [
              "array([[ 0.81318296,  0.16205883,  0.46190374],\n",
              "       [ 0.53220829,  0.2712161 ,  0.00144745],\n",
              "       [ 0.58430589,  0.99885714,  0.32223263],\n",
              "       [ 0.91265574, -0.48027675,  0.38327176],\n",
              "       [ 0.00497348,  0.41475066,  0.4038733 ]])"
            ]
          },
          "metadata": {
            "tags": []
          },
          "execution_count": 72
        }
      ]
    },
    {
      "cell_type": "code",
      "metadata": {
        "id": "KG7iPDKR_8G-",
        "colab": {
          "base_uri": "https://localhost:8080/"
        },
        "outputId": "240f032c-561f-4481-84ef-bbaaefb0384a"
      },
      "source": [
        "np.tanh(arr1)"
      ],
      "execution_count": 73,
      "outputs": [
        {
          "output_type": "execute_result",
          "data": {
            "text/plain": [
              "array([[ 0.5519602 , -0.88707285,  0.79711741],\n",
              "       [ 0.76559218, -0.86072617,  0.91692213],\n",
              "       [-0.7383181 , -0.04777736,  0.84622655],\n",
              "       [ 0.39782401, -0.96876225, -0.82664912],\n",
              "       [-0.91635877, -0.81546456,  0.81941996]])"
            ]
          },
          "metadata": {
            "tags": []
          },
          "execution_count": 73
        }
      ]
    },
    {
      "cell_type": "markdown",
      "metadata": {
        "id": "IzQlpZlY_-5l"
      },
      "source": [
        "### 6-2. 두 개의 array에 적용되는 함수"
      ]
    },
    {
      "cell_type": "code",
      "metadata": {
        "id": "fF5SfOaj_9vv",
        "colab": {
          "base_uri": "https://localhost:8080/"
        },
        "outputId": "483f543d-1925-4cd2-9ebc-27ba45ec4969"
      },
      "source": [
        "arr1"
      ],
      "execution_count": 74,
      "outputs": [
        {
          "output_type": "execute_result",
          "data": {
            "text/plain": [
              "array([[ 0.621196  , -1.40801962,  1.09065589],\n",
              "       [ 1.00958951, -1.29614006,  1.56934888],\n",
              "       [-0.94677184, -0.04781376,  1.24270936],\n",
              "       [ 0.42106114, -2.07176653, -1.17746036],\n",
              "       [-1.56582282, -1.14312756,  1.15504945]])"
            ]
          },
          "metadata": {
            "tags": []
          },
          "execution_count": 74
        }
      ]
    },
    {
      "cell_type": "code",
      "metadata": {
        "id": "2CvF0bgyAB6a",
        "colab": {
          "base_uri": "https://localhost:8080/"
        },
        "outputId": "034f8bcc-727e-4dfd-a326-e1cb7467bfaa"
      },
      "source": [
        "arr2 = np.random.randn(5,3)\n",
        "arr2"
      ],
      "execution_count": 75,
      "outputs": [
        {
          "output_type": "execute_result",
          "data": {
            "text/plain": [
              "array([[ 0.32010425,  0.9248702 , -0.18934834],\n",
              "       [ 0.59441928,  0.47365478,  1.08252195],\n",
              "       [-0.89706518, -0.212121  , -0.15013366],\n",
              "       [ 0.64875802, -1.32423899, -0.59062611],\n",
              "       [ 1.65590462,  0.43736122, -0.26856496]])"
            ]
          },
          "metadata": {
            "tags": []
          },
          "execution_count": 75
        }
      ]
    },
    {
      "cell_type": "code",
      "metadata": {
        "id": "XmDq-RgPADGd",
        "colab": {
          "base_uri": "https://localhost:8080/"
        },
        "outputId": "7c8bddbd-c2d0-479a-931d-43af93507f5f"
      },
      "source": [
        "# 두 개의 array에 대해 동일한 위치의 성분끼리 연산 값을 계산하기(add, subtract, multiply, divide)\n",
        "np.multiply(arr1,arr2)"
      ],
      "execution_count": 76,
      "outputs": [
        {
          "output_type": "execute_result",
          "data": {
            "text/plain": [
              "array([[ 0.19884748, -1.30223539, -0.20651388],\n",
              "       [ 0.60011947, -0.61392294,  1.6988546 ],\n",
              "       [ 0.84931605,  0.0101423 , -0.1865725 ],\n",
              "       [ 0.27316679,  2.74351403,  0.69543884],\n",
              "       [-2.59285325, -0.49995966, -0.31020581]])"
            ]
          },
          "metadata": {
            "tags": []
          },
          "execution_count": 76
        }
      ]
    },
    {
      "cell_type": "code",
      "metadata": {
        "id": "cPC7gfgdAE_H",
        "colab": {
          "base_uri": "https://localhost:8080/"
        },
        "outputId": "425d8a21-2f56-44e9-e4cd-545b02a29d57"
      },
      "source": [
        "# 두 개의 array에 대해 동일한 위치의 성분끼리 비교하여 최대값 또는 최소값 계산하기(maximum, minimum)\n",
        "np.maximum(arr1,arr2)"
      ],
      "execution_count": 77,
      "outputs": [
        {
          "output_type": "execute_result",
          "data": {
            "text/plain": [
              "array([[ 0.621196  ,  0.9248702 ,  1.09065589],\n",
              "       [ 1.00958951,  0.47365478,  1.56934888],\n",
              "       [-0.89706518, -0.04781376,  1.24270936],\n",
              "       [ 0.64875802, -1.32423899, -0.59062611],\n",
              "       [ 1.65590462,  0.43736122,  1.15504945]])"
            ]
          },
          "metadata": {
            "tags": []
          },
          "execution_count": 77
        }
      ]
    },
    {
      "cell_type": "markdown",
      "metadata": {
        "id": "oywkr6AEAM7s"
      },
      "source": [
        "#### 6-3. 통계 함수\n",
        "통계 함수를 통해 array의 합이나 평균등을 구할 때,\n",
        "\n",
        "추가로 axis라는 인자에 대한 값을 지정하여 열 또는 행의 합 또는 평균등을 구할 수 있다.\n",
        "\n",
        "\n",
        "> axis에 대한 이해\n",
        "\n",
        "http://machinelearningkorea.com/2019/05/18/%ED%8C%8C%EC%9D%B4%EC%8D%AC-axis-%EC%9D%B4%ED%95%B4%ED%95%98%EA%B8%B0-%EC%B9%98%ED%8A%B8%EC%BD%94%EB%93%9C/"
      ]
    },
    {
      "cell_type": "markdown",
      "metadata": {
        "id": "9iKw24diGMmA"
      },
      "source": [
        "![](https://taewanmerepo.github.io/2017/09/numpy_axis/axis.jpg)"
      ]
    },
    {
      "cell_type": "markdown",
      "metadata": {
        "id": "NBhu7xJrGonp"
      },
      "source": [
        "![](https://taewanmerepo.github.io/2017/09/numpy_axis/axis0-cube.jpg)\r\n",
        "\r\n",
        "![](https://taewanmerepo.github.io/2017/09/numpy_axis/axis1-cube.jpg)\r\n",
        "\r\n",
        "![](https://taewanmerepo.github.io/2017/09/numpy_axis/axis2-cube.jpg)\r\n"
      ]
    },
    {
      "cell_type": "code",
      "metadata": {
        "id": "EET4YCpBAPul",
        "colab": {
          "base_uri": "https://localhost:8080/"
        },
        "outputId": "98369ae1-1a92-4ddc-f82f-5fe2e9c69a07"
      },
      "source": [
        "arr1"
      ],
      "execution_count": 78,
      "outputs": [
        {
          "output_type": "execute_result",
          "data": {
            "text/plain": [
              "array([[ 0.621196  , -1.40801962,  1.09065589],\n",
              "       [ 1.00958951, -1.29614006,  1.56934888],\n",
              "       [-0.94677184, -0.04781376,  1.24270936],\n",
              "       [ 0.42106114, -2.07176653, -1.17746036],\n",
              "       [-1.56582282, -1.14312756,  1.15504945]])"
            ]
          },
          "metadata": {
            "tags": []
          },
          "execution_count": 78
        }
      ]
    },
    {
      "cell_type": "code",
      "metadata": {
        "id": "PUIabbkzARAP",
        "colab": {
          "base_uri": "https://localhost:8080/"
        },
        "outputId": "0c72f1ff-fabc-4615-e64e-571335d283df"
      },
      "source": [
        "# 전체 성분의 합을 계산\n",
        "np.sum(arr1)"
      ],
      "execution_count": 79,
      "outputs": [
        {
          "output_type": "execute_result",
          "data": {
            "text/plain": [
              "-2.5473123420288166"
            ]
          },
          "metadata": {
            "tags": []
          },
          "execution_count": 79
        }
      ]
    },
    {
      "cell_type": "code",
      "metadata": {
        "id": "pcsrld16ASB6",
        "colab": {
          "base_uri": "https://localhost:8080/"
        },
        "outputId": "10c4a4a2-6eec-4ae7-a27f-e4ddfdd71224"
      },
      "source": [
        "# 열 간의 합을 계산\n",
        "np.sum(arr1, axis=1)"
      ],
      "execution_count": 80,
      "outputs": [
        {
          "output_type": "execute_result",
          "data": {
            "text/plain": [
              "array([ 0.30383227,  1.28279832,  0.24812376, -2.82816575, -1.55390094])"
            ]
          },
          "metadata": {
            "tags": []
          },
          "execution_count": 80
        }
      ]
    },
    {
      "cell_type": "code",
      "metadata": {
        "id": "6SjhOywtATmz",
        "colab": {
          "base_uri": "https://localhost:8080/"
        },
        "outputId": "dbe20323-d106-4fbe-ec3e-11ba7395522a"
      },
      "source": [
        "# 행 간의 합을 계산\n",
        "np.sum(arr1, axis=0)"
      ],
      "execution_count": 81,
      "outputs": [
        {
          "output_type": "execute_result",
          "data": {
            "text/plain": [
              "array([-0.46074802, -5.96686753,  3.88030321])"
            ]
          },
          "metadata": {
            "tags": []
          },
          "execution_count": 81
        }
      ]
    },
    {
      "cell_type": "code",
      "metadata": {
        "id": "HtQ66tLQAVI8",
        "colab": {
          "base_uri": "https://localhost:8080/"
        },
        "outputId": "a4d86136-1069-4b64-c5ad-bb32371e65f2"
      },
      "source": [
        "# 전체 성분의 평균을 계산\n",
        "np.mean(arr1)"
      ],
      "execution_count": 82,
      "outputs": [
        {
          "output_type": "execute_result",
          "data": {
            "text/plain": [
              "-0.1698208228019211"
            ]
          },
          "metadata": {
            "tags": []
          },
          "execution_count": 82
        }
      ]
    },
    {
      "cell_type": "code",
      "metadata": {
        "id": "Wd8YmeTsAWUt",
        "colab": {
          "base_uri": "https://localhost:8080/"
        },
        "outputId": "c6dbafa5-1624-465e-e48b-e44c2cde2935"
      },
      "source": [
        "# 행 간의 평균을 계산\n",
        "np.mean(arr1, axis=0)"
      ],
      "execution_count": 83,
      "outputs": [
        {
          "output_type": "execute_result",
          "data": {
            "text/plain": [
              "array([-0.0921496 , -1.19337351,  0.77606064])"
            ]
          },
          "metadata": {
            "tags": []
          },
          "execution_count": 83
        }
      ]
    },
    {
      "cell_type": "markdown",
      "metadata": {
        "id": "AKFIOjInIWpg"
      },
      "source": [
        "전체 성분의 표준편차, 분산, 최소값, 최대값 계산(std, var, min, max)"
      ]
    },
    {
      "cell_type": "code",
      "metadata": {
        "id": "d0cprwy3AXss",
        "colab": {
          "base_uri": "https://localhost:8080/"
        },
        "outputId": "abd89aaf-d05e-4c8d-a456-c7755e9c8007"
      },
      "source": [
        "# 전체 성분의 표준편차 계산\n",
        "np.std(arr1)"
      ],
      "execution_count": 84,
      "outputs": [
        {
          "output_type": "execute_result",
          "data": {
            "text/plain": [
              "1.2021937106671508"
            ]
          },
          "metadata": {
            "tags": []
          },
          "execution_count": 84
        }
      ]
    },
    {
      "cell_type": "code",
      "metadata": {
        "id": "i8nx5sakAZV3",
        "colab": {
          "base_uri": "https://localhost:8080/"
        },
        "outputId": "1509589a-e132-46bf-d830-194a7bf3c052"
      },
      "source": [
        "np.min(arr1, axis=1)"
      ],
      "execution_count": 85,
      "outputs": [
        {
          "output_type": "execute_result",
          "data": {
            "text/plain": [
              "array([-1.40801962, -1.29614006, -0.94677184, -2.07176653, -1.56582282])"
            ]
          },
          "metadata": {
            "tags": []
          },
          "execution_count": 85
        }
      ]
    },
    {
      "cell_type": "code",
      "metadata": {
        "id": "IyO8NNitAbgW",
        "colab": {
          "base_uri": "https://localhost:8080/"
        },
        "outputId": "9ddf6a5e-6927-4ddb-89a0-e9d2aef9291e"
      },
      "source": [
        "# 전체 성분의 최소값, 최대값이 위치한 인덱스를 반환(argmin, argmax)\n",
        "np.argmin(arr1)"
      ],
      "execution_count": 86,
      "outputs": [
        {
          "output_type": "execute_result",
          "data": {
            "text/plain": [
              "10"
            ]
          },
          "metadata": {
            "tags": []
          },
          "execution_count": 86
        }
      ]
    },
    {
      "cell_type": "markdown",
      "metadata": {
        "id": "eEATak5BIflx"
      },
      "source": [
        "np.argmax(array, axis)"
      ]
    },
    {
      "cell_type": "code",
      "metadata": {
        "id": "oTxmH-HSAc6q",
        "colab": {
          "base_uri": "https://localhost:8080/"
        },
        "outputId": "d9b39878-8ae4-4b65-b4f2-cea8469f68ef"
      },
      "source": [
        "np.argmax(arr1,axis=0)"
      ],
      "execution_count": 87,
      "outputs": [
        {
          "output_type": "execute_result",
          "data": {
            "text/plain": [
              "array([1, 2, 1])"
            ]
          },
          "metadata": {
            "tags": []
          },
          "execution_count": 87
        }
      ]
    },
    {
      "cell_type": "code",
      "metadata": {
        "id": "az4cw26WAfFe",
        "colab": {
          "base_uri": "https://localhost:8080/"
        },
        "outputId": "40b24519-418b-4a05-9cc9-850f1713a6e0"
      },
      "source": [
        "# 맨 처음 성분부터 각 성분까지의 누적합 또는 누적곱을 계산(cumsum, cumprod)\n",
        "np.cumsum(arr1)"
      ],
      "execution_count": 88,
      "outputs": [
        {
          "output_type": "execute_result",
          "data": {
            "text/plain": [
              "array([ 0.621196  , -0.78682362,  0.30383227,  1.31342178,  0.01728171,\n",
              "        1.58663059,  0.63985875,  0.59204499,  1.83475435,  2.25581548,\n",
              "        0.18404895, -0.99341141, -2.55923423, -3.70236179, -2.54731234])"
            ]
          },
          "metadata": {
            "tags": []
          },
          "execution_count": 88
        }
      ]
    },
    {
      "cell_type": "code",
      "metadata": {
        "id": "3pVrUhcSAg5-",
        "colab": {
          "base_uri": "https://localhost:8080/"
        },
        "outputId": "55bfb854-9922-446c-c7fd-3c935fbcea16"
      },
      "source": [
        "np.cumsum(arr1,axis=1)    # 누적합"
      ],
      "execution_count": 89,
      "outputs": [
        {
          "output_type": "execute_result",
          "data": {
            "text/plain": [
              "array([[ 0.621196  , -0.78682362,  0.30383227],\n",
              "       [ 1.00958951, -0.28655055,  1.28279832],\n",
              "       [-0.94677184, -0.9945856 ,  0.24812376],\n",
              "       [ 0.42106114, -1.65070539, -2.82816575],\n",
              "       [-1.56582282, -2.70895038, -1.55390094]])"
            ]
          },
          "metadata": {
            "tags": []
          },
          "execution_count": 89
        }
      ]
    },
    {
      "cell_type": "code",
      "metadata": {
        "id": "gkMRL1qeAi_V",
        "colab": {
          "base_uri": "https://localhost:8080/"
        },
        "outputId": "3e2799a1-9ac4-4fb2-8d80-958ff15ae1ca"
      },
      "source": [
        "np.cumprod(arr1)    # 누적곱"
      ],
      "execution_count": 90,
      "outputs": [
        {
          "output_type": "execute_result",
          "data": {
            "text/plain": [
              "array([ 0.621196  , -0.87465615, -0.95394888, -0.96309679,  1.24830833,\n",
              "        1.95903128, -1.85475566,  0.08868284,  0.110207  ,  0.04640388,\n",
              "       -0.09613801,  0.1131987 , -0.17724911,  0.20261834,  0.2340342 ])"
            ]
          },
          "metadata": {
            "tags": []
          },
          "execution_count": 90
        }
      ]
    },
    {
      "cell_type": "markdown",
      "metadata": {
        "id": "N7SDAy7SA3R0"
      },
      "source": [
        "#### 6-4. 기타 함수"
      ]
    },
    {
      "cell_type": "code",
      "metadata": {
        "id": "qnhIU57QAkN6",
        "colab": {
          "base_uri": "https://localhost:8080/"
        },
        "outputId": "e5b1e7f3-acef-4551-e121-61d1eb9c2592"
      },
      "source": [
        "arr1"
      ],
      "execution_count": 91,
      "outputs": [
        {
          "output_type": "execute_result",
          "data": {
            "text/plain": [
              "array([[ 0.621196  , -1.40801962,  1.09065589],\n",
              "       [ 1.00958951, -1.29614006,  1.56934888],\n",
              "       [-0.94677184, -0.04781376,  1.24270936],\n",
              "       [ 0.42106114, -2.07176653, -1.17746036],\n",
              "       [-1.56582282, -1.14312756,  1.15504945]])"
            ]
          },
          "metadata": {
            "tags": []
          },
          "execution_count": 91
        }
      ]
    },
    {
      "cell_type": "code",
      "metadata": {
        "id": "GDbQfiYwA5eQ",
        "colab": {
          "base_uri": "https://localhost:8080/"
        },
        "outputId": "3a0f9c04-df80-4a1e-a57a-80f868117b0c"
      },
      "source": [
        "np.sort(arr1, axis=1)"
      ],
      "execution_count": 93,
      "outputs": [
        {
          "output_type": "execute_result",
          "data": {
            "text/plain": [
              "array([[-1.40801962,  0.621196  ,  1.09065589],\n",
              "       [-1.29614006,  1.00958951,  1.56934888],\n",
              "       [-0.94677184, -0.04781376,  1.24270936],\n",
              "       [-2.07176653, -1.17746036,  0.42106114],\n",
              "       [-1.56582282, -1.14312756,  1.15504945]])"
            ]
          },
          "metadata": {
            "tags": []
          },
          "execution_count": 93
        }
      ]
    },
    {
      "cell_type": "code",
      "metadata": {
        "colab": {
          "base_uri": "https://localhost:8080/"
        },
        "id": "b1g2clvqH2rh",
        "outputId": "1bf6311a-5bfe-468b-8cec-64f55142edd3"
      },
      "source": [
        "np.sort(arr1, axis=0)"
      ],
      "execution_count": 94,
      "outputs": [
        {
          "output_type": "execute_result",
          "data": {
            "text/plain": [
              "array([[-1.56582282, -2.07176653, -1.17746036],\n",
              "       [-0.94677184, -1.40801962,  1.09065589],\n",
              "       [ 0.42106114, -1.29614006,  1.15504945],\n",
              "       [ 0.621196  , -1.14312756,  1.24270936],\n",
              "       [ 1.00958951, -0.04781376,  1.56934888]])"
            ]
          },
          "metadata": {
            "tags": []
          },
          "execution_count": 94
        }
      ]
    }
  ]
}