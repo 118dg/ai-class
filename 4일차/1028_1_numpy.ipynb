{
  "nbformat": 4,
  "nbformat_minor": 0,
  "metadata": {
    "colab": {
      "name": "1028-1-numpy.ipynb",
      "provenance": [],
      "collapsed_sections": []
    },
    "kernelspec": {
      "name": "python3",
      "display_name": "Python 3"
    }
  },
  "cells": [
    {
      "cell_type": "markdown",
      "metadata": {
        "id": "Kastei17W6dC"
      },
      "source": [
        "# Numpy 기초\n",
        "\n",
        "## 1. Numpy 란?\n",
        "\n"
      ]
    },
    {
      "cell_type": "markdown",
      "metadata": {
        "id": "0EAB2tBYB752"
      },
      "source": [
        "![행렬](https://upload.wikimedia.org/wikipedia/commons/thumb/4/4d/Matrix_ko.svg/220px-Matrix_ko.svg.png)"
      ]
    },
    {
      "cell_type": "markdown",
      "metadata": {
        "id": "F2dl5mGrBp-Q"
      },
      "source": [
        "행렬의 기초 : https://m.blog.naver.com/ehdsnck/221794368721"
      ]
    },
    {
      "cell_type": "markdown",
      "metadata": {
        "id": "pyBkLcTaBWB7"
      },
      "source": [
        "Numpy는 C언어로 구현된 파이썬 라이브러리로써, 고성능의 수치계산을 위해 제작되었습니다. Numerical Python의 줄임말이기도 한 Numpy는 벡터 및 행렬 연산에 있어서 매우 편리한 기능을 제공합니다.\n",
        "\n",
        "또한 이는 데이터분석을 할 때 사용되는 라이브러리인 pandas와 matplotlib의 기반으로 사용되기도 합니다.\n",
        "\n",
        "numpy에서는 기본적으로 array라는 단위로 데이터를 관리하며 이에 대해 연산을 수행합니다. array는 말그대로 행렬이라는 개념으로 생각하시면 됩니다.\n",
        "\n",
        "\n",
        "\n",
        "먼저 numpy를 사용하기 위해서는 아래와 같은 코드로 numpy를 import해야 합니다.\n",
        "\n",
        "\n",
        "```python\n",
        "import numpy as np\n",
        "```\n",
        "\n",
        "\n",
        "사실상, numpy를 설치하고 단순히 import numpy 만 해도 되지만, 이를 코드에서 보다 편하게 사용하기 위해 as np 를 붙임으로써 np라는 이름으로 numpy를 사용합니다."
      ]
    },
    {
      "cell_type": "code",
      "metadata": {
        "id": "_Leh4F4FWuYg"
      },
      "source": [
        "# numpy 사용하기\n",
        "import numpy as np"
      ],
      "execution_count": null,
      "outputs": []
    },
    {
      "cell_type": "markdown",
      "metadata": {
        "id": "DPRHi86GXIjQ"
      },
      "source": [
        "## 2. Array 정의 및 사용하기"
      ]
    },
    {
      "cell_type": "code",
      "metadata": {
        "id": "VexX5c5IXPZY",
        "outputId": "9cbabf66-601d-42ae-b634-e6c5d49c92bb",
        "colab": {
          "base_uri": "https://localhost:8080/",
          "height": 35
        }
      },
      "source": [
        "data1 = [1,2,3,4,5]\n",
        "data1"
      ],
      "execution_count": null,
      "outputs": [
        {
          "output_type": "execute_result",
          "data": {
            "text/plain": [
              "[1, 2, 3, 4, 5]"
            ]
          },
          "metadata": {
            "tags": []
          },
          "execution_count": 7
        }
      ]
    },
    {
      "cell_type": "code",
      "metadata": {
        "id": "nvvbgV1aXSJy",
        "outputId": "d8370207-a08b-4e44-9e31-7c77c8b8c419",
        "colab": {
          "base_uri": "https://localhost:8080/",
          "height": 35
        }
      },
      "source": [
        "data2 = [1,2,3,3.5,4]\n",
        "data2"
      ],
      "execution_count": null,
      "outputs": [
        {
          "output_type": "execute_result",
          "data": {
            "text/plain": [
              "[1, 2, 3, 3.5, 4]"
            ]
          },
          "metadata": {
            "tags": []
          },
          "execution_count": 8
        }
      ]
    },
    {
      "cell_type": "code",
      "metadata": {
        "id": "7oPoeuxYXTwI",
        "outputId": "a48497d7-c875-4c9b-a984-70e1efa0c8f0",
        "colab": {
          "base_uri": "https://localhost:8080/",
          "height": 35
        }
      },
      "source": [
        "# numpy를 이용하여 array 정의하기\n",
        "# 1. 위에서 만든 python list를 이용\n",
        "arr1 = np.array(data1)\n",
        "arr1"
      ],
      "execution_count": null,
      "outputs": [
        {
          "output_type": "execute_result",
          "data": {
            "text/plain": [
              "array([1, 2, 3, 4, 5])"
            ]
          },
          "metadata": {
            "tags": []
          },
          "execution_count": 9
        }
      ]
    },
    {
      "cell_type": "code",
      "metadata": {
        "id": "b4_o7UkXXa2g",
        "outputId": "cf5ff54d-b83d-4b45-bb8a-eee246d65fbf",
        "colab": {
          "base_uri": "https://localhost:8080/",
          "height": 35
        }
      },
      "source": [
        "# array의 형태(크기)를 확인할 수 있다.\n",
        "arr1.shape"
      ],
      "execution_count": null,
      "outputs": [
        {
          "output_type": "execute_result",
          "data": {
            "text/plain": [
              "(5,)"
            ]
          },
          "metadata": {
            "tags": []
          },
          "execution_count": 10
        }
      ]
    },
    {
      "cell_type": "code",
      "metadata": {
        "id": "w0JxvPqIXfX1",
        "outputId": "ec63173f-c8c3-4685-aa4d-98e1031fe455",
        "colab": {
          "base_uri": "https://localhost:8080/",
          "height": 35
        }
      },
      "source": [
        "# 2. 바로 python list를 넣어 줌으로써 만들기\n",
        "arr2 = np.array([1,2,3,4,5])\n",
        "arr2"
      ],
      "execution_count": null,
      "outputs": [
        {
          "output_type": "execute_result",
          "data": {
            "text/plain": [
              "array([1, 2, 3, 4, 5])"
            ]
          },
          "metadata": {
            "tags": []
          },
          "execution_count": 11
        }
      ]
    },
    {
      "cell_type": "code",
      "metadata": {
        "id": "y-QR1UFNXhzf",
        "outputId": "bc7f0d43-479f-4f27-a159-489b0155f829",
        "colab": {
          "base_uri": "https://localhost:8080/",
          "height": 35
        }
      },
      "source": [
        "arr2.shape"
      ],
      "execution_count": null,
      "outputs": [
        {
          "output_type": "execute_result",
          "data": {
            "text/plain": [
              "(5,)"
            ]
          },
          "metadata": {
            "tags": []
          },
          "execution_count": 12
        }
      ]
    },
    {
      "cell_type": "code",
      "metadata": {
        "id": "JyS3sNJnXjqA",
        "outputId": "d269894c-bd9e-46cf-d673-f60490e79526",
        "colab": {
          "base_uri": "https://localhost:8080/",
          "height": 35
        }
      },
      "source": [
        "# array의 자료형을 확인할 수 있다.\n",
        "arr2.dtype"
      ],
      "execution_count": null,
      "outputs": [
        {
          "output_type": "execute_result",
          "data": {
            "text/plain": [
              "dtype('int64')"
            ]
          },
          "metadata": {
            "tags": []
          },
          "execution_count": 13
        }
      ]
    },
    {
      "cell_type": "code",
      "metadata": {
        "id": "c_Vi3R_7Xmq6",
        "outputId": "504a149a-a03c-4e93-9d52-ac5f1115f326",
        "colab": {
          "base_uri": "https://localhost:8080/",
          "height": 35
        }
      },
      "source": [
        "arr3 = np.array(data2)\n",
        "arr3"
      ],
      "execution_count": null,
      "outputs": [
        {
          "output_type": "execute_result",
          "data": {
            "text/plain": [
              "array([1. , 2. , 3. , 3.5, 4. ])"
            ]
          },
          "metadata": {
            "tags": []
          },
          "execution_count": 14
        }
      ]
    },
    {
      "cell_type": "code",
      "metadata": {
        "id": "QIzPnw-1XpxR",
        "outputId": "e042b0ca-ea5c-427f-e2f7-6a092e255034",
        "colab": {
          "base_uri": "https://localhost:8080/",
          "height": 35
        }
      },
      "source": [
        "arr3.shape"
      ],
      "execution_count": null,
      "outputs": [
        {
          "output_type": "execute_result",
          "data": {
            "text/plain": [
              "(5,)"
            ]
          },
          "metadata": {
            "tags": []
          },
          "execution_count": 15
        }
      ]
    },
    {
      "cell_type": "code",
      "metadata": {
        "id": "7s_7GkJNXsD_",
        "outputId": "562776d2-6c20-4cc6-9fc2-d71a71de2061",
        "colab": {
          "base_uri": "https://localhost:8080/",
          "height": 35
        }
      },
      "source": [
        "arr3.dtype"
      ],
      "execution_count": null,
      "outputs": [
        {
          "output_type": "execute_result",
          "data": {
            "text/plain": [
              "dtype('float64')"
            ]
          },
          "metadata": {
            "tags": []
          },
          "execution_count": 16
        }
      ]
    },
    {
      "cell_type": "code",
      "metadata": {
        "id": "8EHebDpXX0iF",
        "outputId": "dc86bf07-67bb-4cf7-cdeb-65d3cf9a1d64",
        "colab": {
          "base_uri": "https://localhost:8080/",
          "height": 87
        }
      },
      "source": [
        "arr4 = np.array([[1,2,3],[4,5,6],[7,8,9],[10,11,12]])\n",
        "arr4"
      ],
      "execution_count": null,
      "outputs": [
        {
          "output_type": "execute_result",
          "data": {
            "text/plain": [
              "array([[ 1,  2,  3],\n",
              "       [ 4,  5,  6],\n",
              "       [ 7,  8,  9],\n",
              "       [10, 11, 12]])"
            ]
          },
          "metadata": {
            "tags": []
          },
          "execution_count": 17
        }
      ]
    },
    {
      "cell_type": "code",
      "metadata": {
        "id": "lD4lgEnGX20h",
        "outputId": "b65d4080-4fb9-4a51-f23d-17a8c1c3c6cb",
        "colab": {
          "base_uri": "https://localhost:8080/",
          "height": 35
        }
      },
      "source": [
        "arr4.shape"
      ],
      "execution_count": null,
      "outputs": [
        {
          "output_type": "execute_result",
          "data": {
            "text/plain": [
              "(4, 3)"
            ]
          },
          "metadata": {
            "tags": []
          },
          "execution_count": 18
        }
      ]
    },
    {
      "cell_type": "markdown",
      "metadata": {
        "id": "5eYxyEXf7Wwf"
      },
      "source": [
        "### numpy shape\n",
        "\n",
        "numpy에서는 해당 array의 크기를 알 수 있다.\n",
        "\n",
        "shape 을 확인함으로써 몇개의 데이터가 있는지, 몇 차원으로 존재하는지 등을 확인할 수 있다.\n",
        "\n",
        "위에서 arr1.shape의 결과는 (5,) 으로써, 1차원의 데이터이며 총 5라는 크기를 갖고 있음을 알 수 있다.\n",
        "\n",
        "arr4.shape의 결과는 (4,3) 으로써, 2차원의 데이터이며 4 * 3 크기를 갖고 있는 array 이다.\n",
        "\n",
        "### numpy 자료형\n",
        "\n",
        "arr1이나 arr2는 int64라는 자료형을 갖는 것에 반해 arr3는 float64라는 자료형을 갖는다.\n",
        "\n",
        "이는 arr3내부 데이터를 살펴보면 3.5라는 실수형 데이터를 갖기 때문임을 알 수 있다.\n",
        "\n",
        "numpy에서 사용되는 자료형은 아래와 같다. (자료형 뒤에 붙는 숫자는 몇 비트 크기인지를 의미한다.)\n",
        "\n",
        "- 부호가 있는 정수 int(8, 16, 32, 64)\n",
        "- 부호가 없는 정수 uint(8 ,16, 32, 54)\n",
        "- 실수 float(16, 32, 64, 128)\n",
        "- 복소수 complex(64, 128, 256)\n",
        "- 불리언 bool\n",
        "- 문자열 string_\n",
        "- 파이썬 오프젝트 object\n",
        "- 유니코드 unicode_"
      ]
    },
    {
      "cell_type": "markdown",
      "metadata": {
        "id": "QhZUMju97gm2"
      },
      "source": [
        "### 2-1. np.zeros(), np.ones(), np.arange() 함수\n",
        "numpy에서 array를 정의할 때 사용되는 함수들이다.\n",
        "\n",
        "아래 실습을 통해 각각이 어떻게 다른지 살펴본다."
      ]
    },
    {
      "cell_type": "code",
      "metadata": {
        "id": "GzbeBcPSX7LQ",
        "outputId": "3e746710-b3b4-4db2-cb1e-07911553bbfd",
        "colab": {
          "base_uri": "https://localhost:8080/",
          "height": 35
        }
      },
      "source": [
        "np.zeros(10)"
      ],
      "execution_count": null,
      "outputs": [
        {
          "output_type": "execute_result",
          "data": {
            "text/plain": [
              "array([0., 0., 0., 0., 0., 0., 0., 0., 0., 0.])"
            ]
          },
          "metadata": {
            "tags": []
          },
          "execution_count": 19
        }
      ]
    },
    {
      "cell_type": "code",
      "metadata": {
        "id": "SuBtyv2p7pAN",
        "outputId": "b44ee977-447c-476c-e2db-515f796a2394",
        "colab": {
          "base_uri": "https://localhost:8080/",
          "height": 70
        }
      },
      "source": [
        "np.zeros((3,5)) # 3행 5열"
      ],
      "execution_count": null,
      "outputs": [
        {
          "output_type": "execute_result",
          "data": {
            "text/plain": [
              "array([[0., 0., 0., 0., 0.],\n",
              "       [0., 0., 0., 0., 0.],\n",
              "       [0., 0., 0., 0., 0.]])"
            ]
          },
          "metadata": {
            "tags": []
          },
          "execution_count": 20
        }
      ]
    },
    {
      "cell_type": "markdown",
      "metadata": {
        "id": "VTF5Tf0h7uhF"
      },
      "source": [
        "> np.zeros() 함수는 인자로 받는 크기만큼, 모든요소가 0인 array를 만든다."
      ]
    },
    {
      "cell_type": "code",
      "metadata": {
        "id": "NSs8VcVZ7zZ5",
        "outputId": "05cf694b-b04d-4781-ea00-860adbfe8fdd",
        "colab": {
          "base_uri": "https://localhost:8080/",
          "height": 35
        }
      },
      "source": [
        "np.ones(9)"
      ],
      "execution_count": null,
      "outputs": [
        {
          "output_type": "execute_result",
          "data": {
            "text/plain": [
              "array([1., 1., 1., 1., 1., 1., 1., 1., 1.])"
            ]
          },
          "metadata": {
            "tags": []
          },
          "execution_count": 21
        }
      ]
    },
    {
      "cell_type": "code",
      "metadata": {
        "id": "ksrmrz0g7161",
        "outputId": "c57d6dbe-21cc-4f92-9027-4dde2824c43b",
        "colab": {
          "base_uri": "https://localhost:8080/",
          "height": 52
        }
      },
      "source": [
        "np.ones((2,10))"
      ],
      "execution_count": null,
      "outputs": [
        {
          "output_type": "execute_result",
          "data": {
            "text/plain": [
              "array([[1., 1., 1., 1., 1., 1., 1., 1., 1., 1.],\n",
              "       [1., 1., 1., 1., 1., 1., 1., 1., 1., 1.]])"
            ]
          },
          "metadata": {
            "tags": []
          },
          "execution_count": 22
        }
      ]
    },
    {
      "cell_type": "markdown",
      "metadata": {
        "id": "c6MF0cXi74I8"
      },
      "source": [
        "> np.ones() 함수는 인자로 받는 크기만큼, 모든요소가 1인 array를 만든다."
      ]
    },
    {
      "cell_type": "code",
      "metadata": {
        "id": "Gsmrzjv-758x",
        "outputId": "6db5c5dc-32f7-4340-950d-5cdf8b7533fd",
        "colab": {
          "base_uri": "https://localhost:8080/",
          "height": 35
        }
      },
      "source": [
        "np.arange(10)   # arrange가 아닌 arange"
      ],
      "execution_count": null,
      "outputs": [
        {
          "output_type": "execute_result",
          "data": {
            "text/plain": [
              "array([0, 1, 2, 3, 4, 5, 6, 7, 8, 9])"
            ]
          },
          "metadata": {
            "tags": []
          },
          "execution_count": 23
        }
      ]
    },
    {
      "cell_type": "code",
      "metadata": {
        "id": "D9ue9vwC7-rF",
        "outputId": "a04d0fbd-3fc1-4c08-e042-e26547ca002d",
        "colab": {
          "base_uri": "https://localhost:8080/",
          "height": 35
        }
      },
      "source": [
        "np.arange(3,11)"
      ],
      "execution_count": null,
      "outputs": [
        {
          "output_type": "execute_result",
          "data": {
            "text/plain": [
              "array([ 3,  4,  5,  6,  7,  8,  9, 10])"
            ]
          },
          "metadata": {
            "tags": []
          },
          "execution_count": 24
        }
      ]
    },
    {
      "cell_type": "markdown",
      "metadata": {
        "id": "l3j1OEub8HKW"
      },
      "source": [
        "> np.arange() 함수는 인자로 받는 값 만큼 1씩 증가하는 1차원 array를 만든다.  \n",
        "> 이때 하나의 인자만 입력하면 0 ~ 입력한 인자, 값 만큼의 크기를 가진다."
      ]
    },
    {
      "cell_type": "markdown",
      "metadata": {
        "id": "qyh3j-xf8Ly5"
      },
      "source": [
        "### 3. Array 연산\n",
        "기본적으로 numpy에서 연산을 할때는 크기가 서로 동일한 array 끼리 연산이 진행된다.\n",
        "\n",
        "이때 같은 위치에 있는 요소들 끼리 연산이 진행된다."
      ]
    },
    {
      "cell_type": "code",
      "metadata": {
        "id": "VKrXZXi68J8u",
        "outputId": "a3d54973-388e-4e07-cc79-3a9528792d5f",
        "colab": {
          "base_uri": "https://localhost:8080/",
          "height": 52
        }
      },
      "source": [
        "arr1 = np.array([[1,2,3],[4,5,6]])\n",
        "arr1"
      ],
      "execution_count": null,
      "outputs": [
        {
          "output_type": "execute_result",
          "data": {
            "text/plain": [
              "array([[1, 2, 3],\n",
              "       [4, 5, 6]])"
            ]
          },
          "metadata": {
            "tags": []
          },
          "execution_count": 25
        }
      ]
    },
    {
      "cell_type": "code",
      "metadata": {
        "id": "HCoLUb798R6t",
        "outputId": "f40fba03-9f29-476b-c4bb-765a9c8faf8d",
        "colab": {
          "base_uri": "https://localhost:8080/",
          "height": 35
        }
      },
      "source": [
        "arr1.shape"
      ],
      "execution_count": null,
      "outputs": [
        {
          "output_type": "execute_result",
          "data": {
            "text/plain": [
              "(2, 3)"
            ]
          },
          "metadata": {
            "tags": []
          },
          "execution_count": 26
        }
      ]
    },
    {
      "cell_type": "code",
      "metadata": {
        "id": "yntEg7WV8Tkl",
        "outputId": "e4a14438-0809-4a82-e620-0ef23c132b6c",
        "colab": {
          "base_uri": "https://localhost:8080/",
          "height": 52
        }
      },
      "source": [
        "arr2 = np.array([[10,11,12],[13,14,15]])\n",
        "arr2"
      ],
      "execution_count": null,
      "outputs": [
        {
          "output_type": "execute_result",
          "data": {
            "text/plain": [
              "array([[10, 11, 12],\n",
              "       [13, 14, 15]])"
            ]
          },
          "metadata": {
            "tags": []
          },
          "execution_count": 27
        }
      ]
    },
    {
      "cell_type": "code",
      "metadata": {
        "id": "IIRgz8AU8cPi",
        "outputId": "e86b290f-e55c-4f4c-9bb4-377852d3d78c",
        "colab": {
          "base_uri": "https://localhost:8080/",
          "height": 35
        }
      },
      "source": [
        "arr2.shape"
      ],
      "execution_count": null,
      "outputs": [
        {
          "output_type": "execute_result",
          "data": {
            "text/plain": [
              "(2, 3)"
            ]
          },
          "metadata": {
            "tags": []
          },
          "execution_count": 28
        }
      ]
    },
    {
      "cell_type": "markdown",
      "metadata": {
        "id": "b6pUYrhi8dUi"
      },
      "source": [
        "#### 3-1. array 덧셈"
      ]
    },
    {
      "cell_type": "code",
      "metadata": {
        "id": "FtVvwUvY8feR",
        "outputId": "67ca1bfd-c7b1-4d0c-c56c-98bbf17dd080",
        "colab": {
          "base_uri": "https://localhost:8080/",
          "height": 52
        }
      },
      "source": [
        "arr1 + arr2"
      ],
      "execution_count": null,
      "outputs": [
        {
          "output_type": "execute_result",
          "data": {
            "text/plain": [
              "array([[11, 13, 15],\n",
              "       [17, 19, 21]])"
            ]
          },
          "metadata": {
            "tags": []
          },
          "execution_count": 29
        }
      ]
    },
    {
      "cell_type": "markdown",
      "metadata": {
        "id": "SoFJDBXC8idx"
      },
      "source": [
        "#### 3-2. array 뺄셈"
      ]
    },
    {
      "cell_type": "code",
      "metadata": {
        "id": "yuZnwJJU8hTR",
        "outputId": "162a516f-4677-49eb-a932-e7e284b1abdb",
        "colab": {
          "base_uri": "https://localhost:8080/",
          "height": 52
        }
      },
      "source": [
        "arr1 - arr2"
      ],
      "execution_count": null,
      "outputs": [
        {
          "output_type": "execute_result",
          "data": {
            "text/plain": [
              "array([[-9, -9, -9],\n",
              "       [-9, -9, -9]])"
            ]
          },
          "metadata": {
            "tags": []
          },
          "execution_count": 30
        }
      ]
    },
    {
      "cell_type": "markdown",
      "metadata": {
        "id": "O4lhh0C88mYt"
      },
      "source": [
        "#### 3-3. array 곱셈"
      ]
    },
    {
      "cell_type": "markdown",
      "metadata": {
        "id": "MHB6g2ds8p1A"
      },
      "source": [
        "주의\n",
        "\n",
        "행렬의 곱처럼 곱셈이 진행되는 것이 아니라 각 요소별로 곱셈이 진행된다."
      ]
    },
    {
      "cell_type": "markdown",
      "metadata": {
        "id": "rhk5G9adDPzK"
      },
      "source": [
        "행렬의 곱셈: https://ko.wikipedia.org/wiki/%ED%96%89%EB%A0%AC_%EA%B3%B1%EC%85%88"
      ]
    },
    {
      "cell_type": "code",
      "metadata": {
        "id": "YdfHavIv8ng1",
        "outputId": "3e7d89ca-fc3c-4f23-d4ab-1238ce67d003",
        "colab": {
          "base_uri": "https://localhost:8080/",
          "height": 52
        }
      },
      "source": [
        "arr1 * arr2"
      ],
      "execution_count": null,
      "outputs": [
        {
          "output_type": "execute_result",
          "data": {
            "text/plain": [
              "array([[10, 22, 36],\n",
              "       [52, 70, 90]])"
            ]
          },
          "metadata": {
            "tags": []
          },
          "execution_count": 31
        }
      ]
    },
    {
      "cell_type": "markdown",
      "metadata": {
        "id": "8WGGevay8tf1"
      },
      "source": [
        "#### 3-4. array 나눗셈"
      ]
    },
    {
      "cell_type": "code",
      "metadata": {
        "id": "ZqFNrWTh8uvx",
        "outputId": "bc215857-dadd-402d-8b08-d1dd62031a79",
        "colab": {
          "base_uri": "https://localhost:8080/",
          "height": 52
        }
      },
      "source": [
        "arr1 / arr2"
      ],
      "execution_count": null,
      "outputs": [
        {
          "output_type": "execute_result",
          "data": {
            "text/plain": [
              "array([[0.1       , 0.18181818, 0.25      ],\n",
              "       [0.30769231, 0.35714286, 0.4       ]])"
            ]
          },
          "metadata": {
            "tags": []
          },
          "execution_count": 32
        }
      ]
    },
    {
      "cell_type": "markdown",
      "metadata": {
        "id": "FSFGtAZG8xpy"
      },
      "source": [
        "#### 3-5. array의 브로드 캐스트\n",
        "\n",
        "위에서는 array가 같은 크기를 가져야 서로 연산이 가능하다고 했지만,\n",
        "\n",
        "numpy에서는 브로드캐스트라는 기능을 제공한다.\n",
        "\n",
        "브로드캐스트란, 서로 크기가 다른 array가 연산이 가능하게끔 하는 것이다."
      ]
    },
    {
      "cell_type": "code",
      "metadata": {
        "id": "THKK0DC99YJs",
        "outputId": "9246cf2a-7a62-4aa0-8c6d-9b8047815742",
        "colab": {
          "base_uri": "https://localhost:8080/",
          "height": 52
        }
      },
      "source": [
        "arr1"
      ],
      "execution_count": null,
      "outputs": [
        {
          "output_type": "execute_result",
          "data": {
            "text/plain": [
              "array([[1, 2, 3],\n",
              "       [4, 5, 6]])"
            ]
          },
          "metadata": {
            "tags": []
          },
          "execution_count": 33
        }
      ]
    },
    {
      "cell_type": "code",
      "metadata": {
        "id": "cc4pfXeq9aF9",
        "outputId": "eebd348c-2b4c-4776-f979-34f489c1704f",
        "colab": {
          "base_uri": "https://localhost:8080/",
          "height": 35
        }
      },
      "source": [
        "arr1.shape"
      ],
      "execution_count": null,
      "outputs": [
        {
          "output_type": "execute_result",
          "data": {
            "text/plain": [
              "(2, 3)"
            ]
          },
          "metadata": {
            "tags": []
          },
          "execution_count": 34
        }
      ]
    },
    {
      "cell_type": "code",
      "metadata": {
        "id": "0muSojHT9bb0",
        "outputId": "d4e043e5-ea1c-4d09-8f91-794aa90d4899",
        "colab": {
          "base_uri": "https://localhost:8080/",
          "height": 35
        }
      },
      "source": [
        "arr3 = np.array([10,11,12])\n",
        "arr3"
      ],
      "execution_count": null,
      "outputs": [
        {
          "output_type": "execute_result",
          "data": {
            "text/plain": [
              "array([10, 11, 12])"
            ]
          },
          "metadata": {
            "tags": []
          },
          "execution_count": 35
        }
      ]
    },
    {
      "cell_type": "code",
      "metadata": {
        "id": "a9YeihWP9iTN",
        "outputId": "c5d9bca5-415a-4fae-a97a-fcc1c86261c6",
        "colab": {
          "base_uri": "https://localhost:8080/",
          "height": 35
        }
      },
      "source": [
        "arr3.shape"
      ],
      "execution_count": null,
      "outputs": [
        {
          "output_type": "execute_result",
          "data": {
            "text/plain": [
              "(3,)"
            ]
          },
          "metadata": {
            "tags": []
          },
          "execution_count": 36
        }
      ]
    },
    {
      "cell_type": "code",
      "metadata": {
        "id": "YkDv1wb99jxo",
        "outputId": "761e3456-b27a-4edc-ab7b-1affd5fd48e9",
        "colab": {
          "base_uri": "https://localhost:8080/",
          "height": 52
        }
      },
      "source": [
        "arr1 + arr3"
      ],
      "execution_count": null,
      "outputs": [
        {
          "output_type": "execute_result",
          "data": {
            "text/plain": [
              "array([[11, 13, 15],\n",
              "       [14, 16, 18]])"
            ]
          },
          "metadata": {
            "tags": []
          },
          "execution_count": 37
        }
      ]
    },
    {
      "cell_type": "code",
      "metadata": {
        "id": "bOziBW_s9lMs",
        "outputId": "d2230871-8e18-4501-e3f7-f1d4364b311b",
        "colab": {
          "base_uri": "https://localhost:8080/",
          "height": 52
        }
      },
      "source": [
        "arr1 * arr3"
      ],
      "execution_count": null,
      "outputs": [
        {
          "output_type": "execute_result",
          "data": {
            "text/plain": [
              "array([[10, 22, 36],\n",
              "       [40, 55, 72]])"
            ]
          },
          "metadata": {
            "tags": []
          },
          "execution_count": 38
        }
      ]
    },
    {
      "cell_type": "markdown",
      "metadata": {
        "id": "SAvLDjK-9oFp"
      },
      "source": [
        "위와 같이 서로 크기가 다른 arr1과 arr3의 연산이 가능하다.\n",
        "\n",
        "연산결과를 살펴보면 arr3이 [10,11,12] 에서 [[10,11,12],[10,11,12]]로 확장되어 계산되었음을 확인할 수 있다.\n",
        "\n",
        "동일한 방식으로 하나의 array에 스칼라 연산도 가능하다."
      ]
    },
    {
      "cell_type": "code",
      "metadata": {
        "id": "bYPg52MA9pkd",
        "outputId": "9a2a4a0e-fe8b-43c3-d6fd-c2745a8921bd",
        "colab": {
          "base_uri": "https://localhost:8080/",
          "height": 52
        }
      },
      "source": [
        "arr1 * 10"
      ],
      "execution_count": null,
      "outputs": [
        {
          "output_type": "execute_result",
          "data": {
            "text/plain": [
              "array([[10, 20, 30],\n",
              "       [40, 50, 60]])"
            ]
          },
          "metadata": {
            "tags": []
          },
          "execution_count": 39
        }
      ]
    },
    {
      "cell_type": "code",
      "metadata": {
        "id": "3AXdIb-Q9r9J",
        "outputId": "0b44d971-d1de-4c57-ba0d-955bd7d3bb06",
        "colab": {
          "base_uri": "https://localhost:8080/",
          "height": 52
        }
      },
      "source": [
        "# 요소에 대해 제곱처리\n",
        "arr1 ** 2"
      ],
      "execution_count": null,
      "outputs": [
        {
          "output_type": "execute_result",
          "data": {
            "text/plain": [
              "array([[ 1,  4,  9],\n",
              "       [16, 25, 36]])"
            ]
          },
          "metadata": {
            "tags": []
          },
          "execution_count": 40
        }
      ]
    },
    {
      "cell_type": "markdown",
      "metadata": {
        "id": "_0Hd5TIH95Vh"
      },
      "source": [
        "### 4. Array 인덱싱\n",
        "numpy에서 사용되는 인덱싱은 기본적으로 python 인덱싱과 동일하다.\n",
        "\n",
        "이때, python에서와 같이 1번째로 시작하는 것이 아니라 0번째로 시작하는 것에 주의한다."
      ]
    },
    {
      "cell_type": "code",
      "metadata": {
        "id": "GL_E7F-K97Wx",
        "outputId": "ff85b343-1934-4439-e62e-4255d4d54502",
        "colab": {
          "base_uri": "https://localhost:8080/",
          "height": 35
        }
      },
      "source": [
        "arr1 = np.arange(10)\n",
        "arr1"
      ],
      "execution_count": null,
      "outputs": [
        {
          "output_type": "execute_result",
          "data": {
            "text/plain": [
              "array([0, 1, 2, 3, 4, 5, 6, 7, 8, 9])"
            ]
          },
          "metadata": {
            "tags": []
          },
          "execution_count": 41
        }
      ]
    },
    {
      "cell_type": "code",
      "metadata": {
        "id": "C_YQUsr999zx",
        "outputId": "4032960b-6ad6-4190-e168-5bd8d299cb1d",
        "colab": {
          "base_uri": "https://localhost:8080/",
          "height": 35
        }
      },
      "source": [
        "# 0번째 요소\n",
        "arr1[0]"
      ],
      "execution_count": null,
      "outputs": [
        {
          "output_type": "execute_result",
          "data": {
            "text/plain": [
              "0"
            ]
          },
          "metadata": {
            "tags": []
          },
          "execution_count": 42
        }
      ]
    },
    {
      "cell_type": "code",
      "metadata": {
        "id": "XKeGc2XE9_Eh",
        "outputId": "c13698f1-e3c9-4c91-9ca0-4cdc065930dd",
        "colab": {
          "base_uri": "https://localhost:8080/",
          "height": 35
        }
      },
      "source": [
        "# 3번째 요소\n",
        "arr1[3]"
      ],
      "execution_count": null,
      "outputs": [
        {
          "output_type": "execute_result",
          "data": {
            "text/plain": [
              "3"
            ]
          },
          "metadata": {
            "tags": []
          },
          "execution_count": 43
        }
      ]
    },
    {
      "cell_type": "code",
      "metadata": {
        "id": "aaWPEvTk-Aae",
        "outputId": "d9c60791-4f84-45e7-a45f-a15485f70255",
        "colab": {
          "base_uri": "https://localhost:8080/",
          "height": 35
        }
      },
      "source": [
        "# 3번째 요소부터 8번째 요소\n",
        "arr1[3:9]"
      ],
      "execution_count": null,
      "outputs": [
        {
          "output_type": "execute_result",
          "data": {
            "text/plain": [
              "array([3, 4, 5, 6, 7, 8])"
            ]
          },
          "metadata": {
            "tags": []
          },
          "execution_count": 44
        }
      ]
    },
    {
      "cell_type": "code",
      "metadata": {
        "id": "U2xZny1r-B9V",
        "outputId": "dcb53d68-4880-4a3b-8c65-273b90ff79e6",
        "colab": {
          "base_uri": "https://localhost:8080/",
          "height": 35
        }
      },
      "source": [
        "arr1[:]"
      ],
      "execution_count": null,
      "outputs": [
        {
          "output_type": "execute_result",
          "data": {
            "text/plain": [
              "array([0, 1, 2, 3, 4, 5, 6, 7, 8, 9])"
            ]
          },
          "metadata": {
            "tags": []
          },
          "execution_count": 45
        }
      ]
    },
    {
      "cell_type": "markdown",
      "metadata": {
        "id": "saTdz1eb-D_3"
      },
      "source": [
        "물론 1차원이 아닌 그 이상의 차원에서도 인덱싱이 가능하다."
      ]
    },
    {
      "cell_type": "code",
      "metadata": {
        "id": "RFeDlPb7-FTN",
        "outputId": "8281d44d-234a-4b13-e630-5cbc3c76fc57",
        "colab": {
          "base_uri": "https://localhost:8080/",
          "height": 70
        }
      },
      "source": [
        "arr2 = np.array([[1,2,3,4],\n",
        "                 [5,6,7,8],\n",
        "                 [9,10,11,12]])\n",
        "arr2"
      ],
      "execution_count": null,
      "outputs": [
        {
          "output_type": "execute_result",
          "data": {
            "text/plain": [
              "array([[ 1,  2,  3,  4],\n",
              "       [ 5,  6,  7,  8],\n",
              "       [ 9, 10, 11, 12]])"
            ]
          },
          "metadata": {
            "tags": []
          },
          "execution_count": 46
        }
      ]
    },
    {
      "cell_type": "code",
      "metadata": {
        "id": "C8KmCyU3-IQb",
        "outputId": "f74b6b0c-8afd-4dbe-e524-5fd7317a9c80",
        "colab": {
          "base_uri": "https://localhost:8080/",
          "height": 35
        }
      },
      "source": [
        "# 2차원의 array에서 인덱싱을 하기 위해선 2개의 인자를 입력해야 합니다.\n",
        "arr2[0,0]"
      ],
      "execution_count": null,
      "outputs": [
        {
          "output_type": "execute_result",
          "data": {
            "text/plain": [
              "1"
            ]
          },
          "metadata": {
            "tags": []
          },
          "execution_count": 47
        }
      ]
    },
    {
      "cell_type": "code",
      "metadata": {
        "id": "HkFAnddN-LGs",
        "outputId": "d515771c-da6c-44ae-aede-0d2d0c4107e6",
        "colab": {
          "base_uri": "https://localhost:8080/",
          "height": 35
        }
      },
      "source": [
        "# 2행의 모든 요소 꺼내기\n",
        "arr2[2,:]"
      ],
      "execution_count": null,
      "outputs": [
        {
          "output_type": "execute_result",
          "data": {
            "text/plain": [
              "array([ 9, 10, 11, 12])"
            ]
          },
          "metadata": {
            "tags": []
          },
          "execution_count": 48
        }
      ]
    },
    {
      "cell_type": "code",
      "metadata": {
        "id": "oeQDDYls-S_c",
        "outputId": "3332eb6a-9271-4381-bb56-bf9652cd5434",
        "colab": {
          "base_uri": "https://localhost:8080/",
          "height": 35
        }
      },
      "source": [
        "# 2행의 3번째 요소 꺼내기\n",
        "arr2[2,3]"
      ],
      "execution_count": null,
      "outputs": [
        {
          "output_type": "execute_result",
          "data": {
            "text/plain": [
              "12"
            ]
          },
          "metadata": {
            "tags": []
          },
          "execution_count": 49
        }
      ]
    },
    {
      "cell_type": "code",
      "metadata": {
        "id": "nv5g8VyQ-Uww",
        "outputId": "d63bcc60-bfa7-4f93-81fe-8ad246a6efe4",
        "colab": {
          "base_uri": "https://localhost:8080/",
          "height": 35
        }
      },
      "source": [
        "# 모든 열의 3번째 요소 꺼내기\n",
        "arr2[:,3]"
      ],
      "execution_count": null,
      "outputs": [
        {
          "output_type": "execute_result",
          "data": {
            "text/plain": [
              "array([ 4,  8, 12])"
            ]
          },
          "metadata": {
            "tags": []
          },
          "execution_count": 50
        }
      ]
    },
    {
      "cell_type": "markdown",
      "metadata": {
        "id": "B1Y4mpQW-ass"
      },
      "source": [
        "### 5. Array boolean 인덱싱(마스크)\n",
        "위에서 이용한 다차원의 인덱싱을 응용하여 boolean 인덱싱을 할 수 있다.\n",
        "\n",
        "이 기능은 주로 마스크라고 이야기하는데, boolean인덱싱을 통해 만들어낸 array를 통해 우리가 원하는 행 또는 열의 값만 뽑아낼 수 있다.\n",
        "\n",
        "즉, 마스크처럼 우리가 가리고 싶은 부분은 가리고, 원하는 요소만 꺼낼 수 있다."
      ]
    },
    {
      "cell_type": "code",
      "metadata": {
        "id": "u-9lN82r-e2N",
        "outputId": "4bdc7419-549c-4320-dc26-663e05e883b7",
        "colab": {
          "base_uri": "https://localhost:8080/",
          "height": 52
        }
      },
      "source": [
        "names = np.array(['Beomwoo','Beomwoo','Kim','Joan','Lee','Beomwoo','Park','Beomwoo'])\n",
        "names"
      ],
      "execution_count": null,
      "outputs": [
        {
          "output_type": "execute_result",
          "data": {
            "text/plain": [
              "array(['Beomwoo', 'Beomwoo', 'Kim', 'Joan', 'Lee', 'Beomwoo', 'Park',\n",
              "       'Beomwoo'], dtype='<U7')"
            ]
          },
          "metadata": {
            "tags": []
          },
          "execution_count": 51
        }
      ]
    },
    {
      "cell_type": "code",
      "metadata": {
        "id": "c8iOyWYG-hIl",
        "outputId": "127e7cc3-9f14-4d0b-8e69-eabb51faa74a",
        "colab": {
          "base_uri": "https://localhost:8080/",
          "height": 35
        }
      },
      "source": [
        "names.shape"
      ],
      "execution_count": null,
      "outputs": [
        {
          "output_type": "execute_result",
          "data": {
            "text/plain": [
              "(8,)"
            ]
          },
          "metadata": {
            "tags": []
          },
          "execution_count": 52
        }
      ]
    },
    {
      "cell_type": "code",
      "metadata": {
        "id": "9FlWwIgp-imI",
        "outputId": "db62e0c0-7a7a-490d-f435-f12b4ae6bf17",
        "colab": {
          "base_uri": "https://localhost:8080/",
          "height": 157
        }
      },
      "source": [
        "# 아래에서 사용되는 np.random.randn() 함수는 기대값이 0이고, 표준편차가 1인 가우시안 정규 분포를 따르는 난수를 발생시키는 함수이다.\n",
        "# 이 외에도 0~1의 난수를 발생시키는 np.random.rand() 함수도 존재한다.\n",
        "data = np.random.randn(8,4)\n",
        "data"
      ],
      "execution_count": null,
      "outputs": [
        {
          "output_type": "execute_result",
          "data": {
            "text/plain": [
              "array([[-1.03473946, -0.36055944, -2.24640131,  1.13453313],\n",
              "       [ 1.20998431,  1.54408423,  0.26372074,  0.57906291],\n",
              "       [-0.35905407, -0.78353957,  2.3896883 , -0.24733732],\n",
              "       [-0.79861554, -0.25027017,  1.18995506,  0.17150967],\n",
              "       [-0.14214759, -0.69904533, -0.72300719, -0.74633121],\n",
              "       [-0.05973829, -0.26083322,  0.65250492, -0.00585773],\n",
              "       [-0.55091946, -1.16345655, -0.40944615, -0.3316748 ],\n",
              "       [-0.43457401, -0.21669861,  0.82326229, -0.73047053]])"
            ]
          },
          "metadata": {
            "tags": []
          },
          "execution_count": 53
        }
      ]
    },
    {
      "cell_type": "code",
      "metadata": {
        "id": "pxt605L2-nF0",
        "outputId": "c6d5f342-177a-4cc5-9c86-f194736b9f31",
        "colab": {
          "base_uri": "https://localhost:8080/",
          "height": 35
        }
      },
      "source": [
        "data.shape"
      ],
      "execution_count": null,
      "outputs": [
        {
          "output_type": "execute_result",
          "data": {
            "text/plain": [
              "(8, 4)"
            ]
          },
          "metadata": {
            "tags": []
          },
          "execution_count": 54
        }
      ]
    },
    {
      "cell_type": "markdown",
      "metadata": {
        "id": "MmcDwfIN-oh1"
      },
      "source": [
        "위와 같은 names와 data라는 array가 있다.\n",
        "\n",
        "이때, names의 각 요소가 data의 각 행과 연결된다고 가정해보자.\n",
        "\n",
        "그리고 이 때, names가 Beomwoo인 행의 data만 보고 싶을 때 다음과 같이 마스크를 사용한다."
      ]
    },
    {
      "cell_type": "code",
      "metadata": {
        "id": "wYYDbnO0-pkM",
        "outputId": "a6a918ae-83a2-4f16-b24e-abb964c40420",
        "colab": {
          "base_uri": "https://localhost:8080/",
          "height": 35
        }
      },
      "source": [
        "# 요소가 Beomwoo인 항목에 대한 mask 생성\n",
        "names_Beomwoo_mask = (names == 'Beomwoo')\n",
        "names_Beomwoo_mask"
      ],
      "execution_count": null,
      "outputs": [
        {
          "output_type": "execute_result",
          "data": {
            "text/plain": [
              "array([ True,  True, False, False, False,  True, False,  True])"
            ]
          },
          "metadata": {
            "tags": []
          },
          "execution_count": 55
        }
      ]
    },
    {
      "cell_type": "code",
      "metadata": {
        "id": "_EEB2pTj-svd",
        "outputId": "99fed538-cf11-4749-c75d-d339e09fd4c7",
        "colab": {
          "base_uri": "https://localhost:8080/",
          "height": 87
        }
      },
      "source": [
        "# [ True,  True, False, False, False,  True, False,  True] 중 \n",
        "# True가 행에 가 포함되어있는 열만 뽑기\n",
        "data[names_Beomwoo_mask,:]"
      ],
      "execution_count": null,
      "outputs": [
        {
          "output_type": "execute_result",
          "data": {
            "text/plain": [
              "array([[-1.03473946, -0.36055944, -2.24640131,  1.13453313],\n",
              "       [ 1.20998431,  1.54408423,  0.26372074,  0.57906291],\n",
              "       [-0.05973829, -0.26083322,  0.65250492, -0.00585773],\n",
              "       [-0.43457401, -0.21669861,  0.82326229, -0.73047053]])"
            ]
          },
          "metadata": {
            "tags": []
          },
          "execution_count": 56
        }
      ]
    },
    {
      "cell_type": "markdown",
      "metadata": {
        "id": "te-sBZZc-u5V"
      },
      "source": [
        "위의 결과를 보면, 요소가 Beomwoo인 것은 0번째, 1번째, 5번째, 7번째 이므로\n",
        "\n",
        "data에서 0,1,5,7행의 모든 요소를 꺼내와야 한다.\n",
        "\n",
        "이를 위해 요소가 Beomwoo인 것에 대한 boolean 값을 가지는 mask를 만들었고\n",
        "\n",
        "마스크를 인덱싱에 응용하여 data의 0,1,5,7행을 꺼냈다."
      ]
    },
    {
      "cell_type": "code",
      "metadata": {
        "id": "6PfX5f1x-v4F",
        "outputId": "73a9f42c-b1b5-43b6-dba8-5ddc56b60e29",
        "colab": {
          "base_uri": "https://localhost:8080/",
          "height": 35
        }
      },
      "source": [
        "# 요소가 Kim인 행의 데이터만 꺼내기\n",
        "data[names == 'Kim',:]"
      ],
      "execution_count": null,
      "outputs": [
        {
          "output_type": "execute_result",
          "data": {
            "text/plain": [
              "array([[-0.35905407, -0.78353957,  2.3896883 , -0.24733732]])"
            ]
          },
          "metadata": {
            "tags": []
          },
          "execution_count": 57
        }
      ]
    },
    {
      "cell_type": "code",
      "metadata": {
        "id": "ESbx4Qy0-zb6",
        "outputId": "3bafc94c-5ad6-4261-fe59-9ec07212016d",
        "colab": {
          "base_uri": "https://localhost:8080/",
          "height": 52
        }
      },
      "source": [
        "# 논리 연산을 응용하여, 요소가 Kim 또는 Park인 행의 데이터만 꺼내기\n",
        "data[(names == 'Kim') | (names == 'Park'),:]"
      ],
      "execution_count": null,
      "outputs": [
        {
          "output_type": "execute_result",
          "data": {
            "text/plain": [
              "array([[-0.35905407, -0.78353957,  2.3896883 , -0.24733732],\n",
              "       [-0.55091946, -1.16345655, -0.40944615, -0.3316748 ]])"
            ]
          },
          "metadata": {
            "tags": []
          },
          "execution_count": 58
        }
      ]
    },
    {
      "cell_type": "markdown",
      "metadata": {
        "id": "_kCfYLPm-1YJ"
      },
      "source": [
        "물론 data array 자체적으로도 마스크를 만들고, 이를 응용하여 인덱싱이 가능하다.\n",
        "\n",
        "data array에서 0번째 열의 값이 0보다 작은 행을 구해보자."
      ]
    },
    {
      "cell_type": "markdown",
      "metadata": {
        "id": "FtJSRMGrHJVn"
      },
      "source": [
        "1,1 / 1,2 / 1,3 / 1,4 ... 중 0보다 작은 데이터"
      ]
    },
    {
      "cell_type": "code",
      "metadata": {
        "id": "D6cjuuCX-2Yu",
        "outputId": "7a34f9e2-2861-4723-faeb-74b3eebbbc33",
        "colab": {
          "base_uri": "https://localhost:8080/",
          "height": 35
        }
      },
      "source": [
        "# 먼저 마스크를 만든다.\n",
        "# data array에서 0번째 열이 0보다 작은 요소의 boolean 값은 다음과 같다.\n",
        "data[:,0] < 0"
      ],
      "execution_count": null,
      "outputs": [
        {
          "output_type": "execute_result",
          "data": {
            "text/plain": [
              "array([ True, False,  True,  True,  True,  True,  True,  True])"
            ]
          },
          "metadata": {
            "tags": []
          },
          "execution_count": 59
        }
      ]
    },
    {
      "cell_type": "code",
      "metadata": {
        "id": "_hNIO2bd-5bx",
        "outputId": "d5624cc6-b45b-4c55-ed4a-915c04585292",
        "colab": {
          "base_uri": "https://localhost:8080/",
          "height": 140
        }
      },
      "source": [
        "# 위에서 만든 마스크를 이용하여 0번째 열의 값이 0보다 작은 행을 구한다.\n",
        "# 위 array에서 true를 반환한 행들만 출력\n",
        "data[data[:,0]<0,:]"
      ],
      "execution_count": null,
      "outputs": [
        {
          "output_type": "execute_result",
          "data": {
            "text/plain": [
              "array([[-1.03473946, -0.36055944, -2.24640131,  1.13453313],\n",
              "       [-0.35905407, -0.78353957,  2.3896883 , -0.24733732],\n",
              "       [-0.79861554, -0.25027017,  1.18995506,  0.17150967],\n",
              "       [-0.14214759, -0.69904533, -0.72300719, -0.74633121],\n",
              "       [-0.05973829, -0.26083322,  0.65250492, -0.00585773],\n",
              "       [-0.55091946, -1.16345655, -0.40944615, -0.3316748 ],\n",
              "       [-0.43457401, -0.21669861,  0.82326229, -0.73047053]])"
            ]
          },
          "metadata": {
            "tags": []
          },
          "execution_count": 60
        }
      ]
    },
    {
      "cell_type": "markdown",
      "metadata": {
        "id": "PGzQj3rE--OZ"
      },
      "source": [
        "이를 통해 특정 위치에만 우리가 원하는 값을 대입할 수 있다.\n",
        "\n",
        "위에서 얻은, 0번째 열의 값이 0보다 작은 행의 2,3번째 열값에 0을 대입해보자."
      ]
    },
    {
      "cell_type": "code",
      "metadata": {
        "id": "1-OLhZrK-7q1",
        "outputId": "e74f24be-9431-416c-caf9-3056de9055e0",
        "colab": {
          "base_uri": "https://localhost:8080/",
          "height": 140
        }
      },
      "source": [
        "# 0번째 열의 값이 0보다 작은 행의 2,3번째 열 값\n",
        "data[data[:,0]<0,2:4]     # 행 == data[:,0]<0  열 == 2:4"
      ],
      "execution_count": null,
      "outputs": [
        {
          "output_type": "execute_result",
          "data": {
            "text/plain": [
              "array([[-2.24640131,  1.13453313],\n",
              "       [ 2.3896883 , -0.24733732],\n",
              "       [ 1.18995506,  0.17150967],\n",
              "       [-0.72300719, -0.74633121],\n",
              "       [ 0.65250492, -0.00585773],\n",
              "       [-0.40944615, -0.3316748 ],\n",
              "       [ 0.82326229, -0.73047053]])"
            ]
          },
          "metadata": {
            "tags": []
          },
          "execution_count": 61
        }
      ]
    },
    {
      "cell_type": "code",
      "metadata": {
        "id": "zfDIjwYc_D7G",
        "outputId": "ae9275a9-e948-4bd7-89a9-c605b57fab17",
        "colab": {
          "base_uri": "https://localhost:8080/",
          "height": 157
        }
      },
      "source": [
        "data[data[:,0]<0,2:4] = 0\n",
        "data"
      ],
      "execution_count": null,
      "outputs": [
        {
          "output_type": "execute_result",
          "data": {
            "text/plain": [
              "array([[-1.03473946, -0.36055944,  0.        ,  0.        ],\n",
              "       [ 1.20998431,  1.54408423,  0.26372074,  0.57906291],\n",
              "       [-0.35905407, -0.78353957,  0.        ,  0.        ],\n",
              "       [-0.79861554, -0.25027017,  0.        ,  0.        ],\n",
              "       [-0.14214759, -0.69904533,  0.        ,  0.        ],\n",
              "       [-0.05973829, -0.26083322,  0.        ,  0.        ],\n",
              "       [-0.55091946, -1.16345655,  0.        ,  0.        ],\n",
              "       [-0.43457401, -0.21669861,  0.        ,  0.        ]])"
            ]
          },
          "metadata": {
            "tags": []
          },
          "execution_count": 63
        }
      ]
    },
    {
      "cell_type": "markdown",
      "metadata": {
        "id": "u1vGfsJh_HXR"
      },
      "source": [
        "## 6. Numpy 함수\n",
        "\n",
        "numpy에서는 array에 적용되는 다양한 함수가 있다.\n",
        "\n",
        "\n",
        "### 6-1. 하나의 array에 적용되는 함수"
      ]
    },
    {
      "cell_type": "code",
      "metadata": {
        "id": "51vCplsO_Mqg",
        "outputId": "16e320fd-e822-48b3-f8d1-1b38164a4f32",
        "colab": {
          "base_uri": "https://localhost:8080/",
          "height": 105
        }
      },
      "source": [
        "arr1 = np.random.randn(5,3)   # 크기가 5, 3인 난수 행렬\n",
        "arr1"
      ],
      "execution_count": 103,
      "outputs": [
        {
          "output_type": "execute_result",
          "data": {
            "text/plain": [
              "array([[ 0.95236523, -1.20731487,  2.01164316],\n",
              "       [-2.1424667 ,  1.89657803, -1.14638129],\n",
              "       [ 0.1057476 , -0.72913036,  0.09945066],\n",
              "       [-0.67427297,  0.43559918,  0.22797751],\n",
              "       [-0.35749293, -1.91238426, -1.7274235 ]])"
            ]
          },
          "metadata": {
            "tags": []
          },
          "execution_count": 103
        }
      ]
    },
    {
      "cell_type": "code",
      "metadata": {
        "id": "3cwdcIvD_Pp9",
        "outputId": "f02e98ad-bb3b-4dbf-a38e-98ca6ee5b0bd",
        "colab": {
          "base_uri": "https://localhost:8080/",
          "height": 105
        }
      },
      "source": [
        "# 각 성분의 절대값 계산하기\n",
        "np.abs(arr1)"
      ],
      "execution_count": null,
      "outputs": [
        {
          "output_type": "execute_result",
          "data": {
            "text/plain": [
              "array([[1.01516395, 0.21447453, 0.65750065],\n",
              "       [0.1683682 , 1.76692048, 0.64910386],\n",
              "       [1.59202529, 0.33138277, 0.54180832],\n",
              "       [1.31827547, 0.74128767, 2.52115203],\n",
              "       [1.31572103, 0.99870804, 0.01984521]])"
            ]
          },
          "metadata": {
            "tags": []
          },
          "execution_count": 65
        }
      ]
    },
    {
      "cell_type": "code",
      "metadata": {
        "id": "16xhK5pj_QCG",
        "outputId": "fbc678ba-1a8b-474e-ec86-57e1be197b26",
        "colab": {
          "base_uri": "https://localhost:8080/",
          "height": 140
        }
      },
      "source": [
        "# 각 성분의 제곱근 계산하기 ( == array ** 0.5)\n",
        "np.sqrt(arr1)"
      ],
      "execution_count": null,
      "outputs": [
        {
          "output_type": "stream",
          "text": [
            "/usr/local/lib/python3.6/dist-packages/ipykernel_launcher.py:2: RuntimeWarning: invalid value encountered in sqrt\n",
            "  \n"
          ],
          "name": "stderr"
        },
        {
          "output_type": "execute_result",
          "data": {
            "text/plain": [
              "array([[       nan,        nan,        nan],\n",
              "       [       nan, 1.32925561,        nan],\n",
              "       [1.26175484, 0.57565855,        nan],\n",
              "       [       nan, 0.86098064, 1.5878136 ],\n",
              "       [       nan,        nan, 0.14087304]])"
            ]
          },
          "metadata": {
            "tags": []
          },
          "execution_count": 66
        }
      ]
    },
    {
      "cell_type": "code",
      "metadata": {
        "id": "pzvTwVSK_Rx4",
        "outputId": "0c5a0a65-254b-4de5-92a5-18981d818594",
        "colab": {
          "base_uri": "https://localhost:8080/",
          "height": 105
        }
      },
      "source": [
        "# 각 성분의 제곱 계산하기\n",
        "np.square(arr1)"
      ],
      "execution_count": null,
      "outputs": [
        {
          "output_type": "execute_result",
          "data": {
            "text/plain": [
              "array([[1.03055784e+00, 4.59993222e-02, 4.32307107e-01],\n",
              "       [2.83478511e-02, 3.12200797e+00, 4.21335815e-01],\n",
              "       [2.53454451e+00, 1.09814539e-01, 2.93556258e-01],\n",
              "       [1.73785022e+00, 5.49507403e-01, 6.35620754e+00],\n",
              "       [1.73112183e+00, 9.97417747e-01, 3.93832445e-04]])"
            ]
          },
          "metadata": {
            "tags": []
          },
          "execution_count": 67
        }
      ]
    },
    {
      "cell_type": "code",
      "metadata": {
        "id": "C_p7m273_TmN",
        "outputId": "0a8a1162-8366-437c-f492-7a6bdb2ed660",
        "colab": {
          "base_uri": "https://localhost:8080/",
          "height": 105
        }
      },
      "source": [
        "# 각 성분을 무리수 e의 지수로 삼은 값을 계산하기\n",
        "np.exp(arr1)"
      ],
      "execution_count": null,
      "outputs": [
        {
          "output_type": "execute_result",
          "data": {
            "text/plain": [
              "array([[ 0.36234302,  0.80696537,  0.51814474],\n",
              "       [ 0.84504263,  5.85280173,  0.52251382],\n",
              "       [ 4.91369048,  1.39289284,  0.58169541],\n",
              "       [ 0.26759638,  2.09863612, 12.44292298],\n",
              "       [ 0.26828081,  0.36835503,  1.02004344]])"
            ]
          },
          "metadata": {
            "tags": []
          },
          "execution_count": 68
        }
      ]
    },
    {
      "cell_type": "code",
      "metadata": {
        "id": "TEkLJVL7_VLZ",
        "outputId": "9601fbc5-6870-4b75-a351-17cb78b83c29",
        "colab": {
          "base_uri": "https://localhost:8080/",
          "height": 140
        }
      },
      "source": [
        "# 각 성분을 자연로그, 상용로그, 밑이 2인 로그를 씌운 값을 계산하기\n",
        "np.log(arr1)"
      ],
      "execution_count": null,
      "outputs": [
        {
          "output_type": "stream",
          "text": [
            "/usr/local/lib/python3.6/dist-packages/ipykernel_launcher.py:2: RuntimeWarning: invalid value encountered in log\n",
            "  \n"
          ],
          "name": "stderr"
        },
        {
          "output_type": "execute_result",
          "data": {
            "text/plain": [
              "array([[        nan,         nan,         nan],\n",
              "       [        nan,  0.56923819,         nan],\n",
              "       [ 0.46500697, -1.10448117,         nan],\n",
              "       [        nan, -0.29936652,  0.92471595],\n",
              "       [        nan,         nan, -3.9197925 ]])"
            ]
          },
          "metadata": {
            "tags": []
          },
          "execution_count": 69
        }
      ]
    },
    {
      "cell_type": "code",
      "metadata": {
        "id": "Likfgg4W_Wnt",
        "outputId": "8e4ca394-bba0-41fe-f770-3ed459adb086",
        "colab": {
          "base_uri": "https://localhost:8080/",
          "height": 140
        }
      },
      "source": [
        "np.log10(arr1)"
      ],
      "execution_count": null,
      "outputs": [
        {
          "output_type": "stream",
          "text": [
            "/usr/local/lib/python3.6/dist-packages/ipykernel_launcher.py:1: RuntimeWarning: invalid value encountered in log10\n",
            "  \"\"\"Entry point for launching an IPython kernel.\n"
          ],
          "name": "stderr"
        },
        {
          "output_type": "execute_result",
          "data": {
            "text/plain": [
              "array([[        nan,         nan,         nan],\n",
              "       [        nan,  0.247217  ,         nan],\n",
              "       [ 0.20194996, -0.47967008,         nan],\n",
              "       [        nan, -0.13001323,  0.40159903],\n",
              "       [        nan,         nan, -1.70234425]])"
            ]
          },
          "metadata": {
            "tags": []
          },
          "execution_count": 70
        }
      ]
    },
    {
      "cell_type": "code",
      "metadata": {
        "id": "GDxYtKSP_YXB",
        "outputId": "58c10df0-2cb7-4468-d6d1-c07621bcf3ad",
        "colab": {
          "base_uri": "https://localhost:8080/",
          "height": 140
        }
      },
      "source": [
        "np.log2(arr1)"
      ],
      "execution_count": null,
      "outputs": [
        {
          "output_type": "stream",
          "text": [
            "/usr/local/lib/python3.6/dist-packages/ipykernel_launcher.py:1: RuntimeWarning: invalid value encountered in log2\n",
            "  \"\"\"Entry point for launching an IPython kernel.\n"
          ],
          "name": "stderr"
        },
        {
          "output_type": "execute_result",
          "data": {
            "text/plain": [
              "array([[        nan,         nan,         nan],\n",
              "       [        nan,  0.82123711,         nan],\n",
              "       [ 0.67086325, -1.59342951,         nan],\n",
              "       [        nan, -0.43189459,  1.33408312],\n",
              "       [        nan,         nan, -5.6550652 ]])"
            ]
          },
          "metadata": {
            "tags": []
          },
          "execution_count": 71
        }
      ]
    },
    {
      "cell_type": "code",
      "metadata": {
        "id": "Q85lNpoG_bb5",
        "outputId": "982575f2-b359-48dc-a0e4-e18582f5bfbf",
        "colab": {
          "base_uri": "https://localhost:8080/",
          "height": 105
        }
      },
      "source": [
        "# 각 성분의 부호 계산하기(+인 경우 1, -인 경우 -1, 0인 경우 0)\n",
        "np.sign(arr1)"
      ],
      "execution_count": null,
      "outputs": [
        {
          "output_type": "execute_result",
          "data": {
            "text/plain": [
              "array([[-1., -1., -1.],\n",
              "       [-1.,  1., -1.],\n",
              "       [ 1.,  1., -1.],\n",
              "       [-1.,  1.,  1.],\n",
              "       [-1., -1.,  1.]])"
            ]
          },
          "metadata": {
            "tags": []
          },
          "execution_count": 72
        }
      ]
    },
    {
      "cell_type": "code",
      "metadata": {
        "id": "qVlZHoy9_qQg",
        "outputId": "4287ac9b-4c21-49b1-f71b-35f2a8e0f971",
        "colab": {
          "base_uri": "https://localhost:8080/",
          "height": 105
        }
      },
      "source": [
        "# 각 성분의 소수 첫 번째 자리에서 올림한 값을 계산하기\n",
        "np.ceil(arr1)"
      ],
      "execution_count": null,
      "outputs": [
        {
          "output_type": "execute_result",
          "data": {
            "text/plain": [
              "array([[-1., -0., -0.],\n",
              "       [-0.,  2., -0.],\n",
              "       [ 2.,  1., -0.],\n",
              "       [-1.,  1.,  3.],\n",
              "       [-1., -0.,  1.]])"
            ]
          },
          "metadata": {
            "tags": []
          },
          "execution_count": 73
        }
      ]
    },
    {
      "cell_type": "code",
      "metadata": {
        "id": "8nBA_S31_smh",
        "outputId": "94e5f7c7-0d2c-4f88-98dc-3cc39643df8d",
        "colab": {
          "base_uri": "https://localhost:8080/",
          "height": 105
        }
      },
      "source": [
        "# 각 성분의 소수 첫 번째 자리에서 내림한 값을 계산하기\n",
        "np.floor(arr1)"
      ],
      "execution_count": null,
      "outputs": [
        {
          "output_type": "execute_result",
          "data": {
            "text/plain": [
              "array([[-2., -1., -1.],\n",
              "       [-1.,  1., -1.],\n",
              "       [ 1.,  0., -1.],\n",
              "       [-2.,  0.,  2.],\n",
              "       [-2., -1.,  0.]])"
            ]
          },
          "metadata": {
            "tags": []
          },
          "execution_count": 74
        }
      ]
    },
    {
      "cell_type": "code",
      "metadata": {
        "id": "s4Dvehh0_uM_",
        "outputId": "1f10edf6-2c48-48d9-fc0d-e16f0671de18",
        "colab": {
          "base_uri": "https://localhost:8080/",
          "height": 105
        }
      },
      "source": [
        "# 각 성분이 NaN인 경우 True를, 아닌 경우 False를 반환하기\n",
        "np.isnan(arr1)"
      ],
      "execution_count": null,
      "outputs": [
        {
          "output_type": "execute_result",
          "data": {
            "text/plain": [
              "array([[False, False, False],\n",
              "       [False, False, False],\n",
              "       [False, False, False],\n",
              "       [False, False, False],\n",
              "       [False, False, False]])"
            ]
          },
          "metadata": {
            "tags": []
          },
          "execution_count": 75
        }
      ]
    },
    {
      "cell_type": "code",
      "metadata": {
        "id": "3KtRoGHX_vxf",
        "outputId": "383bd5d3-0173-4b23-e126-a74738984a4b",
        "colab": {
          "base_uri": "https://localhost:8080/",
          "height": 140
        }
      },
      "source": [
        "np.isnan(np.log(arr1))"
      ],
      "execution_count": null,
      "outputs": [
        {
          "output_type": "stream",
          "text": [
            "/usr/local/lib/python3.6/dist-packages/ipykernel_launcher.py:1: RuntimeWarning: invalid value encountered in log\n",
            "  \"\"\"Entry point for launching an IPython kernel.\n"
          ],
          "name": "stderr"
        },
        {
          "output_type": "execute_result",
          "data": {
            "text/plain": [
              "array([[ True,  True,  True],\n",
              "       [ True, False,  True],\n",
              "       [False, False,  True],\n",
              "       [ True, False, False],\n",
              "       [ True,  True, False]])"
            ]
          },
          "metadata": {
            "tags": []
          },
          "execution_count": 76
        }
      ]
    },
    {
      "cell_type": "code",
      "metadata": {
        "id": "C2K8oVRu_xYU",
        "outputId": "f3523254-3890-47ee-b971-26362ade61f7",
        "colab": {
          "base_uri": "https://localhost:8080/",
          "height": 105
        }
      },
      "source": [
        "# 각 성분이 무한대인 경우 True를, 아닌 경우 False를 반환하기\n",
        "np.isinf(arr1)"
      ],
      "execution_count": null,
      "outputs": [
        {
          "output_type": "execute_result",
          "data": {
            "text/plain": [
              "array([[False, False, False],\n",
              "       [False, False, False],\n",
              "       [False, False, False],\n",
              "       [False, False, False],\n",
              "       [False, False, False]])"
            ]
          },
          "metadata": {
            "tags": []
          },
          "execution_count": 77
        }
      ]
    },
    {
      "cell_type": "code",
      "metadata": {
        "id": "Swe3Xs3k_y_8",
        "outputId": "10689fac-88dd-4218-a67f-fdf5ce8c9d6e",
        "colab": {
          "base_uri": "https://localhost:8080/",
          "height": 105
        }
      },
      "source": [
        "# 각 성분에 대해 삼각함수 값을 계산하기(cos, cosh, sin, sinh, tan, tanh)\n",
        "np.cos(arr1)"
      ],
      "execution_count": null,
      "outputs": [
        {
          "output_type": "execute_result",
          "data": {
            "text/plain": [
              "array([[ 0.52748065,  0.97708837,  0.79152215],\n",
              "       [ 0.98585953, -0.19486926,  0.79662581],\n",
              "       [-0.02122736,  0.94559336,  0.85677756],\n",
              "       [ 0.24984566,  0.73759969, -0.81362236],\n",
              "       [ 0.25231827,  0.541389  ,  0.99980309]])"
            ]
          },
          "metadata": {
            "tags": []
          },
          "execution_count": 78
        }
      ]
    },
    {
      "cell_type": "code",
      "metadata": {
        "id": "KG7iPDKR_8G-",
        "outputId": "10b31e16-288b-4181-9e5a-112b3ece9037",
        "colab": {
          "base_uri": "https://localhost:8080/",
          "height": 105
        }
      },
      "source": [
        "np.tanh(arr1)"
      ],
      "execution_count": null,
      "outputs": [
        {
          "output_type": "execute_result",
          "data": {
            "text/plain": [
              "array([[-0.76788944, -0.21124537, -0.5766977 ],\n",
              "       [-0.16679508,  0.94327092, -0.57106638],\n",
              "       [ 0.92045928,  0.31976271, -0.49435558],\n",
              "       [-0.86635442,  0.62992251,  0.9871652 ],\n",
              "       [-0.86571586, -0.76105103,  0.01984261]])"
            ]
          },
          "metadata": {
            "tags": []
          },
          "execution_count": 79
        }
      ]
    },
    {
      "cell_type": "markdown",
      "metadata": {
        "id": "IzQlpZlY_-5l"
      },
      "source": [
        "### 6-2. 두 개의 array에 적용되는 함수"
      ]
    },
    {
      "cell_type": "code",
      "metadata": {
        "id": "fF5SfOaj_9vv",
        "outputId": "01ddc6aa-a092-4b6d-9815-ce9865c49ed2",
        "colab": {
          "base_uri": "https://localhost:8080/",
          "height": 105
        }
      },
      "source": [
        "arr1"
      ],
      "execution_count": null,
      "outputs": [
        {
          "output_type": "execute_result",
          "data": {
            "text/plain": [
              "array([[-1.01516395, -0.21447453, -0.65750065],\n",
              "       [-0.1683682 ,  1.76692048, -0.64910386],\n",
              "       [ 1.59202529,  0.33138277, -0.54180832],\n",
              "       [-1.31827547,  0.74128767,  2.52115203],\n",
              "       [-1.31572103, -0.99870804,  0.01984521]])"
            ]
          },
          "metadata": {
            "tags": []
          },
          "execution_count": 80
        }
      ]
    },
    {
      "cell_type": "code",
      "metadata": {
        "id": "2CvF0bgyAB6a",
        "outputId": "6a12924b-2354-4562-e1d8-a350f7fc8b2d",
        "colab": {
          "base_uri": "https://localhost:8080/",
          "height": 105
        }
      },
      "source": [
        "arr2 = np.random.randn(5,3)\n",
        "arr2"
      ],
      "execution_count": null,
      "outputs": [
        {
          "output_type": "execute_result",
          "data": {
            "text/plain": [
              "array([[-0.28923527, -1.76037897,  0.45798415],\n",
              "       [-1.17975309,  0.04374724,  0.52221088],\n",
              "       [ 2.10407114, -0.55835999, -0.30142463],\n",
              "       [-1.2966082 , -2.09922299,  0.44767007],\n",
              "       [ 0.13185498,  0.22126383,  0.03930389]])"
            ]
          },
          "metadata": {
            "tags": []
          },
          "execution_count": 81
        }
      ]
    },
    {
      "cell_type": "code",
      "metadata": {
        "id": "XmDq-RgPADGd",
        "outputId": "1e53ed20-6088-4ebb-f27b-736a471f6960",
        "colab": {
          "base_uri": "https://localhost:8080/",
          "height": 105
        }
      },
      "source": [
        "# 두 개의 array에 대해 동일한 위치의 성분끼리 연산 값을 계산하기(add, subtract, multiply, divide)\n",
        "np.multiply(arr1,arr2)"
      ],
      "execution_count": null,
      "outputs": [
        {
          "output_type": "execute_result",
          "data": {
            "text/plain": [
              "array([[ 2.93621217e-01,  3.77556445e-01, -3.01124877e-01],\n",
              "       [ 1.98632905e-01,  7.72978934e-02, -3.38969093e-01],\n",
              "       [ 3.34973446e+00, -1.85030880e-01,  1.63314371e-01],\n",
              "       [ 1.70928678e+00, -1.55612811e+00,  1.12864431e+00],\n",
              "       [-1.73484368e-01, -2.20977963e-01,  7.79994120e-04]])"
            ]
          },
          "metadata": {
            "tags": []
          },
          "execution_count": 82
        }
      ]
    },
    {
      "cell_type": "code",
      "metadata": {
        "id": "cPC7gfgdAE_H",
        "outputId": "28653eff-77f8-4d51-d026-9ddc145b9d74",
        "colab": {
          "base_uri": "https://localhost:8080/",
          "height": 105
        }
      },
      "source": [
        "# 두 개의 array에 대해 동일한 위치의 성분끼리 비교하여 최대값 또는 최소값 계산하기(maximum, minimum)\n",
        "np.maximum(arr1,arr2)"
      ],
      "execution_count": null,
      "outputs": [
        {
          "output_type": "execute_result",
          "data": {
            "text/plain": [
              "array([[-0.28923527, -0.21447453,  0.45798415],\n",
              "       [-0.1683682 ,  1.76692048,  0.52221088],\n",
              "       [ 2.10407114,  0.33138277, -0.30142463],\n",
              "       [-1.2966082 ,  0.74128767,  2.52115203],\n",
              "       [ 0.13185498,  0.22126383,  0.03930389]])"
            ]
          },
          "metadata": {
            "tags": []
          },
          "execution_count": 83
        }
      ]
    },
    {
      "cell_type": "markdown",
      "metadata": {
        "id": "oywkr6AEAM7s"
      },
      "source": [
        "#### 6-3. 통계 함수\n",
        "통계 함수를 통해 array의 합이나 평균등을 구할 때,\n",
        "\n",
        "추가로 axis라는 인자에 대한 값을 지정하여 열 또는 행의 합 또는 평균등을 구할 수 있다."
      ]
    },
    {
      "cell_type": "code",
      "metadata": {
        "id": "EET4YCpBAPul",
        "outputId": "a57760b3-c226-4cdf-8aad-cb5d4d1c6020",
        "colab": {
          "base_uri": "https://localhost:8080/",
          "height": 105
        }
      },
      "source": [
        "arr1"
      ],
      "execution_count": null,
      "outputs": [
        {
          "output_type": "execute_result",
          "data": {
            "text/plain": [
              "array([[-1.01516395, -0.21447453, -0.65750065],\n",
              "       [-0.1683682 ,  1.76692048, -0.64910386],\n",
              "       [ 1.59202529,  0.33138277, -0.54180832],\n",
              "       [-1.31827547,  0.74128767,  2.52115203],\n",
              "       [-1.31572103, -0.99870804,  0.01984521]])"
            ]
          },
          "metadata": {
            "tags": []
          },
          "execution_count": 84
        }
      ]
    },
    {
      "cell_type": "code",
      "metadata": {
        "id": "PUIabbkzARAP",
        "outputId": "38e9bb26-d147-4b05-cd58-58cebdfe1cb2",
        "colab": {
          "base_uri": "https://localhost:8080/",
          "height": 35
        }
      },
      "source": [
        "# 전체 성분의 합을 계산\n",
        "np.sum(arr1)"
      ],
      "execution_count": null,
      "outputs": [
        {
          "output_type": "execute_result",
          "data": {
            "text/plain": [
              "0.09348938591510479"
            ]
          },
          "metadata": {
            "tags": []
          },
          "execution_count": 85
        }
      ]
    },
    {
      "cell_type": "code",
      "metadata": {
        "id": "pcsrld16ASB6",
        "outputId": "1930d53d-3841-467d-f685-3ac47ad23932",
        "colab": {
          "base_uri": "https://localhost:8080/",
          "height": 35
        }
      },
      "source": [
        "# 열 간의 합을 계산\n",
        "np.sum(arr1, axis=1)"
      ],
      "execution_count": null,
      "outputs": [
        {
          "output_type": "execute_result",
          "data": {
            "text/plain": [
              "array([-1.88713913,  0.94944842,  1.38159973,  1.94416422, -2.29458386])"
            ]
          },
          "metadata": {
            "tags": []
          },
          "execution_count": 86
        }
      ]
    },
    {
      "cell_type": "code",
      "metadata": {
        "id": "6SjhOywtATmz",
        "outputId": "7f8ad069-6cd2-47b9-c54d-02e425959fe2",
        "colab": {
          "base_uri": "https://localhost:8080/",
          "height": 35
        }
      },
      "source": [
        "# 행 간의 합을 계산\n",
        "np.sum(arr1, axis=0)"
      ],
      "execution_count": null,
      "outputs": [
        {
          "output_type": "execute_result",
          "data": {
            "text/plain": [
              "array([-2.22550337,  1.62640834,  0.69258441])"
            ]
          },
          "metadata": {
            "tags": []
          },
          "execution_count": 87
        }
      ]
    },
    {
      "cell_type": "code",
      "metadata": {
        "id": "HtQ66tLQAVI8",
        "outputId": "9df08a07-ef4b-453d-a9b1-89cf3b44ab55",
        "colab": {
          "base_uri": "https://localhost:8080/",
          "height": 35
        }
      },
      "source": [
        "# 전체 성분의 평균을 계산\n",
        "np.mean(arr1)"
      ],
      "execution_count": null,
      "outputs": [
        {
          "output_type": "execute_result",
          "data": {
            "text/plain": [
              "0.0062326257276736526"
            ]
          },
          "metadata": {
            "tags": []
          },
          "execution_count": 88
        }
      ]
    },
    {
      "cell_type": "code",
      "metadata": {
        "id": "Wd8YmeTsAWUt",
        "outputId": "31e84fcf-5b01-4a34-d849-81eeeedd03a7",
        "colab": {
          "base_uri": "https://localhost:8080/",
          "height": 35
        }
      },
      "source": [
        "# 행 간의 평균을 계산\n",
        "np.mean(arr1, axis=0)"
      ],
      "execution_count": null,
      "outputs": [
        {
          "output_type": "execute_result",
          "data": {
            "text/plain": [
              "array([-0.44510067,  0.32528167,  0.13851688])"
            ]
          },
          "metadata": {
            "tags": []
          },
          "execution_count": 89
        }
      ]
    },
    {
      "cell_type": "markdown",
      "metadata": {
        "id": "AKFIOjInIWpg"
      },
      "source": [
        "전체 성분의 표준편차, 분산, 최소값, 최대값 계산(std, var, min, max)"
      ]
    },
    {
      "cell_type": "code",
      "metadata": {
        "id": "d0cprwy3AXss",
        "outputId": "b56228c8-190c-4974-8235-e8e4bae963ab",
        "colab": {
          "base_uri": "https://localhost:8080/",
          "height": 35
        }
      },
      "source": [
        "# 전체 성분의 표준편차 계산\n",
        "np.std(arr1)"
      ],
      "execution_count": 104,
      "outputs": [
        {
          "output_type": "execute_result",
          "data": {
            "text/plain": [
              "1.23214935407835"
            ]
          },
          "metadata": {
            "tags": []
          },
          "execution_count": 104
        }
      ]
    },
    {
      "cell_type": "code",
      "metadata": {
        "id": "i8nx5sakAZV3",
        "outputId": "b62c2bff-d8f4-4ef7-c166-dc692437c6a2",
        "colab": {
          "base_uri": "https://localhost:8080/",
          "height": 35
        }
      },
      "source": [
        "np.min(arr1, axis=1)"
      ],
      "execution_count": null,
      "outputs": [
        {
          "output_type": "execute_result",
          "data": {
            "text/plain": [
              "array([-1.01516395, -0.64910386, -0.54180832, -1.31827547, -1.31572103])"
            ]
          },
          "metadata": {
            "tags": []
          },
          "execution_count": 91
        }
      ]
    },
    {
      "cell_type": "code",
      "metadata": {
        "id": "IyO8NNitAbgW",
        "outputId": "1024ab4d-30df-4f52-de59-a37ae170181e",
        "colab": {
          "base_uri": "https://localhost:8080/",
          "height": 35
        }
      },
      "source": [
        "# 전체 성분의 최소값, 최대값이 위치한 인덱스를 반환(argmin, argmax)\n",
        "np.argmin(arr1)"
      ],
      "execution_count": null,
      "outputs": [
        {
          "output_type": "execute_result",
          "data": {
            "text/plain": [
              "9"
            ]
          },
          "metadata": {
            "tags": []
          },
          "execution_count": 92
        }
      ]
    },
    {
      "cell_type": "markdown",
      "metadata": {
        "id": "eEATak5BIflx"
      },
      "source": [
        "np.argmax(array, axis)"
      ]
    },
    {
      "cell_type": "markdown",
      "metadata": {
        "id": "gVMcSfjEI_in"
      },
      "source": [
        "> axis에 대한 이해\n",
        "\n",
        "http://machinelearningkorea.com/2019/05/18/%ED%8C%8C%EC%9D%B4%EC%8D%AC-axis-%EC%9D%B4%ED%95%B4%ED%95%98%EA%B8%B0-%EC%B9%98%ED%8A%B8%EC%BD%94%EB%93%9C/"
      ]
    },
    {
      "cell_type": "code",
      "metadata": {
        "id": "oTxmH-HSAc6q",
        "outputId": "58bf0acf-c9b3-4f28-b196-5a9071ecd977",
        "colab": {
          "base_uri": "https://localhost:8080/",
          "height": 35
        }
      },
      "source": [
        "np.argmax(arr1,axis=0)"
      ],
      "execution_count": null,
      "outputs": [
        {
          "output_type": "execute_result",
          "data": {
            "text/plain": [
              "array([2, 1, 3])"
            ]
          },
          "metadata": {
            "tags": []
          },
          "execution_count": 93
        }
      ]
    },
    {
      "cell_type": "code",
      "metadata": {
        "id": "az4cw26WAfFe",
        "outputId": "d21377b2-20ee-469a-dfa1-b549e1b641ea",
        "colab": {
          "base_uri": "https://localhost:8080/",
          "height": 70
        }
      },
      "source": [
        "# 맨 처음 성분부터 각 성분까지의 누적합 또는 누적곱을 계산(cumsum, cumprod)\n",
        "np.cumsum(arr1)"
      ],
      "execution_count": null,
      "outputs": [
        {
          "output_type": "execute_result",
          "data": {
            "text/plain": [
              "array([-1.01516395, -1.22963847, -1.88713913, -2.05550733, -0.28858685,\n",
              "       -0.93769071,  0.65433458,  0.98571735,  0.44390902, -0.87436645,\n",
              "       -0.13307878,  2.38807324,  1.07235221,  0.07364417,  0.09348939])"
            ]
          },
          "metadata": {
            "tags": []
          },
          "execution_count": 94
        }
      ]
    },
    {
      "cell_type": "code",
      "metadata": {
        "id": "3pVrUhcSAg5-",
        "outputId": "a181982e-4e9f-458d-fa79-b81797a6991f",
        "colab": {
          "base_uri": "https://localhost:8080/",
          "height": 105
        }
      },
      "source": [
        "np.cumsum(arr1,axis=1)    # 누적합"
      ],
      "execution_count": null,
      "outputs": [
        {
          "output_type": "execute_result",
          "data": {
            "text/plain": [
              "array([[-1.01516395, -1.22963847, -1.88713913],\n",
              "       [-0.1683682 ,  1.59855227,  0.94944842],\n",
              "       [ 1.59202529,  1.92340805,  1.38159973],\n",
              "       [-1.31827547, -0.57698781,  1.94416422],\n",
              "       [-1.31572103, -2.31442907, -2.29458386]])"
            ]
          },
          "metadata": {
            "tags": []
          },
          "execution_count": 95
        }
      ]
    },
    {
      "cell_type": "code",
      "metadata": {
        "id": "gkMRL1qeAi_V",
        "outputId": "5768f9ad-c0ca-4f40-fbba-fd6b027bd3e7",
        "colab": {
          "base_uri": "https://localhost:8080/",
          "height": 87
        }
      },
      "source": [
        "np.cumprod(arr1)    # 누적곱"
      ],
      "execution_count": null,
      "outputs": [
        {
          "output_type": "execute_result",
          "data": {
            "text/plain": [
              "array([-1.01516395e+00,  2.17726806e-01, -1.43155517e-01,  2.41028369e-02,\n",
              "        4.25877960e-02, -2.76439025e-02, -4.40097918e-02, -1.45840866e-02,\n",
              "        7.90177950e-03, -1.04167221e-02, -7.72178761e-03, -1.94678005e-02,\n",
              "        2.56141945e-02, -2.55811020e-02, -5.07662396e-04])"
            ]
          },
          "metadata": {
            "tags": []
          },
          "execution_count": 96
        }
      ]
    },
    {
      "cell_type": "markdown",
      "metadata": {
        "id": "N7SDAy7SA3R0"
      },
      "source": [
        "#### 6-4. 기타 함수"
      ]
    },
    {
      "cell_type": "code",
      "metadata": {
        "id": "qnhIU57QAkN6",
        "outputId": "620ec826-c259-474f-e92b-caf8af87ce68",
        "colab": {
          "base_uri": "https://localhost:8080/",
          "height": 105
        }
      },
      "source": [
        "arr1"
      ],
      "execution_count": null,
      "outputs": [
        {
          "output_type": "execute_result",
          "data": {
            "text/plain": [
              "array([[-1.01516395, -0.21447453, -0.65750065],\n",
              "       [-0.1683682 ,  1.76692048, -0.64910386],\n",
              "       [ 1.59202529,  0.33138277, -0.54180832],\n",
              "       [-1.31827547,  0.74128767,  2.52115203],\n",
              "       [-1.31572103, -0.99870804,  0.01984521]])"
            ]
          },
          "metadata": {
            "tags": []
          },
          "execution_count": 97
        }
      ]
    },
    {
      "cell_type": "code",
      "metadata": {
        "id": "GDbQfiYwA5eQ",
        "outputId": "087316b6-af10-4a3f-abce-f5bc9e1b7930",
        "colab": {
          "base_uri": "https://localhost:8080/",
          "height": 105
        }
      },
      "source": [
        "# 전체 성분에 대해서 오름차순으로 정렬\n",
        "np.sort(arr1)"
      ],
      "execution_count": null,
      "outputs": [
        {
          "output_type": "execute_result",
          "data": {
            "text/plain": [
              "array([[-1.01516395, -0.65750065, -0.21447453],\n",
              "       [-0.64910386, -0.1683682 ,  1.76692048],\n",
              "       [-0.54180832,  0.33138277,  1.59202529],\n",
              "       [-1.31827547,  0.74128767,  2.52115203],\n",
              "       [-1.31572103, -0.99870804,  0.01984521]])"
            ]
          },
          "metadata": {
            "tags": []
          },
          "execution_count": 98
        }
      ]
    }
  ]
}