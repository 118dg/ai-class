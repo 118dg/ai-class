{
  "nbformat": 4,
  "nbformat_minor": 0,
  "metadata": {
    "colab": {
      "name": "tensorflow-XOR.ipynb",
      "provenance": [],
      "collapsed_sections": []
    },
    "kernelspec": {
      "name": "python3",
      "display_name": "Python 3"
    }
  },
  "cells": [
    {
      "cell_type": "code",
      "metadata": {
        "id": "T1LfJw-dBcYC"
      },
      "source": [
        "# Logistic Regression 사용한 XOR 문제 해결\n",
        "import tensorflow as tf\n",
        "import numpy as np\n",
        "# v1 호환성\n",
        "import tensorflow.compat.v1 as tf\n",
        "tf.disable_v2_behavior() "
      ],
      "execution_count": 72,
      "outputs": []
    },
    {
      "cell_type": "code",
      "metadata": {
        "id": "rLzttJGtB7gj"
      },
      "source": [
        "learning_rate = 0.1\n",
        "x_data = [[0, 0], [0, 1], [1, 0], [1, 1]]       # input data\n",
        "y_data = [[0], [1], [1], [0]]                   # 정답 data (target)\n",
        "x_data = np.array(x_data, dtype=np.float32)\n",
        "y_data = np.array(y_data, dtype=np.float32)"
      ],
      "execution_count": 73,
      "outputs": []
    },
    {
      "cell_type": "code",
      "metadata": {
        "id": "lVGgQz_cB99Z"
      },
      "source": [
        "X = tf.placeholder(tf.float32, [None, 2])\n",
        "Y = tf.placeholder(tf.float32, [None, 1])       # target data를 담기 위한 행렬\n",
        "W1 = tf.Variable(tf.random_normal([2, 2]), name='weight1')\n",
        "b1 = tf.Variable(tf.random_normal([2]), name='bias1')\n",
        "layer1 = tf.sigmoid(tf.matmul(X, W1) + b1)    # layer1 == [None, 2] 크기의 행렬"
      ],
      "execution_count": 74,
      "outputs": []
    },
    {
      "cell_type": "code",
      "metadata": {
        "id": "8Mmz8dFNCBp9"
      },
      "source": [
        "W2 = tf.Variable(tf.random_normal([2, 1]), name='weight2')\n",
        "b2 = tf.Variable(tf.random_normal([1]), name='bias2')\n",
        "hypothesis = tf.sigmoid(tf.matmul(layer1, W2) + b2)     # 최종 예측치"
      ],
      "execution_count": 75,
      "outputs": []
    },
    {
      "cell_type": "code",
      "metadata": {
        "id": "8CUcqll6CEdt"
      },
      "source": [
        "cost = -tf.reduce_mean(Y * tf.log(hypothesis) + (1 - Y) * tf.log(1 - hypothesis))\n",
        "train = tf.train.GradientDescentOptimizer(learning_rate).minimize(cost)\n",
        "\n",
        "predicted = tf.cast(hypothesis > 0.5, dtype=tf.float32)                         # hypothesis가 0.5보다 크면 1, 작으면 0\n",
        "accuracy = tf.reduce_mean(tf.cast(tf.equal(predicted, Y), dtype=tf.float32))    # predicted와 Y가 1과 같으면 1, 작으면 0"
      ],
      "execution_count": 76,
      "outputs": []
    },
    {
      "cell_type": "code",
      "metadata": {
        "id": "qtfYZvmNCHfd",
        "outputId": "e875bba0-b837-49dc-ba36-a7b0aae65d71",
        "colab": {
          "base_uri": "https://localhost:8080/",
          "height": 1000
        }
      },
      "source": [
        "with tf.Session() as sess:\n",
        "    sess.run(tf.global_variables_initializer())\n",
        "    print(\"=== 학습 시작 ===\")\n",
        "    for step in range(10001):\n",
        "        sess.run(train, feed_dict={X: x_data, Y: y_data})       # 모델 학습\n",
        "        if step % 100 == 0:\n",
        "            print(step,\"번째 학습: \", \"오차\", sess.run(cost, feed_dict={X: x_data, Y: y_data}))\n",
        "    \n",
        "    print(\"\\n=== 학습 완료 ===\")\n",
        "    print(\"\\n\\n\\n=== 최종 값 ===\")\n",
        "    h, c, a = sess.run([hypothesis, predicted, accuracy], feed_dict={X: x_data, Y: y_data})\n",
        "    print(\"\\n예측 데이터: \\n\", h, \"\\n정답 데이터: \\n\", c, \"\\n정확도: \\n\", a)"
      ],
      "execution_count": 78,
      "outputs": [
        {
          "output_type": "stream",
          "text": [
            "=== 학습 시작 ===\n",
            "0 번째 학습:  오차 0.77619517\n",
            "100 번째 학습:  오차 0.6959736\n",
            "200 번째 학습:  오차 0.6953398\n",
            "300 번째 학습:  오차 0.69478077\n",
            "400 번째 학습:  오차 0.6942787\n",
            "500 번째 학습:  오차 0.6938185\n",
            "600 번째 학습:  오차 0.69338715\n",
            "700 번째 학습:  오차 0.6929729\n",
            "800 번째 학습:  오차 0.69256485\n",
            "900 번째 학습:  오차 0.69215274\n",
            "1000 번째 학습:  오차 0.6917268\n",
            "1100 번째 학습:  오차 0.6912771\n",
            "1200 번째 학습:  오차 0.69079363\n",
            "1300 번째 학습:  오차 0.69026625\n",
            "1400 번째 학습:  오차 0.6896838\n",
            "1500 번째 학습:  오차 0.689035\n",
            "1600 번째 학습:  오차 0.68830705\n",
            "1700 번째 학습:  오차 0.687486\n",
            "1800 번째 학습:  오차 0.6865567\n",
            "1900 번째 학습:  오차 0.68550193\n",
            "2000 번째 학습:  오차 0.6843025\n",
            "2100 번째 학습:  오차 0.6829368\n",
            "2200 번째 학습:  오차 0.6813805\n",
            "2300 번째 학습:  오차 0.67960656\n",
            "2400 번째 학습:  오차 0.67758435\n",
            "2500 번째 학습:  오차 0.675281\n",
            "2600 번째 학습:  오차 0.6726606\n",
            "2700 번째 학습:  오차 0.6696862\n",
            "2800 번째 학습:  오차 0.6663213\n",
            "2900 번째 학습:  오차 0.6625325\n",
            "3000 번째 학습:  오차 0.65829384\n",
            "3100 번째 학습:  오차 0.6535908\n",
            "3200 번째 학습:  오차 0.64842534\n",
            "3300 번째 학습:  오차 0.64282\n",
            "3400 번째 학습:  오차 0.6368197\n",
            "3500 번째 학습:  오차 0.63049114\n",
            "3600 번째 학습:  오차 0.6239184\n",
            "3700 번째 학습:  오차 0.61719656\n",
            "3800 번째 학습:  오차 0.6104241\n",
            "3900 번째 학습:  오차 0.60369515\n",
            "4000 번째 학습:  오차 0.59709406\n",
            "4100 번째 학습:  오차 0.590691\n",
            "4200 번째 학습:  오차 0.58454096\n",
            "4300 번째 학습:  오차 0.57868296\n",
            "4400 번째 학습:  오차 0.57314146\n",
            "4500 번째 학습:  오차 0.56792873\n",
            "4600 번째 학습:  오차 0.56304693\n",
            "4700 번째 학습:  오차 0.55849016\n",
            "4800 번째 학습:  오차 0.5542475\n",
            "4900 번째 학습:  오차 0.5503037\n",
            "5000 번째 학습:  오차 0.54664147\n",
            "5100 번째 학습:  오차 0.5432425\n",
            "5200 번째 학습:  오차 0.5400883\n",
            "5300 번째 학습:  오차 0.5371602\n",
            "5400 번째 학습:  오차 0.5344405\n",
            "5500 번째 학습:  오차 0.5319124\n",
            "5600 번째 학습:  오차 0.5295604\n",
            "5700 번째 학습:  오차 0.52736974\n",
            "5800 번째 학습:  오차 0.5253271\n",
            "5900 번째 학습:  오차 0.5234202\n",
            "6000 번째 학습:  오차 0.5216377\n",
            "6100 번째 학습:  오차 0.51996946\n",
            "6200 번째 학습:  오차 0.518406\n",
            "6300 번째 학습:  오차 0.51693887\n",
            "6400 번째 학습:  오차 0.5155604\n",
            "6500 번째 학습:  오차 0.51426363\n",
            "6600 번째 학습:  오차 0.51304203\n",
            "6700 번째 학습:  오차 0.51189005\n",
            "6800 번째 학습:  오차 0.5108023\n",
            "6900 번째 학습:  오차 0.50977397\n",
            "7000 번째 학습:  오차 0.50880075\n",
            "7100 번째 학습:  오차 0.5078784\n",
            "7200 번째 학습:  오차 0.5070038\n",
            "7300 번째 학습:  오차 0.50617313\n",
            "7400 번째 학습:  오차 0.5053836\n",
            "7500 번째 학습:  오차 0.5046325\n",
            "7600 번째 학습:  오차 0.5039171\n",
            "7700 번째 학습:  오차 0.5032351\n",
            "7800 번째 학습:  오차 0.50258446\n",
            "7900 번째 학습:  오차 0.501963\n",
            "8000 번째 학습:  오차 0.5013691\n",
            "8100 번째 학습:  오차 0.50080097\n",
            "8200 번째 학습:  오차 0.500257\n",
            "8300 번째 학습:  오차 0.49973574\n",
            "8400 번째 학습:  오차 0.49923614\n",
            "8500 번째 학습:  오차 0.49875674\n",
            "8600 번째 학습:  오차 0.49829632\n",
            "8700 번째 학습:  오차 0.49785385\n",
            "8800 번째 학습:  오차 0.4974286\n",
            "8900 번째 학습:  오차 0.49701932\n",
            "9000 번째 학습:  오차 0.49662533\n",
            "9100 번째 학습:  오차 0.49624562\n",
            "9200 번째 학습:  오차 0.49587995\n",
            "9300 번째 학습:  오차 0.49552703\n",
            "9400 번째 학습:  오차 0.49518645\n",
            "9500 번째 학습:  오차 0.49485773\n",
            "9600 번째 학습:  오차 0.4945402\n",
            "9700 번째 학습:  오차 0.4942332\n",
            "9800 번째 학습:  오차 0.4939363\n",
            "9900 번째 학습:  오차 0.4936491\n",
            "10000 번째 학습:  오차 0.49337095\n",
            "\n",
            "=== 학습 완료 ===\n",
            "\n",
            "\n",
            "\n",
            "=== 최종 값 ===\n",
            "\n",
            "예측 데이터: \n",
            " [[0.02768663]\n",
            " [0.65629977]\n",
            " [0.6563605 ]\n",
            " [0.6682004 ]] \n",
            "정답 데이터: \n",
            " [[0.]\n",
            " [1.]\n",
            " [1.]\n",
            " [1.]] \n",
            "정확도: \n",
            " 0.75\n"
          ],
          "name": "stdout"
        }
      ]
    }
  ]
}