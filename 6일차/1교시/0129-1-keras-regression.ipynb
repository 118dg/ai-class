{
  "nbformat": 4,
  "nbformat_minor": 0,
  "metadata": {
    "colab": {
      "name": "1029-4-keras-regression.ipynb",
      "provenance": [],
      "collapsed_sections": []
    },
    "kernelspec": {
      "name": "python3",
      "display_name": "Python 3"
    }
  },
  "cells": [
    {
      "cell_type": "code",
      "metadata": {
        "id": "QqfvwBBxVkPj"
      },
      "source": [
        "# 딥러닝을 구동하는 데 필요한 케라스 함수 호출\n",
        "from tensorflow.keras.models import Sequential\n",
        "from tensorflow.keras.layers import Dense\n",
        "# 필요한 라이브러리 불러오기\n",
        "import numpy as np\n",
        "import tensorflow as tf"
      ],
      "execution_count": 28,
      "outputs": []
    },
    {
      "cell_type": "code",
      "metadata": {
        "id": "HyLZ8MsGVl9c"
      },
      "source": [
        "# 실행할 때마다 같은 결과를 출력하기 위해 설정하는 부분\n",
        "np.random.seed(3)\n",
        "tf.random.set_seed(3)"
      ],
      "execution_count": 29,
      "outputs": []
    },
    {
      "cell_type": "markdown",
      "metadata": {
        "id": "Y_y_LObzWF13"
      },
      "source": [
        "`np.loadtxt(경로, delimiter)` : numpy에서 파일을 읽기 위한 함수\n",
        "\n",
        " - `delimiter`: delimiter는 구분자"
      ]
    },
    {
      "cell_type": "markdown",
      "metadata": {
        "id": "6vG2bTMEX4uQ"
      },
      "source": [
        "폴란드의 브로츠와프 의과대학에서 2013년 공개한 폐암 수술 환자들의 \n",
        "\n",
        "수술 전 진단 데이터와 수술 후 생존 결과를 기록한 실제 의료 기록 데이터.\n",
        "\n",
        "\n",
        "- 하나의 행: 한 명의 환자 (총 470명)\n",
        "- 앞의 17개 정보는 종양의 유형, 폐활량, 호흡 곤란 여부, 고통 정도, 기침, 흡연, 천식 여부 등 \n",
        "- 마지막 1개 정보는 수술 후 생존 결과. 1 생존/0 사망\n",
        "\n",
        "\n",
        "> 이번 학습의 목표: 1번째부터 17번째까지의 항목을 분석하여 18번째 항목, 즉 수술 후 생존 또는 사망을 맞히기"
      ]
    },
    {
      "cell_type": "code",
      "metadata": {
        "id": "zvm4awBHVqDs",
        "outputId": "a9de179b-0e8b-482d-eeae-8bc448777649",
        "colab": {
          "base_uri": "https://localhost:8080/",
          "height": 148
        }
      },
      "source": [
        "# 준비된 수술 환자 데이터를 불러오기\n",
        "# 해당 csv 파일을 메모장으로 열어보면 ,로 구분되어 있다\n",
        "Data_set = np.loadtxt(\"/content/data/1029-4-ThoraricSurgery.csv\", delimiter=\",\")\n",
        "Data_set"
      ],
      "execution_count": 30,
      "outputs": [
        {
          "output_type": "execute_result",
          "data": {
            "text/plain": [
              "array([[293.  ,   1.  ,   3.8 , ...,   0.  ,  62.  ,   0.  ],\n",
              "       [  1.  ,   2.  ,   2.88, ...,   0.  ,  60.  ,   0.  ],\n",
              "       [  8.  ,   2.  ,   3.19, ...,   0.  ,  66.  ,   1.  ],\n",
              "       ...,\n",
              "       [406.  ,   6.  ,   5.36, ...,   0.  ,  62.  ,   0.  ],\n",
              "       [ 25.  ,   8.  ,   4.32, ...,   0.  ,  58.  ,   1.  ],\n",
              "       [447.  ,   8.  ,   5.2 , ...,   0.  ,  49.  ,   0.  ]])"
            ]
          },
          "metadata": {
            "tags": []
          },
          "execution_count": 30
        }
      ]
    },
    {
      "cell_type": "markdown",
      "metadata": {
        "id": "ZLJp5jk8Yo9j"
      },
      "source": [
        "- X = Data_set[:,0:17] : 전체 환자에 대하여(:) 0부터 17번까지의 속성 (결과를 도출하기 위한 값)\n",
        "- Y = Data_set[:,17] : 전체 환자에 대하여(:) 18번째 속성. 즉 생존여부"
      ]
    },
    {
      "cell_type": "code",
      "metadata": {
        "id": "DdObXbIdVrmU"
      },
      "source": [
        "# 환자의 기록과 수술 결과를 X와 Y로 구분하여 저장\n",
        "X = Data_set[:,0:17]\n",
        "Y = Data_set[:,17]\n",
        "# X\n",
        "# Y"
      ],
      "execution_count": 31,
      "outputs": []
    },
    {
      "cell_type": "markdown",
      "metadata": {
        "id": "Mbf-R2JQZP-m"
      },
      "source": [
        "`Sequential()` 함수: 딥러닝의 구조를 한 층 한 층 쉽게 쌓아올릴 수 있게 해 줌. \n",
        "\n",
        "Sequential() 함수를 선언하고 model.add() 함수로 필요한 층을 차례로 추가할 수 있음."
      ]
    },
    {
      "cell_type": "markdown",
      "metadata": {
        "id": "jxBQISoZeGcS"
      },
      "source": [
        "### keras 핵심 메서드\n",
        "\n",
        "```python\n",
        "- Sequential()\n",
        "   입력층, 은닉층, 출력층처럼 순차적인 모델의 집합을 구성하기 위해 사용. Sequential()을 model로 선언한 뒤에 model.add()라는 코드를 통해 층을 단계적으로 추가합니다.\n",
        "\n",
        "- add()\n",
        "층을 추가하는 메서드\n",
        "\n",
        "- Dense()\n",
        "모든 노드들이 모두 결합된 전결합층(fully-conntected layer)을 추가하는 메서드\n",
        "  첫번째 인자 = 출력 뉴런의 수.\n",
        "  input_dim = 입력 뉴런의 수. (입력의 차원)\n",
        "  activation = 활성화 함수.\n",
        "      - linear : 디폴트 값으로 별도 활성화 함수 없이 입력 뉴런과 가중치의 계산 결과 그대로 출력. Ex) 선형 회귀\n",
        "      - sigmoid : 시그모이드 함수. 이진 분류 문제에서 출력층에 주로 사용되는 활성화 함수.\n",
        "      - softmax : 소프트맥스 함수. 셋 이상을 분류하는 다중 클래스 분류 문제에서 출력층에 주로 사용되는 활성화 함수.\n",
        "      - relu : 렐루 함수. 은닉층에 주로 사용되는 활성화 함수.\n",
        "\n",
        "```"
      ]
    },
    {
      "cell_type": "code",
      "metadata": {
        "id": "oeKngilUVs4w"
      },
      "source": [
        "# 딥러닝 구조를 결정(모델을 설정하고 실행)\n",
        "model = Sequential()\n",
        "model.add(Dense(30, input_dim=17, activation='relu'))\n",
        "model.add(Dense(1, activation='sigmoid'))"
      ],
      "execution_count": 32,
      "outputs": []
    },
    {
      "cell_type": "markdown",
      "metadata": {
        "id": "OIU6txCIdJKx"
      },
      "source": [
        "모델을 훈련하기 전에 필요한 몇 가지 설정(어떻게 학습할 것인가)이 모델 *컴파일* 단계에서 추가됩니다:\n",
        "\n",
        "* *손실 함수*(Loss function)-훈련 하는 동안 모델의 오차를 측정합니다. 모델의 학습이 올바른 방향으로 향하도록 이 함수를 최소화해야 합니다.\n",
        "* *옵티마이저*(Optimizer)-데이터와 손실 함수를 바탕으로 모델의 업데이트 방법을 결정합니다.\n",
        "* *지표*(Metrics)-훈련 단계와 테스트 단계를 모니터링하기 위해 사용합니다. 다음 예에서는 올바르게 분류된 이미지의 비율인 *정확도*를 사용합니다."
      ]
    },
    {
      "cell_type": "code",
      "metadata": {
        "id": "cJK6nZoUVuSs"
      },
      "source": [
        "# 모델 컴파일\n",
        "model.compile(loss='mean_squared_error', optimizer='adam', metrics=['accuracy'])"
      ],
      "execution_count": 33,
      "outputs": []
    },
    {
      "cell_type": "markdown",
      "metadata": {
        "id": "KQcQue8Tdg1l"
      },
      "source": [
        "model.fit 메서드를 호출하면 모델이 훈련 데이터를 학습\n",
        "\n",
        "> `model.fit()`에 대한 너무 좋은 글\n",
        "\n",
        "https://tykimos.github.io/2017/03/25/Fit_Talk/"
      ]
    },
    {
      "cell_type": "code",
      "metadata": {
        "id": "X7qxOFZ9dWbF",
        "outputId": "18940374-4547-483c-dd83-5ba488070c76",
        "colab": {
          "base_uri": "https://localhost:8080/",
          "height": 1000
        }
      },
      "source": [
        "# 딥러닝 훈련\n",
        "model.fit(X, Y, epochs=100, batch_size=10)"
      ],
      "execution_count": 34,
      "outputs": [
        {
          "output_type": "stream",
          "text": [
            "Epoch 1/100\n",
            "47/47 [==============================] - 0s 970us/step - loss: 0.1485 - accuracy: 0.8426\n",
            "Epoch 2/100\n",
            "47/47 [==============================] - 0s 1ms/step - loss: 0.1402 - accuracy: 0.8511\n",
            "Epoch 3/100\n",
            "47/47 [==============================] - 0s 1ms/step - loss: 0.1433 - accuracy: 0.8489\n",
            "Epoch 4/100\n",
            "47/47 [==============================] - 0s 2ms/step - loss: 0.1395 - accuracy: 0.8511\n",
            "Epoch 5/100\n",
            "47/47 [==============================] - 0s 1ms/step - loss: 0.1387 - accuracy: 0.8468\n",
            "Epoch 6/100\n",
            "47/47 [==============================] - 0s 1ms/step - loss: 0.1413 - accuracy: 0.8511\n",
            "Epoch 7/100\n",
            "47/47 [==============================] - 0s 1ms/step - loss: 0.1341 - accuracy: 0.8468\n",
            "Epoch 8/100\n",
            "47/47 [==============================] - 0s 954us/step - loss: 0.1359 - accuracy: 0.8511\n",
            "Epoch 9/100\n",
            "47/47 [==============================] - 0s 987us/step - loss: 0.1333 - accuracy: 0.8532\n",
            "Epoch 10/100\n",
            "47/47 [==============================] - 0s 928us/step - loss: 0.1398 - accuracy: 0.8468\n",
            "Epoch 11/100\n",
            "47/47 [==============================] - 0s 1ms/step - loss: 0.1433 - accuracy: 0.8511\n",
            "Epoch 12/100\n",
            "47/47 [==============================] - 0s 1ms/step - loss: 0.1389 - accuracy: 0.8511\n",
            "Epoch 13/100\n",
            "47/47 [==============================] - 0s 999us/step - loss: 0.1368 - accuracy: 0.8511\n",
            "Epoch 14/100\n",
            "47/47 [==============================] - 0s 934us/step - loss: 0.1375 - accuracy: 0.8511\n",
            "Epoch 15/100\n",
            "47/47 [==============================] - 0s 958us/step - loss: 0.1383 - accuracy: 0.8511\n",
            "Epoch 16/100\n",
            "47/47 [==============================] - 0s 997us/step - loss: 0.1319 - accuracy: 0.8532\n",
            "Epoch 17/100\n",
            "47/47 [==============================] - 0s 1ms/step - loss: 0.1449 - accuracy: 0.8511\n",
            "Epoch 18/100\n",
            "47/47 [==============================] - 0s 951us/step - loss: 0.1425 - accuracy: 0.8489\n",
            "Epoch 19/100\n",
            "47/47 [==============================] - 0s 1ms/step - loss: 0.1402 - accuracy: 0.8511\n",
            "Epoch 20/100\n",
            "47/47 [==============================] - 0s 1ms/step - loss: 0.1344 - accuracy: 0.8489\n",
            "Epoch 21/100\n",
            "47/47 [==============================] - 0s 978us/step - loss: 0.1413 - accuracy: 0.8511\n",
            "Epoch 22/100\n",
            "47/47 [==============================] - 0s 1ms/step - loss: 0.1356 - accuracy: 0.8489\n",
            "Epoch 23/100\n",
            "47/47 [==============================] - 0s 1ms/step - loss: 0.1361 - accuracy: 0.8489\n",
            "Epoch 24/100\n",
            "47/47 [==============================] - 0s 1ms/step - loss: 0.1368 - accuracy: 0.8532\n",
            "Epoch 25/100\n",
            "47/47 [==============================] - 0s 1ms/step - loss: 0.1338 - accuracy: 0.8489\n",
            "Epoch 26/100\n",
            "47/47 [==============================] - 0s 1ms/step - loss: 0.1354 - accuracy: 0.8532\n",
            "Epoch 27/100\n",
            "47/47 [==============================] - 0s 948us/step - loss: 0.1332 - accuracy: 0.8553\n",
            "Epoch 28/100\n",
            "47/47 [==============================] - 0s 972us/step - loss: 0.1407 - accuracy: 0.8489\n",
            "Epoch 29/100\n",
            "47/47 [==============================] - 0s 937us/step - loss: 0.1298 - accuracy: 0.8489\n",
            "Epoch 30/100\n",
            "47/47 [==============================] - 0s 1ms/step - loss: 0.1285 - accuracy: 0.8511\n",
            "Epoch 31/100\n",
            "47/47 [==============================] - 0s 1ms/step - loss: 0.1451 - accuracy: 0.8511\n",
            "Epoch 32/100\n",
            "47/47 [==============================] - 0s 1ms/step - loss: 0.1411 - accuracy: 0.8511\n",
            "Epoch 33/100\n",
            "47/47 [==============================] - 0s 1ms/step - loss: 0.1390 - accuracy: 0.8532\n",
            "Epoch 34/100\n",
            "47/47 [==============================] - 0s 1ms/step - loss: 0.1386 - accuracy: 0.8532\n",
            "Epoch 35/100\n",
            "47/47 [==============================] - 0s 958us/step - loss: 0.1353 - accuracy: 0.8447\n",
            "Epoch 36/100\n",
            "47/47 [==============================] - 0s 969us/step - loss: 0.1357 - accuracy: 0.8447\n",
            "Epoch 37/100\n",
            "47/47 [==============================] - 0s 1ms/step - loss: 0.1412 - accuracy: 0.8511\n",
            "Epoch 38/100\n",
            "47/47 [==============================] - 0s 1ms/step - loss: 0.1385 - accuracy: 0.8511\n",
            "Epoch 39/100\n",
            "47/47 [==============================] - 0s 1ms/step - loss: 0.1349 - accuracy: 0.8532\n",
            "Epoch 40/100\n",
            "47/47 [==============================] - 0s 1ms/step - loss: 0.1272 - accuracy: 0.8553\n",
            "Epoch 41/100\n",
            "47/47 [==============================] - 0s 1ms/step - loss: 0.1403 - accuracy: 0.8468\n",
            "Epoch 42/100\n",
            "47/47 [==============================] - 0s 956us/step - loss: 0.1333 - accuracy: 0.8532\n",
            "Epoch 43/100\n",
            "47/47 [==============================] - 0s 1ms/step - loss: 0.1306 - accuracy: 0.8532\n",
            "Epoch 44/100\n",
            "47/47 [==============================] - 0s 1ms/step - loss: 0.1332 - accuracy: 0.8532\n",
            "Epoch 45/100\n",
            "47/47 [==============================] - 0s 957us/step - loss: 0.1396 - accuracy: 0.8511\n",
            "Epoch 46/100\n",
            "47/47 [==============================] - 0s 975us/step - loss: 0.1390 - accuracy: 0.8489\n",
            "Epoch 47/100\n",
            "47/47 [==============================] - 0s 946us/step - loss: 0.1378 - accuracy: 0.8511\n",
            "Epoch 48/100\n",
            "47/47 [==============================] - 0s 995us/step - loss: 0.1337 - accuracy: 0.8511\n",
            "Epoch 49/100\n",
            "47/47 [==============================] - 0s 1ms/step - loss: 0.1352 - accuracy: 0.8489\n",
            "Epoch 50/100\n",
            "47/47 [==============================] - 0s 1ms/step - loss: 0.1306 - accuracy: 0.8532\n",
            "Epoch 51/100\n",
            "47/47 [==============================] - 0s 1ms/step - loss: 0.1248 - accuracy: 0.8553\n",
            "Epoch 52/100\n",
            "47/47 [==============================] - 0s 1ms/step - loss: 0.1236 - accuracy: 0.8532\n",
            "Epoch 53/100\n",
            "47/47 [==============================] - 0s 1ms/step - loss: 0.1257 - accuracy: 0.8532\n",
            "Epoch 54/100\n",
            "47/47 [==============================] - 0s 1ms/step - loss: 0.1315 - accuracy: 0.8511\n",
            "Epoch 55/100\n",
            "47/47 [==============================] - 0s 1ms/step - loss: 0.1294 - accuracy: 0.8468\n",
            "Epoch 56/100\n",
            "47/47 [==============================] - 0s 1ms/step - loss: 0.1274 - accuracy: 0.8532\n",
            "Epoch 57/100\n",
            "47/47 [==============================] - 0s 1ms/step - loss: 0.1252 - accuracy: 0.8511\n",
            "Epoch 58/100\n",
            "47/47 [==============================] - 0s 1ms/step - loss: 0.1374 - accuracy: 0.8447\n",
            "Epoch 59/100\n",
            "47/47 [==============================] - 0s 1ms/step - loss: 0.1401 - accuracy: 0.8489\n",
            "Epoch 60/100\n",
            "47/47 [==============================] - 0s 1ms/step - loss: 0.1336 - accuracy: 0.8532\n",
            "Epoch 61/100\n",
            "47/47 [==============================] - 0s 1ms/step - loss: 0.1293 - accuracy: 0.8596\n",
            "Epoch 62/100\n",
            "47/47 [==============================] - 0s 1ms/step - loss: 0.1267 - accuracy: 0.8511\n",
            "Epoch 63/100\n",
            "47/47 [==============================] - 0s 993us/step - loss: 0.1287 - accuracy: 0.8489\n",
            "Epoch 64/100\n",
            "47/47 [==============================] - 0s 1ms/step - loss: 0.1269 - accuracy: 0.8532\n",
            "Epoch 65/100\n",
            "47/47 [==============================] - 0s 1ms/step - loss: 0.1221 - accuracy: 0.8574\n",
            "Epoch 66/100\n",
            "47/47 [==============================] - 0s 1ms/step - loss: 0.1273 - accuracy: 0.8468\n",
            "Epoch 67/100\n",
            "47/47 [==============================] - 0s 963us/step - loss: 0.1206 - accuracy: 0.8532\n",
            "Epoch 68/100\n",
            "47/47 [==============================] - 0s 1ms/step - loss: 0.1235 - accuracy: 0.8532\n",
            "Epoch 69/100\n",
            "47/47 [==============================] - 0s 985us/step - loss: 0.1235 - accuracy: 0.8553\n",
            "Epoch 70/100\n",
            "47/47 [==============================] - 0s 957us/step - loss: 0.1217 - accuracy: 0.8532\n",
            "Epoch 71/100\n",
            "47/47 [==============================] - 0s 960us/step - loss: 0.1295 - accuracy: 0.8426\n",
            "Epoch 72/100\n",
            "47/47 [==============================] - 0s 1ms/step - loss: 0.1283 - accuracy: 0.8447\n",
            "Epoch 73/100\n",
            "47/47 [==============================] - 0s 1ms/step - loss: 0.1355 - accuracy: 0.8532\n",
            "Epoch 74/100\n",
            "47/47 [==============================] - 0s 1ms/step - loss: 0.1311 - accuracy: 0.8617\n",
            "Epoch 75/100\n",
            "47/47 [==============================] - 0s 1ms/step - loss: 0.1223 - accuracy: 0.8553\n",
            "Epoch 76/100\n",
            "47/47 [==============================] - 0s 1ms/step - loss: 0.1308 - accuracy: 0.8574\n",
            "Epoch 77/100\n",
            "47/47 [==============================] - 0s 1ms/step - loss: 0.1316 - accuracy: 0.8468\n",
            "Epoch 78/100\n",
            "47/47 [==============================] - 0s 1ms/step - loss: 0.1223 - accuracy: 0.8574\n",
            "Epoch 79/100\n",
            "47/47 [==============================] - 0s 1ms/step - loss: 0.1202 - accuracy: 0.8574\n",
            "Epoch 80/100\n",
            "47/47 [==============================] - 0s 1ms/step - loss: 0.1228 - accuracy: 0.8532\n",
            "Epoch 81/100\n",
            "47/47 [==============================] - 0s 971us/step - loss: 0.1281 - accuracy: 0.8596\n",
            "Epoch 82/100\n",
            "47/47 [==============================] - 0s 1ms/step - loss: 0.1229 - accuracy: 0.8553\n",
            "Epoch 83/100\n",
            "47/47 [==============================] - 0s 1ms/step - loss: 0.1237 - accuracy: 0.8596\n",
            "Epoch 84/100\n",
            "47/47 [==============================] - 0s 1ms/step - loss: 0.1331 - accuracy: 0.8404\n",
            "Epoch 85/100\n",
            "47/47 [==============================] - 0s 1ms/step - loss: 0.1364 - accuracy: 0.8532\n",
            "Epoch 86/100\n",
            "47/47 [==============================] - 0s 980us/step - loss: 0.1330 - accuracy: 0.8574\n",
            "Epoch 87/100\n",
            "47/47 [==============================] - 0s 1ms/step - loss: 0.1194 - accuracy: 0.8638\n",
            "Epoch 88/100\n",
            "47/47 [==============================] - 0s 996us/step - loss: 0.1184 - accuracy: 0.8511\n",
            "Epoch 89/100\n",
            "47/47 [==============================] - 0s 967us/step - loss: 0.1236 - accuracy: 0.8574\n",
            "Epoch 90/100\n",
            "47/47 [==============================] - 0s 970us/step - loss: 0.1315 - accuracy: 0.8532\n",
            "Epoch 91/100\n",
            "47/47 [==============================] - 0s 1ms/step - loss: 0.1352 - accuracy: 0.8489\n",
            "Epoch 92/100\n",
            "47/47 [==============================] - 0s 1ms/step - loss: 0.1264 - accuracy: 0.8574\n",
            "Epoch 93/100\n",
            "47/47 [==============================] - 0s 1ms/step - loss: 0.1180 - accuracy: 0.8574\n",
            "Epoch 94/100\n",
            "47/47 [==============================] - 0s 1ms/step - loss: 0.1228 - accuracy: 0.8596\n",
            "Epoch 95/100\n",
            "47/47 [==============================] - 0s 993us/step - loss: 0.1216 - accuracy: 0.8596\n",
            "Epoch 96/100\n",
            "47/47 [==============================] - 0s 980us/step - loss: 0.1290 - accuracy: 0.8532\n",
            "Epoch 97/100\n",
            "47/47 [==============================] - 0s 1ms/step - loss: 0.1221 - accuracy: 0.8553\n",
            "Epoch 98/100\n",
            "47/47 [==============================] - 0s 1ms/step - loss: 0.1318 - accuracy: 0.8468\n",
            "Epoch 99/100\n",
            "47/47 [==============================] - 0s 1ms/step - loss: 0.1332 - accuracy: 0.8574\n",
            "Epoch 100/100\n",
            "47/47 [==============================] - 0s 1ms/step - loss: 0.1185 - accuracy: 0.8660\n"
          ],
          "name": "stdout"
        },
        {
          "output_type": "execute_result",
          "data": {
            "text/plain": [
              "<tensorflow.python.keras.callbacks.History at 0x7fa90222ec18>"
            ]
          },
          "metadata": {
            "tags": []
          },
          "execution_count": 34
        }
      ]
    },
    {
      "cell_type": "markdown",
      "metadata": {
        "id": "YsNvPHJ0Xauy"
      },
      "source": [
        "결론: 이 regression model에 새로운 환자의 정보를 입력하면 이 환자의 수술 후 생존율을 86% 이상 맞힌다"
      ]
    }
  ]
}